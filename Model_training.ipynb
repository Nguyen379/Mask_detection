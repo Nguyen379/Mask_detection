{
  "nbformat": 4,
  "nbformat_minor": 0,
  "metadata": {
    "colab": {
      "provenance": [],
      "mount_file_id": "1nzNDS6CUJ33i8qPqlsBPFeOnrbdTuPDF",
      "authorship_tag": "ABX9TyOR+W5tRv3hQbQgtPh3oAth",
      "include_colab_link": true
    },
    "kernelspec": {
      "name": "python3",
      "display_name": "Python 3"
    },
    "language_info": {
      "name": "python"
    },
    "accelerator": "GPU"
  },
  "cells": [
    {
      "cell_type": "markdown",
      "metadata": {
        "id": "view-in-github",
        "colab_type": "text"
      },
      "source": [
        "<a href=\"https://colab.research.google.com/github/Nguyen379/Mask_detection/blob/main/Model_training.ipynb\" target=\"_parent\"><img src=\"https://colab.research.google.com/assets/colab-badge.svg\" alt=\"Open In Colab\"/></a>"
      ]
    },
    {
      "cell_type": "code",
      "execution_count": null,
      "metadata": {
        "colab": {
          "base_uri": "https://localhost:8080/",
          "height": 36
        },
        "id": "UB_SmChRNM4B",
        "outputId": "cf479d12-89ce-4187-931c-0f1335c25305"
      },
      "outputs": [
        {
          "output_type": "execute_result",
          "data": {
            "application/vnd.google.colaboratory.intrinsic+json": {
              "type": "string"
            },
            "text/plain": [
              "'/content'"
            ]
          },
          "metadata": {},
          "execution_count": 2
        }
      ],
      "source": [
        "%pwd"
      ]
    },
    {
      "cell_type": "code",
      "source": [
        "%cd \"/content/drive/MyDrive/Colab Notebooks/AI4E/Final Project/Mask detection\""
      ],
      "metadata": {
        "colab": {
          "base_uri": "https://localhost:8080/"
        },
        "id": "yomqwKt3Cc49",
        "outputId": "ae4655ff-76ad-4034-b1a6-d0714b06f78b"
      },
      "execution_count": null,
      "outputs": [
        {
          "output_type": "stream",
          "name": "stdout",
          "text": [
            "/content/drive/MyDrive/Colab Notebooks/AI4E/Final Project/Mask detection\n"
          ]
        }
      ]
    },
    {
      "cell_type": "code",
      "source": [
        "%pwd"
      ],
      "metadata": {
        "colab": {
          "base_uri": "https://localhost:8080/",
          "height": 36
        },
        "id": "N_mUi-YZCeWe",
        "outputId": "8e223705-03cb-4a41-f40b-8a964fc22398"
      },
      "execution_count": null,
      "outputs": [
        {
          "output_type": "execute_result",
          "data": {
            "application/vnd.google.colaboratory.intrinsic+json": {
              "type": "string"
            },
            "text/plain": [
              "'/content/drive/MyDrive/Colab Notebooks/AI4E/Final Project/Mask detection'"
            ]
          },
          "metadata": {},
          "execution_count": 4
        }
      ]
    },
    {
      "cell_type": "code",
      "source": [
        "%ls\n"
      ],
      "metadata": {
        "colab": {
          "base_uri": "https://localhost:8080/"
        },
        "id": "U7TG7TKeCgAa",
        "outputId": "62d8da30-eda3-42d4-a3f2-72f984f34e34"
      },
      "execution_count": null,
      "outputs": [
        {
          "output_type": "stream",
          "name": "stdout",
          "text": [
            " Analyze_data.ipynb    \u001b[0m\u001b[01;34mmasks_no_improper\u001b[0m/     Ref_image.png\n",
            "\u001b[01;34m'Face Mask Dataset'\u001b[0m/   \u001b[01;34mmodel_checkpoint\u001b[0m/      \u001b[01;34mscores\u001b[0m/\n",
            " \u001b[01;34mhaarcascade\u001b[0m/          Model_training.ipynb\n"
          ]
        }
      ]
    },
    {
      "cell_type": "code",
      "source": [
        "import numpy as np\n",
        "import pandas as pd\n",
        "import cv2\n",
        "import os\n",
        "import time"
      ],
      "metadata": {
        "id": "_cXX_gxKCgpV"
      },
      "execution_count": null,
      "outputs": []
    },
    {
      "cell_type": "code",
      "source": [
        "train_dir = \"/content/drive/MyDrive/Colab Notebooks/AI4E/Final Project/Mask detection/Face Mask Dataset/Train\"\n",
        "test_dir = \"/content/drive/MyDrive/Colab Notebooks/AI4E/Final Project/Mask detection/Face Mask Dataset/Test\"\n",
        "val_dir = \"/content/drive/MyDrive/Colab Notebooks/AI4E/Final Project/Mask detection/Face Mask Dataset/Validation\""
      ],
      "metadata": {
        "id": "AVLb7kyEF8jb"
      },
      "execution_count": null,
      "outputs": []
    },
    {
      "cell_type": "code",
      "source": [
        "import tensorflow as tf\n",
        "from tensorflow.keras import Sequential\n",
        "from tensorflow.keras.layers import Flatten, Dense\n",
        "from tensorflow.keras.preprocessing.image import ImageDataGenerator\n",
        "import pickle"
      ],
      "metadata": {
        "id": "E1SbL0Jlmz54"
      },
      "execution_count": null,
      "outputs": []
    },
    {
      "cell_type": "code",
      "source": [
        "tf.__version__"
      ],
      "metadata": {
        "colab": {
          "base_uri": "https://localhost:8080/",
          "height": 36
        },
        "id": "pwTDnCkSvB9A",
        "outputId": "6bea64ff-b88b-4d01-c007-93c3947c723b"
      },
      "execution_count": null,
      "outputs": [
        {
          "output_type": "execute_result",
          "data": {
            "application/vnd.google.colaboratory.intrinsic+json": {
              "type": "string"
            },
            "text/plain": [
              "'2.7.0'"
            ]
          },
          "metadata": {},
          "execution_count": 7
        }
      ]
    },
    {
      "cell_type": "markdown",
      "source": [
        "Ko dung vertical flip,\n",
        "Can split thi subset"
      ],
      "metadata": {
        "id": "4RDANbiz98b9"
      }
    },
    {
      "cell_type": "markdown",
      "source": [
        "# EfficientNetB0"
      ],
      "metadata": {
        "id": "je1IwXFRJKdv"
      }
    },
    {
      "cell_type": "code",
      "source": [
        "from tensorflow.keras.applications.efficientnet import EfficientNetB0, preprocess_input\n",
        "from tensorflow.keras.callbacks import ModelCheckpoint, EarlyStopping, ReduceLROnPlateau"
      ],
      "metadata": {
        "id": "eCwk0qVpmvCK"
      },
      "execution_count": null,
      "outputs": []
    },
    {
      "cell_type": "code",
      "source": [
        "# The Keras ResNet pretrained weights are learned on a dataset with \n",
        "#different preprocessing than Inception or VGG.\n",
        "# It seems similar to Efficientnet\n",
        "\n",
        "train_datagen = ImageDataGenerator(preprocessing_function=preprocess_input, \n",
        "                                   horizontal_flip=True, \n",
        "                                   zoom_range=0.2,\n",
        "                                   shear_range=0.2,\n",
        "                                   rotation_range=20,\n",
        "                                   width_shift_range=0.2,\n",
        "                                   height_shift_range=0.2)\n",
        "train_generator = train_datagen.flow_from_directory(directory=train_dir, \n",
        "                                                    target_size=(224,224),\n",
        "                                                    class_mode='categorical',\n",
        "                                                    batch_size=32,\n",
        "                                                    shuffle=True)\n",
        "\n",
        "val_datagen = ImageDataGenerator(preprocessing_function=preprocess_input)\n",
        "val_generator = train_datagen.flow_from_directory(directory=val_dir,\n",
        "                                                  target_size=(224,224), \n",
        "                                                  class_mode='categorical', \n",
        "                                                  batch_size=32,\n",
        "                                                  shuffle=True)\n",
        "\n",
        "test_datagen = ImageDataGenerator(preprocessing_function=preprocess_input)\n",
        "test_generator = train_datagen.flow_from_directory(directory=val_dir,\n",
        "                                                   target_size=(224,224),\n",
        "                                                   class_mode='categorical',\n",
        "                                                   batch_size=32,\n",
        "                                                   shuffle=True)"
      ],
      "metadata": {
        "colab": {
          "base_uri": "https://localhost:8080/"
        },
        "id": "GmxfZoDn__DT",
        "outputId": "e0056325-c562-47e3-c99f-0dad69ba3694"
      },
      "execution_count": null,
      "outputs": [
        {
          "output_type": "stream",
          "name": "stdout",
          "text": [
            "Found 10040 images belonging to 2 classes.\n",
            "Found 800 images belonging to 2 classes.\n",
            "Found 800 images belonging to 2 classes.\n"
          ]
        }
      ]
    },
    {
      "cell_type": "code",
      "source": [
        "efn = EfficientNetB0(weights=\"imagenet\", \n",
        "                     include_top = False, \n",
        "                     input_shape = (224,224,3))\n",
        "for layer in efn.layers:\n",
        "    layer.trainable = False\n",
        "\n",
        "model = Sequential()\n",
        "model.add(efn)\n",
        "model.add(Flatten())\n",
        "model.add(Dense(2, activation = 'sigmoid'))\n",
        "model.summary()"
      ],
      "metadata": {
        "colab": {
          "base_uri": "https://localhost:8080/"
        },
        "id": "xv4Ltu0N_rHs",
        "outputId": "c7772dcb-ad50-45a3-abe8-002f07060243"
      },
      "execution_count": null,
      "outputs": [
        {
          "output_type": "stream",
          "name": "stdout",
          "text": [
            "Downloading data from https://storage.googleapis.com/keras-applications/efficientnetb0_notop.h5\n",
            "16711680/16705208 [==============================] - 0s 0us/step\n",
            "16719872/16705208 [==============================] - 0s 0us/step\n",
            "Model: \"sequential_1\"\n",
            "_________________________________________________________________\n",
            " Layer (type)                Output Shape              Param #   \n",
            "=================================================================\n",
            " efficientnetb0 (Functional)  (None, 7, 7, 1280)       4049571   \n",
            "                                                                 \n",
            " flatten_1 (Flatten)         (None, 62720)             0         \n",
            "                                                                 \n",
            " dense_1 (Dense)             (None, 2)                 125442    \n",
            "                                                                 \n",
            "=================================================================\n",
            "Total params: 4,175,013\n",
            "Trainable params: 125,442\n",
            "Non-trainable params: 4,049,571\n",
            "_________________________________________________________________\n"
          ]
        }
      ]
    },
    {
      "cell_type": "code",
      "source": [
        "patient = 4\n",
        "save_path = \"model_checkpoint/efn.h5\"\n",
        "callbacks_list = [\n",
        "    EarlyStopping(\n",
        "        monitor='val_loss', \n",
        "        patience=patient, \n",
        "        mode='min', \n",
        "        verbose=1\n",
        "    ),\n",
        "    ReduceLROnPlateau(\n",
        "        monitor = 'val_loss', \n",
        "        factor = 0.5, \n",
        "        patience = patient / 2, \n",
        "        min_lr=1e-6,\n",
        "        verbose=1,\n",
        "        mode='min'\n",
        "    ),\n",
        "    ModelCheckpoint(save_path, \n",
        "                    monitor=\"val_accuracy\",\n",
        "                    mode=\"max\",\n",
        "                    verbose=1,\n",
        "                    save_best_only=True)\n",
        "    ]\n",
        "\n"
      ],
      "metadata": {
        "id": "74BPyns7KAWD"
      },
      "execution_count": null,
      "outputs": []
    },
    {
      "cell_type": "code",
      "source": [
        "model.compile(optimizer=\"adam\", \n",
        "              loss=\"binary_crossentropy\", \n",
        "              metrics =\"accuracy\")"
      ],
      "metadata": {
        "id": "e2VLl1LdMSWj"
      },
      "execution_count": null,
      "outputs": []
    },
    {
      "cell_type": "code",
      "source": [
        "start = time.time()\n",
        "history = model.fit(train_generator,\n",
        "                    batch_size=32,\n",
        "                    epochs=20,\n",
        "                    validation_data=val_generator,\n",
        "                    callbacks=callbacks_list)"
      ],
      "metadata": {
        "colab": {
          "base_uri": "https://localhost:8080/"
        },
        "id": "lkxHjBizOLE8",
        "outputId": "33901cfb-0d2f-4545-fe75-523b1c394042"
      },
      "execution_count": null,
      "outputs": [
        {
          "output_type": "stream",
          "name": "stdout",
          "text": [
            "Epoch 1/20\n",
            "314/314 [==============================] - ETA: 0s - loss: 0.0678 - accuracy: 0.9875\n",
            "Epoch 00001: val_accuracy improved from -inf to 0.99875, saving model to model_checkpoint/efn.h5\n"
          ]
        },
        {
          "output_type": "stream",
          "name": "stderr",
          "text": [
            "/usr/local/lib/python3.7/dist-packages/keras/engine/functional.py:1410: CustomMaskWarning: Custom mask layers require a config and must override get_config. When loading, the custom mask layer must be passed to the custom_objects argument.\n",
            "  layer_config = serialize_layer_fn(layer)\n"
          ]
        },
        {
          "output_type": "stream",
          "name": "stdout",
          "text": [
            "\b\b\b\b\b\b\b\b\b\b\b\b\b\b\b\b\b\b\b\b\b\b\b\b\b\b\b\b\b\b\b\b\b\b\b\b\b\b\b\b\b\b\b\b\b\b\b\b\b\b\b\b\b\b\b\b\b\b\b\b\b\b\b\b\b\b\b\b\b\b\b\b\b\b\b\b\b\b\b\b\b\b\b\b\r314/314 [==============================] - 197s 603ms/step - loss: 0.0678 - accuracy: 0.9875 - val_loss: 0.0249 - val_accuracy: 0.9987 - lr: 0.0010\n",
            "Epoch 2/20\n",
            "314/314 [==============================] - ETA: 0s - loss: 0.0539 - accuracy: 0.9935\n",
            "Epoch 00002: val_accuracy did not improve from 0.99875\n",
            "314/314 [==============================] - 181s 578ms/step - loss: 0.0539 - accuracy: 0.9935 - val_loss: 0.0784 - val_accuracy: 0.9900 - lr: 0.0010\n",
            "Epoch 3/20\n",
            "314/314 [==============================] - ETA: 0s - loss: 0.0460 - accuracy: 0.9950\n",
            "Epoch 00003: ReduceLROnPlateau reducing learning rate to 0.0005000000237487257.\n",
            "\n",
            "Epoch 00003: val_accuracy did not improve from 0.99875\n",
            "314/314 [==============================] - 184s 585ms/step - loss: 0.0460 - accuracy: 0.9950 - val_loss: 0.0819 - val_accuracy: 0.9937 - lr: 0.0010\n",
            "Epoch 4/20\n",
            "314/314 [==============================] - ETA: 0s - loss: 0.0352 - accuracy: 0.9961\n",
            "Epoch 00004: val_accuracy did not improve from 0.99875\n",
            "314/314 [==============================] - 178s 565ms/step - loss: 0.0352 - accuracy: 0.9961 - val_loss: 0.0125 - val_accuracy: 0.9987 - lr: 5.0000e-04\n",
            "Epoch 5/20\n",
            "314/314 [==============================] - ETA: 0s - loss: 0.0238 - accuracy: 0.9974\n",
            "Epoch 00005: val_accuracy did not improve from 0.99875\n",
            "314/314 [==============================] - 181s 577ms/step - loss: 0.0238 - accuracy: 0.9974 - val_loss: 0.0120 - val_accuracy: 0.9962 - lr: 5.0000e-04\n",
            "Epoch 6/20\n",
            "314/314 [==============================] - ETA: 0s - loss: 0.0269 - accuracy: 0.9969\n",
            "Epoch 00006: val_accuracy did not improve from 0.99875\n",
            "314/314 [==============================] - 182s 578ms/step - loss: 0.0269 - accuracy: 0.9969 - val_loss: 0.0014 - val_accuracy: 0.9987 - lr: 5.0000e-04\n",
            "Epoch 7/20\n",
            "314/314 [==============================] - ETA: 0s - loss: 0.0245 - accuracy: 0.9965\n",
            "Epoch 00007: val_accuracy improved from 0.99875 to 1.00000, saving model to model_checkpoint/efn.h5\n",
            "314/314 [==============================] - 181s 577ms/step - loss: 0.0245 - accuracy: 0.9965 - val_loss: 0.0054 - val_accuracy: 1.0000 - lr: 5.0000e-04\n",
            "Epoch 8/20\n",
            "314/314 [==============================] - ETA: 0s - loss: 0.0309 - accuracy: 0.9972\n",
            "Epoch 00008: ReduceLROnPlateau reducing learning rate to 0.0002500000118743628.\n",
            "\n",
            "Epoch 00008: val_accuracy did not improve from 1.00000\n",
            "314/314 [==============================] - 180s 574ms/step - loss: 0.0309 - accuracy: 0.9972 - val_loss: 0.0229 - val_accuracy: 0.9975 - lr: 5.0000e-04\n",
            "Epoch 9/20\n",
            "314/314 [==============================] - ETA: 0s - loss: 0.0250 - accuracy: 0.9977\n",
            "Epoch 00009: val_accuracy did not improve from 1.00000\n",
            "314/314 [==============================] - 182s 580ms/step - loss: 0.0250 - accuracy: 0.9977 - val_loss: 0.0559 - val_accuracy: 0.9962 - lr: 2.5000e-04\n",
            "Epoch 10/20\n",
            "314/314 [==============================] - ETA: 0s - loss: 0.0129 - accuracy: 0.9984\n",
            "Epoch 00010: ReduceLROnPlateau reducing learning rate to 0.0001250000059371814.\n",
            "\n",
            "Epoch 00010: val_accuracy did not improve from 1.00000\n",
            "314/314 [==============================] - 182s 579ms/step - loss: 0.0129 - accuracy: 0.9984 - val_loss: 0.0385 - val_accuracy: 0.9975 - lr: 2.5000e-04\n",
            "Epoch 00010: early stopping\n"
          ]
        }
      ]
    },
    {
      "cell_type": "code",
      "source": [
        "total_time = time.time()-start\n",
        "print(total_time)\n",
        "# 1828.9590902328491"
      ],
      "metadata": {
        "id": "e_t0ZCx_OoVa",
        "colab": {
          "base_uri": "https://localhost:8080/"
        },
        "outputId": "7ee82f3f-0a47-4365-91af-a30b971992ee"
      },
      "execution_count": null,
      "outputs": [
        {
          "output_type": "stream",
          "name": "stdout",
          "text": [
            "1828.9590902328491\n"
          ]
        }
      ]
    },
    {
      "cell_type": "code",
      "source": [
        "model.evaluate_generator(test_generator)\n",
        "# [0.011287834495306015, 0.9962499737739563]# 1828.9590902328491\n"
      ],
      "metadata": {
        "id": "saLS7RvvOr_K",
        "colab": {
          "base_uri": "https://localhost:8080/"
        },
        "outputId": "650f30a1-6bd1-433b-894b-41345f02ea5f"
      },
      "execution_count": null,
      "outputs": [
        {
          "output_type": "stream",
          "name": "stderr",
          "text": [
            "/usr/local/lib/python3.7/dist-packages/ipykernel_launcher.py:1: UserWarning: `Model.evaluate_generator` is deprecated and will be removed in a future version. Please use `Model.evaluate`, which supports generators.\n",
            "  \"\"\"Entry point for launching an IPython kernel.\n"
          ]
        },
        {
          "output_type": "execute_result",
          "data": {
            "text/plain": [
              "[0.011287834495306015, 0.9962499737739563]"
            ]
          },
          "metadata": {},
          "execution_count": 24
        }
      ]
    },
    {
      "cell_type": "code",
      "source": [
        "import pickle\n",
        "with open('scores/efn.pkl', 'wb') as f:\n",
        "  pickle.dump(history.history, f)"
      ],
      "metadata": {
        "id": "DoTu9WPR-U9z"
      },
      "execution_count": null,
      "outputs": []
    },
    {
      "cell_type": "markdown",
      "source": [
        "# Inception V3"
      ],
      "metadata": {
        "id": "MV2QwUULiylK"
      }
    },
    {
      "cell_type": "code",
      "source": [
        "from tensorflow.keras.applications.inception_v3 import InceptionV3, preprocess_input\n",
        "from tensorflow.keras.callbacks import ModelCheckpoint, EarlyStopping, ReduceLROnPlateau"
      ],
      "metadata": {
        "id": "go2LDisiiyNR"
      },
      "execution_count": null,
      "outputs": []
    },
    {
      "cell_type": "code",
      "source": [
        "# Data augmentation\n",
        "\n",
        "train_datagen = ImageDataGenerator(rescale=1.0/255, \n",
        "                                   horizontal_flip=True, \n",
        "                                   zoom_range=0.2,\n",
        "                                   shear_range=0.2,\n",
        "                                   rotation_range=20,\n",
        "                                   width_shift_range=0.2,\n",
        "                                   height_shift_range=0.2)\n",
        "train_generator = train_datagen.flow_from_directory(directory=train_dir, \n",
        "                                                    target_size=(224,224),\n",
        "                                                    class_mode='categorical',\n",
        "                                                    batch_size=32,\n",
        "                                                    shuffle=True)\n",
        "\n",
        "val_datagen = ImageDataGenerator(rescale=1.0/255)\n",
        "val_generator = train_datagen.flow_from_directory(directory=val_dir,\n",
        "                                                  target_size=(224,224), \n",
        "                                                  class_mode='categorical', \n",
        "                                                  batch_size=32,\n",
        "                                                  shuffle=True)\n",
        "\n",
        "test_datagen = ImageDataGenerator(rescale=1.0/255)\n",
        "test_generator = train_datagen.flow_from_directory(directory=val_dir,\n",
        "                                                   target_size=(224,224),\n",
        "                                                   class_mode='categorical',\n",
        "                                                   batch_size=32,\n",
        "                                                   shuffle=True)"
      ],
      "metadata": {
        "colab": {
          "base_uri": "https://localhost:8080/"
        },
        "id": "o8IV2JSUmuwA",
        "outputId": "90f01562-f459-4afe-f0ca-94022f13a0f4"
      },
      "execution_count": null,
      "outputs": [
        {
          "output_type": "stream",
          "name": "stdout",
          "text": [
            "Found 10040 images belonging to 2 classes.\n",
            "Found 800 images belonging to 2 classes.\n",
            "Found 800 images belonging to 2 classes.\n"
          ]
        }
      ]
    },
    {
      "cell_type": "code",
      "source": [
        "inception = InceptionV3(weights='imagenet',\n",
        "                        include_top=False,\n",
        "                        input_shape=(224,224,3))\n",
        "\n",
        "for layer in inception.layers:\n",
        "    layer.trainable = False\n",
        "    \n",
        "model = Sequential()\n",
        "model.add(inception)\n",
        "model.add(Flatten())\n",
        "model.add(Dense(2, activation='sigmoid'))\n",
        "model.summary()"
      ],
      "metadata": {
        "colab": {
          "base_uri": "https://localhost:8080/"
        },
        "id": "6XRRMnjKi6wd",
        "outputId": "3e9444d4-d36a-4542-e8bd-a8d6802d9fb5"
      },
      "execution_count": null,
      "outputs": [
        {
          "output_type": "stream",
          "name": "stdout",
          "text": [
            "Downloading data from https://storage.googleapis.com/tensorflow/keras-applications/inception_v3/inception_v3_weights_tf_dim_ordering_tf_kernels_notop.h5\n",
            "87916544/87910968 [==============================] - 1s 0us/step\n",
            "87924736/87910968 [==============================] - 1s 0us/step\n",
            "Model: \"sequential\"\n",
            "_________________________________________________________________\n",
            " Layer (type)                Output Shape              Param #   \n",
            "=================================================================\n",
            " inception_v3 (Functional)   (None, 5, 5, 2048)        21802784  \n",
            "                                                                 \n",
            " flatten (Flatten)           (None, 51200)             0         \n",
            "                                                                 \n",
            " dense (Dense)               (None, 2)                 102402    \n",
            "                                                                 \n",
            "=================================================================\n",
            "Total params: 21,905,186\n",
            "Trainable params: 102,402\n",
            "Non-trainable params: 21,802,784\n",
            "_________________________________________________________________\n"
          ]
        }
      ]
    },
    {
      "cell_type": "code",
      "source": [
        "patient = 4\n",
        "save_path = \"model_checkpoint/inceptionv3.h5\"\n",
        "callbacks_list = [\n",
        "    EarlyStopping(\n",
        "        monitor='val_loss', \n",
        "        patience=patient, \n",
        "        mode='min', \n",
        "        verbose=1\n",
        "    ),\n",
        "    ReduceLROnPlateau(\n",
        "        monitor = 'val_loss', \n",
        "        factor = 0.5, \n",
        "        patience = patient / 2, \n",
        "        min_lr=1e-5,\n",
        "        verbose=1,\n",
        "        mode='min'\n",
        "    ),\n",
        "    ModelCheckpoint(save_path, \n",
        "                    monitor=\"val_accuracy\",\n",
        "                    mode=\"max\",\n",
        "                    verbose=1,\n",
        "                    save_best_only=True)\n",
        "    ]\n",
        "                    "
      ],
      "metadata": {
        "id": "LsfyJIx_jL-p"
      },
      "execution_count": null,
      "outputs": []
    },
    {
      "cell_type": "code",
      "source": [
        "model.compile(optimizer=\"adam\", \n",
        "              loss=\"binary_crossentropy\", \n",
        "              metrics =\"accuracy\")"
      ],
      "metadata": {
        "id": "pgvMLw8kjMBR"
      },
      "execution_count": null,
      "outputs": []
    },
    {
      "cell_type": "code",
      "source": [
        "start = time.time()\n",
        "history = model.fit(train_generator,\n",
        "                    batch_size=32,\n",
        "                    epochs=20,\n",
        "                    validation_data=val_generator,\n",
        "                    callbacks=callbacks_list)"
      ],
      "metadata": {
        "colab": {
          "base_uri": "https://localhost:8080/"
        },
        "id": "ud5NNoXzjTyO",
        "outputId": "da2cad50-bfde-489e-f096-dcdc6db53984"
      },
      "execution_count": null,
      "outputs": [
        {
          "output_type": "stream",
          "name": "stdout",
          "text": [
            "Epoch 1/20\n",
            "314/314 [==============================] - ETA: 0s - loss: 0.1064 - accuracy: 0.9840\n",
            "Epoch 00001: val_accuracy improved from -inf to 0.99750, saving model to model_checkpoint/inceptionv3.h5\n",
            "314/314 [==============================] - 1269s 4s/step - loss: 0.1064 - accuracy: 0.9840 - val_loss: 0.0164 - val_accuracy: 0.9975 - lr: 0.0010\n",
            "Epoch 2/20\n",
            "314/314 [==============================] - ETA: 0s - loss: 0.1414 - accuracy: 0.9898\n",
            "Epoch 00002: val_accuracy did not improve from 0.99750\n",
            "314/314 [==============================] - 186s 591ms/step - loss: 0.1414 - accuracy: 0.9898 - val_loss: 0.1894 - val_accuracy: 0.9925 - lr: 0.0010\n",
            "Epoch 3/20\n",
            "314/314 [==============================] - ETA: 0s - loss: 0.1095 - accuracy: 0.9919\n",
            "Epoch 00003: ReduceLROnPlateau reducing learning rate to 0.0005000000237487257.\n",
            "\n",
            "Epoch 00003: val_accuracy did not improve from 0.99750\n",
            "314/314 [==============================] - 185s 588ms/step - loss: 0.1095 - accuracy: 0.9919 - val_loss: 0.2276 - val_accuracy: 0.9875 - lr: 0.0010\n",
            "Epoch 4/20\n",
            "314/314 [==============================] - ETA: 0s - loss: 0.0925 - accuracy: 0.9931\n",
            "Epoch 00004: val_accuracy did not improve from 0.99750\n",
            "314/314 [==============================] - 183s 583ms/step - loss: 0.0925 - accuracy: 0.9931 - val_loss: 0.0569 - val_accuracy: 0.9950 - lr: 5.0000e-04\n",
            "Epoch 5/20\n",
            "314/314 [==============================] - ETA: 0s - loss: 0.0646 - accuracy: 0.9946\n",
            "Epoch 00005: ReduceLROnPlateau reducing learning rate to 0.0002500000118743628.\n",
            "\n",
            "Epoch 00005: val_accuracy did not improve from 0.99750\n",
            "314/314 [==============================] - 186s 593ms/step - loss: 0.0646 - accuracy: 0.9946 - val_loss: 0.0425 - val_accuracy: 0.9925 - lr: 5.0000e-04\n",
            "Epoch 00005: early stopping\n"
          ]
        }
      ]
    },
    {
      "cell_type": "code",
      "source": [
        "total_time = time.time()-start\n",
        "print(total_time)\n",
        "# 2016.7430481910706"
      ],
      "metadata": {
        "colab": {
          "base_uri": "https://localhost:8080/"
        },
        "id": "iLBN06sejW9w",
        "outputId": "504f1d31-389b-434c-bb58-565838cef0cc"
      },
      "execution_count": null,
      "outputs": [
        {
          "output_type": "stream",
          "name": "stdout",
          "text": [
            "2016.7430481910706\n"
          ]
        }
      ]
    },
    {
      "cell_type": "code",
      "source": [
        "model.evaluate_generator(test_generator)\n",
        "# [0.023700179532170296, 0.9975000023841858]# 2016.7430481910706\n"
      ],
      "metadata": {
        "colab": {
          "base_uri": "https://localhost:8080/"
        },
        "id": "guQVr95fjXA8",
        "outputId": "83e1a45f-62f3-4bd7-a0b4-4e8a08bbbf76"
      },
      "execution_count": null,
      "outputs": [
        {
          "output_type": "stream",
          "name": "stderr",
          "text": [
            "/usr/local/lib/python3.7/dist-packages/ipykernel_launcher.py:1: UserWarning: `Model.evaluate_generator` is deprecated and will be removed in a future version. Please use `Model.evaluate`, which supports generators.\n",
            "  \"\"\"Entry point for launching an IPython kernel.\n"
          ]
        },
        {
          "output_type": "execute_result",
          "data": {
            "text/plain": [
              "[0.023700179532170296, 0.9975000023841858]"
            ]
          },
          "metadata": {},
          "execution_count": 15
        }
      ]
    },
    {
      "cell_type": "code",
      "source": [
        "import pickle\n",
        "with open('scores/inception.pkl', 'wb') as f:\n",
        "  pickle.dump(history.history, f)"
      ],
      "metadata": {
        "id": "cjdyhdSf-EjH"
      },
      "execution_count": null,
      "outputs": []
    },
    {
      "cell_type": "markdown",
      "source": [
        "#ResNet50 standardization"
      ],
      "metadata": {
        "id": "vPTqpheE6bkg"
      }
    },
    {
      "cell_type": "code",
      "source": [
        "from tensorflow.keras.applications.resnet50 import ResNet50, preprocess_input\n",
        "from tensorflow.keras.callbacks import ModelCheckpoint, EarlyStopping, ReduceLROnPlateau"
      ],
      "metadata": {
        "id": "d01mNw8Z6dPN"
      },
      "execution_count": null,
      "outputs": []
    },
    {
      "cell_type": "code",
      "source": [
        "# The Keras ResNet pretrained weights are learned on a dataset with \n",
        "#different preprocessing than Inception or VGG.\n",
        "# It seems similar to Efficientnet\n",
        "\n",
        "train_datagen = ImageDataGenerator(preprocessing_function=preprocess_input, \n",
        "                                   horizontal_flip=True, \n",
        "                                   zoom_range=0.2,\n",
        "                                   shear_range=0.2,\n",
        "                                   rotation_range=20,\n",
        "                                   width_shift_range=0.2,\n",
        "                                   height_shift_range=0.2)\n",
        "train_generator = train_datagen.flow_from_directory(directory=train_dir, \n",
        "                                                    target_size=(224,224),\n",
        "                                                    class_mode='categorical',\n",
        "                                                    batch_size=32,\n",
        "                                                    shuffle=True)\n",
        "\n",
        "val_datagen = ImageDataGenerator(preprocessing_function=preprocess_input)\n",
        "val_generator = train_datagen.flow_from_directory(directory=val_dir,\n",
        "                                                  target_size=(224,224), \n",
        "                                                  class_mode='categorical', \n",
        "                                                  batch_size=32,\n",
        "                                                  shuffle=True)\n",
        "\n",
        "test_datagen = ImageDataGenerator(preprocessing_function=preprocess_input)\n",
        "test_generator = train_datagen.flow_from_directory(directory=val_dir,\n",
        "                                                   target_size=(224,224),\n",
        "                                                   class_mode='categorical',\n",
        "                                                   batch_size=32,\n",
        "                                                   shuffle=True)"
      ],
      "metadata": {
        "id": "AVHEu8xF6dy7",
        "colab": {
          "base_uri": "https://localhost:8080/"
        },
        "outputId": "b1d30514-68f9-41bb-f54d-6e08f771c133"
      },
      "execution_count": null,
      "outputs": [
        {
          "output_type": "stream",
          "name": "stdout",
          "text": [
            "Found 10040 images belonging to 2 classes.\n",
            "Found 800 images belonging to 2 classes.\n",
            "Found 800 images belonging to 2 classes.\n"
          ]
        }
      ]
    },
    {
      "cell_type": "code",
      "source": [
        "resnet = ResNet50(weights=\"imagenet\", \n",
        "                     include_top = False, \n",
        "                     input_shape = (224,224,3))\n",
        "for layer in resnet.layers:\n",
        "    layer.trainable = False\n",
        "\n",
        "model = Sequential()\n",
        "model.add(resnet)\n",
        "model.add(Flatten())\n",
        "model.add(Dense(2, activation = 'sigmoid'))\n",
        "model.summary()"
      ],
      "metadata": {
        "id": "P_caJtO86d1S",
        "colab": {
          "base_uri": "https://localhost:8080/"
        },
        "outputId": "d513f6f1-06be-4cf3-d138-f2c239294635"
      },
      "execution_count": null,
      "outputs": [
        {
          "output_type": "stream",
          "name": "stdout",
          "text": [
            "Downloading data from https://storage.googleapis.com/tensorflow/keras-applications/resnet/resnet50_weights_tf_dim_ordering_tf_kernels_notop.h5\n",
            "94773248/94765736 [==============================] - 1s 0us/step\n",
            "94781440/94765736 [==============================] - 1s 0us/step\n",
            "Model: \"sequential_2\"\n",
            "_________________________________________________________________\n",
            " Layer (type)                Output Shape              Param #   \n",
            "=================================================================\n",
            " resnet50 (Functional)       (None, 7, 7, 2048)        23587712  \n",
            "                                                                 \n",
            " flatten_2 (Flatten)         (None, 100352)            0         \n",
            "                                                                 \n",
            " dense_2 (Dense)             (None, 2)                 200706    \n",
            "                                                                 \n",
            "=================================================================\n",
            "Total params: 23,788,418\n",
            "Trainable params: 200,706\n",
            "Non-trainable params: 23,587,712\n",
            "_________________________________________________________________\n"
          ]
        }
      ]
    },
    {
      "cell_type": "code",
      "source": [
        "patient = 4\n",
        "save_path = \"model_checkpoint/resnet50_standardized.h5\"\n",
        "callbacks_list = [\n",
        "    EarlyStopping(\n",
        "        monitor='val_loss', \n",
        "        patience=patient, \n",
        "        mode='min', \n",
        "        verbose=1\n",
        "    ),\n",
        "    ReduceLROnPlateau(\n",
        "        monitor = 'val_loss', \n",
        "        factor = 0.5, \n",
        "        patience = patient / 2, \n",
        "        min_lr=1e-6,\n",
        "        verbose=1,\n",
        "        mode='min'\n",
        "    ),\n",
        "    ModelCheckpoint(save_path, \n",
        "                    monitor=\"val_accuracy\",\n",
        "                    mode=\"max\",\n",
        "                    verbose=1,\n",
        "                    save_best_only=True)\n",
        "    ]\n",
        "                    "
      ],
      "metadata": {
        "id": "_AWnPAf96d6D"
      },
      "execution_count": null,
      "outputs": []
    },
    {
      "cell_type": "code",
      "source": [
        "model.compile(optimizer=\"adam\", \n",
        "              loss=\"binary_crossentropy\", \n",
        "              metrics =\"accuracy\")"
      ],
      "metadata": {
        "id": "l7gYuOe36d8s"
      },
      "execution_count": null,
      "outputs": []
    },
    {
      "cell_type": "code",
      "source": [
        "start = time.time()\n",
        "history = model.fit(train_generator,\n",
        "                    batch_size=32,\n",
        "                    epochs=20,\n",
        "                    validation_data=val_generator,\n",
        "                    callbacks=callbacks_list)"
      ],
      "metadata": {
        "id": "-sLFYGAv6d_V",
        "colab": {
          "base_uri": "https://localhost:8080/"
        },
        "outputId": "a1c91212-6487-40c9-a992-bba3df4ec8af"
      },
      "execution_count": null,
      "outputs": [
        {
          "output_type": "stream",
          "name": "stdout",
          "text": [
            "Epoch 1/20\n",
            "314/314 [==============================] - ETA: 0s - loss: 0.2012 - accuracy: 0.9870\n",
            "Epoch 00001: val_accuracy improved from -inf to 0.99625, saving model to model_checkpoint/resnet50_standardized.h5\n"
          ]
        },
        {
          "output_type": "stream",
          "name": "stderr",
          "text": [
            "/usr/local/lib/python3.7/dist-packages/keras/engine/functional.py:1410: CustomMaskWarning: Custom mask layers require a config and must override get_config. When loading, the custom mask layer must be passed to the custom_objects argument.\n",
            "  layer_config = serialize_layer_fn(layer)\n"
          ]
        },
        {
          "output_type": "stream",
          "name": "stdout",
          "text": [
            "\b\b\b\b\b\b\b\b\b\b\b\b\b\b\b\b\b\b\b\b\b\b\b\b\b\b\b\b\b\b\b\b\b\b\b\b\b\b\b\b\b\b\b\b\b\b\b\b\b\b\b\b\b\b\b\b\b\b\b\b\b\b\b\b\b\b\b\b\b\b\b\b\b\b\b\b\b\b\b\b\b\b\b\b\r314/314 [==============================] - 204s 633ms/step - loss: 0.2012 - accuracy: 0.9870 - val_loss: 0.0546 - val_accuracy: 0.9962 - lr: 0.0010\n",
            "Epoch 2/20\n",
            "314/314 [==============================] - ETA: 0s - loss: 0.1133 - accuracy: 0.9954\n",
            "Epoch 00002: val_accuracy improved from 0.99625 to 0.99875, saving model to model_checkpoint/resnet50_standardized.h5\n",
            "314/314 [==============================] - 194s 617ms/step - loss: 0.1133 - accuracy: 0.9954 - val_loss: 0.0736 - val_accuracy: 0.9987 - lr: 0.0010\n",
            "Epoch 3/20\n",
            "314/314 [==============================] - ETA: 0s - loss: 0.1352 - accuracy: 0.9951\n",
            "Epoch 00003: val_accuracy did not improve from 0.99875\n",
            "314/314 [==============================] - 192s 611ms/step - loss: 0.1352 - accuracy: 0.9951 - val_loss: 0.0472 - val_accuracy: 0.9987 - lr: 0.0010\n",
            "Epoch 4/20\n",
            "314/314 [==============================] - ETA: 0s - loss: 0.1120 - accuracy: 0.9966\n",
            "Epoch 00004: val_accuracy did not improve from 0.99875\n",
            "314/314 [==============================] - 190s 604ms/step - loss: 0.1120 - accuracy: 0.9966 - val_loss: 0.2416 - val_accuracy: 0.9962 - lr: 0.0010\n",
            "Epoch 5/20\n",
            "314/314 [==============================] - ETA: 0s - loss: 0.1067 - accuracy: 0.9976\n",
            "Epoch 00005: ReduceLROnPlateau reducing learning rate to 0.0005000000237487257.\n",
            "\n",
            "Epoch 00005: val_accuracy did not improve from 0.99875\n",
            "314/314 [==============================] - 192s 612ms/step - loss: 0.1067 - accuracy: 0.9976 - val_loss: 0.0985 - val_accuracy: 0.9975 - lr: 0.0010\n",
            "Epoch 6/20\n",
            "314/314 [==============================] - ETA: 0s - loss: 0.0597 - accuracy: 0.9986\n",
            "Epoch 00006: val_accuracy did not improve from 0.99875\n",
            "314/314 [==============================] - 191s 607ms/step - loss: 0.0597 - accuracy: 0.9986 - val_loss: 0.0574 - val_accuracy: 0.9975 - lr: 5.0000e-04\n",
            "Epoch 7/20\n",
            "314/314 [==============================] - ETA: 0s - loss: 0.0408 - accuracy: 0.9988\n",
            "Epoch 00007: val_accuracy improved from 0.99875 to 1.00000, saving model to model_checkpoint/resnet50_standardized.h5\n",
            "314/314 [==============================] - 190s 604ms/step - loss: 0.0408 - accuracy: 0.9988 - val_loss: 0.0411 - val_accuracy: 1.0000 - lr: 5.0000e-04\n",
            "Epoch 8/20\n",
            "314/314 [==============================] - ETA: 0s - loss: 0.0399 - accuracy: 0.9990\n",
            "Epoch 00008: val_accuracy did not improve from 1.00000\n",
            "314/314 [==============================] - 196s 623ms/step - loss: 0.0399 - accuracy: 0.9990 - val_loss: 0.1023 - val_accuracy: 0.9950 - lr: 5.0000e-04\n",
            "Epoch 9/20\n",
            "314/314 [==============================] - ETA: 0s - loss: 0.0509 - accuracy: 0.9984\n",
            "Epoch 00009: ReduceLROnPlateau reducing learning rate to 0.0002500000118743628.\n",
            "\n",
            "Epoch 00009: val_accuracy did not improve from 1.00000\n",
            "314/314 [==============================] - 194s 617ms/step - loss: 0.0509 - accuracy: 0.9984 - val_loss: 0.0465 - val_accuracy: 0.9975 - lr: 5.0000e-04\n",
            "Epoch 10/20\n",
            "314/314 [==============================] - ETA: 0s - loss: 0.0236 - accuracy: 0.9991\n",
            "Epoch 00010: val_accuracy did not improve from 1.00000\n",
            "314/314 [==============================] - 195s 621ms/step - loss: 0.0236 - accuracy: 0.9991 - val_loss: 0.0433 - val_accuracy: 0.9975 - lr: 2.5000e-04\n",
            "Epoch 11/20\n",
            "314/314 [==============================] - ETA: 0s - loss: 0.0307 - accuracy: 0.9994\n",
            "Epoch 00011: val_accuracy did not improve from 1.00000\n",
            "314/314 [==============================] - 199s 634ms/step - loss: 0.0307 - accuracy: 0.9994 - val_loss: 0.0115 - val_accuracy: 0.9987 - lr: 2.5000e-04\n",
            "Epoch 12/20\n",
            "314/314 [==============================] - ETA: 0s - loss: 0.0178 - accuracy: 0.9991\n",
            "Epoch 00012: val_accuracy did not improve from 1.00000\n",
            "314/314 [==============================] - 202s 642ms/step - loss: 0.0178 - accuracy: 0.9991 - val_loss: 0.0998 - val_accuracy: 0.9975 - lr: 2.5000e-04\n",
            "Epoch 13/20\n",
            "314/314 [==============================] - ETA: 0s - loss: 0.0292 - accuracy: 0.9991\n",
            "Epoch 00013: ReduceLROnPlateau reducing learning rate to 0.0001250000059371814.\n",
            "\n",
            "Epoch 00013: val_accuracy did not improve from 1.00000\n",
            "314/314 [==============================] - 202s 642ms/step - loss: 0.0292 - accuracy: 0.9991 - val_loss: 0.0964 - val_accuracy: 0.9975 - lr: 2.5000e-04\n",
            "Epoch 14/20\n",
            "314/314 [==============================] - ETA: 0s - loss: 0.0229 - accuracy: 0.9988\n",
            "Epoch 00014: val_accuracy did not improve from 1.00000\n",
            "314/314 [==============================] - 202s 643ms/step - loss: 0.0229 - accuracy: 0.9988 - val_loss: 0.1035 - val_accuracy: 0.9987 - lr: 1.2500e-04\n",
            "Epoch 15/20\n",
            "314/314 [==============================] - ETA: 0s - loss: 0.0153 - accuracy: 0.9994\n",
            "Epoch 00015: ReduceLROnPlateau reducing learning rate to 6.25000029685907e-05.\n",
            "\n",
            "Epoch 00015: val_accuracy did not improve from 1.00000\n",
            "314/314 [==============================] - 201s 641ms/step - loss: 0.0153 - accuracy: 0.9994 - val_loss: 0.0428 - val_accuracy: 0.9975 - lr: 1.2500e-04\n",
            "Epoch 00015: early stopping\n"
          ]
        }
      ]
    },
    {
      "cell_type": "code",
      "source": [
        "total_time = time.time()-start\n",
        "print(total_time)\n",
        "# 2951.790164232254\n"
      ],
      "metadata": {
        "id": "7F8qGTZg6eBw",
        "colab": {
          "base_uri": "https://localhost:8080/"
        },
        "outputId": "2ca88c75-45e7-4397-858d-bf25568bd076"
      },
      "execution_count": null,
      "outputs": [
        {
          "output_type": "stream",
          "name": "stdout",
          "text": [
            "2951.790164232254\n"
          ]
        }
      ]
    },
    {
      "cell_type": "code",
      "source": [
        "model.evaluate_generator(test_generator)\n",
        "# [0.08243097364902496, 0.9975000023841858]# 2951.790164232254\n",
        "\n"
      ],
      "metadata": {
        "id": "6PLDUb-o6eLf",
        "colab": {
          "base_uri": "https://localhost:8080/"
        },
        "outputId": "b5e98e89-bcee-4f25-9a2b-a91d9ea8ad05"
      },
      "execution_count": null,
      "outputs": [
        {
          "output_type": "stream",
          "name": "stderr",
          "text": [
            "/usr/local/lib/python3.7/dist-packages/ipykernel_launcher.py:1: UserWarning: `Model.evaluate_generator` is deprecated and will be removed in a future version. Please use `Model.evaluate`, which supports generators.\n",
            "  \"\"\"Entry point for launching an IPython kernel.\n"
          ]
        },
        {
          "output_type": "execute_result",
          "data": {
            "text/plain": [
              "[0.08243097364902496, 0.9975000023841858]"
            ]
          },
          "metadata": {},
          "execution_count": 33
        }
      ]
    },
    {
      "cell_type": "code",
      "source": [
        "import pickle\n",
        "with open('scores/res_stand.pkl', 'wb') as f:\n",
        "  pickle.dump(history.history, f)"
      ],
      "metadata": {
        "id": "__1mHAJp6eQ4"
      },
      "execution_count": null,
      "outputs": []
    },
    {
      "cell_type": "markdown",
      "source": [
        "# Resnet50: normalization"
      ],
      "metadata": {
        "id": "Yf3CSgno7lV-"
      }
    },
    {
      "cell_type": "code",
      "source": [
        "from tensorflow.keras.applications.resnet50 import ResNet50, preprocess_input\n",
        "from tensorflow.keras.callbacks import ModelCheckpoint, EarlyStopping, ReduceLROnPlateau"
      ],
      "metadata": {
        "id": "1s0lYUGs79kV"
      },
      "execution_count": null,
      "outputs": []
    },
    {
      "cell_type": "code",
      "source": [
        "# Data augmentation\n",
        "\n",
        "train_datagen = ImageDataGenerator(rescale=1.0/255, \n",
        "                                   horizontal_flip=True, \n",
        "                                   zoom_range=0.2,\n",
        "                                   shear_range=0.2,\n",
        "                                   rotation_range=20,\n",
        "                                   width_shift_range=0.2,\n",
        "                                   height_shift_range=0.2)\n",
        "train_generator = train_datagen.flow_from_directory(directory=train_dir, \n",
        "                                                    target_size=(224,224),\n",
        "                                                    class_mode='categorical',\n",
        "                                                    batch_size=32,\n",
        "                                                    shuffle=True)\n",
        "\n",
        "val_datagen = ImageDataGenerator(rescale=1.0/255)\n",
        "val_generator = train_datagen.flow_from_directory(directory=val_dir,\n",
        "                                                  target_size=(224,224), \n",
        "                                                  class_mode='categorical', \n",
        "                                                  batch_size=32,\n",
        "                                                  shuffle=True)\n",
        "\n",
        "test_datagen = ImageDataGenerator(rescale=1.0/255)\n",
        "test_generator = train_datagen.flow_from_directory(directory=val_dir,\n",
        "                                                   target_size=(224,224),\n",
        "                                                   class_mode='categorical',\n",
        "                                                   batch_size=32,\n",
        "                                                   shuffle=True)"
      ],
      "metadata": {
        "id": "Dv0NuSzP7b65",
        "colab": {
          "base_uri": "https://localhost:8080/"
        },
        "outputId": "c7f384e5-0249-4ab9-c450-cb7f8430f643"
      },
      "execution_count": null,
      "outputs": [
        {
          "output_type": "stream",
          "name": "stdout",
          "text": [
            "Found 10040 images belonging to 2 classes.\n",
            "Found 800 images belonging to 2 classes.\n",
            "Found 800 images belonging to 2 classes.\n"
          ]
        }
      ]
    },
    {
      "cell_type": "code",
      "source": [
        "resnet = ResNet50(weights=\"imagenet\", \n",
        "                     include_top = False, \n",
        "                     input_shape = (224,224,3))\n",
        "for layer in resnet.layers:\n",
        "    layer.trainable = False\n",
        "\n",
        "model = Sequential()\n",
        "model.add(resnet)\n",
        "model.add(Flatten())\n",
        "model.add(Dense(2, activation = 'sigmoid'))\n",
        "model.summary()"
      ],
      "metadata": {
        "id": "glNcEg5H7b7F",
        "colab": {
          "base_uri": "https://localhost:8080/"
        },
        "outputId": "f9886961-00ec-4faa-ae6a-0fcff5560336"
      },
      "execution_count": null,
      "outputs": [
        {
          "output_type": "stream",
          "name": "stdout",
          "text": [
            "Model: \"sequential_3\"\n",
            "_________________________________________________________________\n",
            " Layer (type)                Output Shape              Param #   \n",
            "=================================================================\n",
            " resnet50 (Functional)       (None, 7, 7, 2048)        23587712  \n",
            "                                                                 \n",
            " flatten_3 (Flatten)         (None, 100352)            0         \n",
            "                                                                 \n",
            " dense_3 (Dense)             (None, 2)                 200706    \n",
            "                                                                 \n",
            "=================================================================\n",
            "Total params: 23,788,418\n",
            "Trainable params: 200,706\n",
            "Non-trainable params: 23,587,712\n",
            "_________________________________________________________________\n"
          ]
        }
      ]
    },
    {
      "cell_type": "code",
      "source": [
        "patient = 4\n",
        "save_path = \"model_checkpoint/resnet50_norm.h5\"\n",
        "callbacks_list = [\n",
        "    EarlyStopping(\n",
        "        monitor='val_loss', \n",
        "        patience=patient, \n",
        "        mode='min', \n",
        "        verbose=1\n",
        "    ),\n",
        "    ReduceLROnPlateau(\n",
        "        monitor = 'val_loss', \n",
        "        factor = 0.5, \n",
        "        patience = patient / 2, \n",
        "        min_lr=1e-6,\n",
        "        verbose=1,\n",
        "        mode='min'\n",
        "    ),\n",
        "    ModelCheckpoint(save_path, \n",
        "                    monitor=\"val_accuracy\",\n",
        "                    mode=\"max\",\n",
        "                    verbose=1,\n",
        "                    save_best_only=True)\n",
        "    ]\n",
        "                    "
      ],
      "metadata": {
        "id": "vhl22RhJ7b7F"
      },
      "execution_count": null,
      "outputs": []
    },
    {
      "cell_type": "code",
      "source": [
        "model.compile(optimizer=\"adam\", \n",
        "              loss=\"binary_crossentropy\", \n",
        "              metrics =\"accuracy\")"
      ],
      "metadata": {
        "id": "dbEOYrY47b7F"
      },
      "execution_count": null,
      "outputs": []
    },
    {
      "cell_type": "code",
      "source": [
        "start = time.time()\n",
        "history = model.fit(train_generator,\n",
        "                    batch_size=32,\n",
        "                    epochs=20,\n",
        "                    validation_data=val_generator,\n",
        "                    callbacks=callbacks_list)"
      ],
      "metadata": {
        "id": "1Avp3mtT7b7F",
        "colab": {
          "base_uri": "https://localhost:8080/"
        },
        "outputId": "53bfc553-80f5-4d15-f65f-6fca81141f74"
      },
      "execution_count": null,
      "outputs": [
        {
          "output_type": "stream",
          "name": "stdout",
          "text": [
            "Epoch 1/20\n",
            "314/314 [==============================] - ETA: 0s - loss: 0.6700 - accuracy: 0.6590\n",
            "Epoch 00001: val_accuracy improved from -inf to 0.61125, saving model to model_checkpoint/resnet50_norm.h5\n"
          ]
        },
        {
          "output_type": "stream",
          "name": "stderr",
          "text": [
            "/usr/local/lib/python3.7/dist-packages/keras/engine/functional.py:1410: CustomMaskWarning: Custom mask layers require a config and must override get_config. When loading, the custom mask layer must be passed to the custom_objects argument.\n",
            "  layer_config = serialize_layer_fn(layer)\n"
          ]
        },
        {
          "output_type": "stream",
          "name": "stdout",
          "text": [
            "\b\b\b\b\b\b\b\b\b\b\b\b\b\b\b\b\b\b\b\b\b\b\b\b\b\b\b\b\b\b\b\b\b\b\b\b\b\b\b\b\b\b\b\b\b\b\b\b\b\b\b\b\b\b\b\b\b\b\b\b\b\b\b\b\b\b\b\b\b\b\b\b\b\b\b\b\b\b\b\b\b\b\b\b\r314/314 [==============================] - 210s 654ms/step - loss: 0.6700 - accuracy: 0.6590 - val_loss: 0.7862 - val_accuracy: 0.6112 - lr: 0.0010\n",
            "Epoch 2/20\n",
            "314/314 [==============================] - ETA: 0s - loss: 0.5159 - accuracy: 0.7430\n",
            "Epoch 00002: val_accuracy improved from 0.61125 to 0.77000, saving model to model_checkpoint/resnet50_norm.h5\n",
            "314/314 [==============================] - 201s 641ms/step - loss: 0.5159 - accuracy: 0.7430 - val_loss: 0.4473 - val_accuracy: 0.7700 - lr: 0.0010\n",
            "Epoch 3/20\n",
            "314/314 [==============================] - ETA: 0s - loss: 0.4576 - accuracy: 0.7885\n",
            "Epoch 00003: val_accuracy improved from 0.77000 to 0.84625, saving model to model_checkpoint/resnet50_norm.h5\n",
            "314/314 [==============================] - 202s 642ms/step - loss: 0.4576 - accuracy: 0.7885 - val_loss: 0.3956 - val_accuracy: 0.8462 - lr: 0.0010\n",
            "Epoch 4/20\n",
            "314/314 [==============================] - ETA: 0s - loss: 0.4699 - accuracy: 0.7793\n",
            "Epoch 00004: val_accuracy did not improve from 0.84625\n",
            "314/314 [==============================] - 199s 634ms/step - loss: 0.4699 - accuracy: 0.7793 - val_loss: 0.3810 - val_accuracy: 0.8450 - lr: 0.0010\n",
            "Epoch 5/20\n",
            "314/314 [==============================] - ETA: 0s - loss: 0.4252 - accuracy: 0.8023\n",
            "Epoch 00005: val_accuracy did not improve from 0.84625\n",
            "314/314 [==============================] - 200s 636ms/step - loss: 0.4252 - accuracy: 0.8023 - val_loss: 0.3797 - val_accuracy: 0.8225 - lr: 0.0010\n",
            "Epoch 6/20\n",
            "314/314 [==============================] - ETA: 0s - loss: 0.4357 - accuracy: 0.8036\n",
            "Epoch 00006: val_accuracy did not improve from 0.84625\n",
            "314/314 [==============================] - 201s 638ms/step - loss: 0.4357 - accuracy: 0.8036 - val_loss: 1.0221 - val_accuracy: 0.5337 - lr: 0.0010\n",
            "Epoch 7/20\n",
            "314/314 [==============================] - ETA: 0s - loss: 0.4284 - accuracy: 0.8102\n",
            "Epoch 00007: val_accuracy improved from 0.84625 to 0.84750, saving model to model_checkpoint/resnet50_norm.h5\n",
            "314/314 [==============================] - 202s 643ms/step - loss: 0.4284 - accuracy: 0.8102 - val_loss: 0.3430 - val_accuracy: 0.8475 - lr: 0.0010\n",
            "Epoch 8/20\n",
            "314/314 [==============================] - ETA: 0s - loss: 0.4136 - accuracy: 0.8164\n",
            "Epoch 00008: val_accuracy improved from 0.84750 to 0.87125, saving model to model_checkpoint/resnet50_norm.h5\n",
            "314/314 [==============================] - 204s 648ms/step - loss: 0.4136 - accuracy: 0.8164 - val_loss: 0.3211 - val_accuracy: 0.8712 - lr: 0.0010\n",
            "Epoch 9/20\n",
            "314/314 [==============================] - ETA: 0s - loss: 0.3656 - accuracy: 0.8376\n",
            "Epoch 00009: val_accuracy did not improve from 0.87125\n",
            "314/314 [==============================] - 200s 638ms/step - loss: 0.3656 - accuracy: 0.8376 - val_loss: 0.5743 - val_accuracy: 0.7237 - lr: 0.0010\n",
            "Epoch 10/20\n",
            "314/314 [==============================] - ETA: 0s - loss: 0.4199 - accuracy: 0.8127\n",
            "Epoch 00010: val_accuracy improved from 0.87125 to 0.90125, saving model to model_checkpoint/resnet50_norm.h5\n",
            "314/314 [==============================] - 204s 648ms/step - loss: 0.4199 - accuracy: 0.8127 - val_loss: 0.3074 - val_accuracy: 0.9013 - lr: 0.0010\n",
            "Epoch 11/20\n",
            "314/314 [==============================] - ETA: 0s - loss: 0.3614 - accuracy: 0.8406\n",
            "Epoch 00011: val_accuracy did not improve from 0.90125\n",
            "314/314 [==============================] - 202s 642ms/step - loss: 0.3614 - accuracy: 0.8406 - val_loss: 0.3487 - val_accuracy: 0.8712 - lr: 0.0010\n",
            "Epoch 12/20\n",
            "314/314 [==============================] - ETA: 0s - loss: 0.3855 - accuracy: 0.8349\n",
            "Epoch 00012: ReduceLROnPlateau reducing learning rate to 0.0005000000237487257.\n",
            "\n",
            "Epoch 00012: val_accuracy did not improve from 0.90125\n",
            "314/314 [==============================] - 202s 644ms/step - loss: 0.3855 - accuracy: 0.8349 - val_loss: 0.3812 - val_accuracy: 0.8238 - lr: 0.0010\n",
            "Epoch 13/20\n",
            "314/314 [==============================] - ETA: 0s - loss: 0.3206 - accuracy: 0.8719\n",
            "Epoch 00013: val_accuracy did not improve from 0.90125\n",
            "314/314 [==============================] - 201s 640ms/step - loss: 0.3206 - accuracy: 0.8719 - val_loss: 0.2928 - val_accuracy: 0.9000 - lr: 5.0000e-04\n",
            "Epoch 14/20\n",
            "314/314 [==============================] - ETA: 0s - loss: 0.3199 - accuracy: 0.8621\n",
            "Epoch 00014: val_accuracy did not improve from 0.90125\n",
            "314/314 [==============================] - 198s 630ms/step - loss: 0.3199 - accuracy: 0.8621 - val_loss: 0.3276 - val_accuracy: 0.8525 - lr: 5.0000e-04\n",
            "Epoch 15/20\n",
            "314/314 [==============================] - ETA: 0s - loss: 0.3116 - accuracy: 0.8697\n",
            "Epoch 00015: ReduceLROnPlateau reducing learning rate to 0.0002500000118743628.\n",
            "\n",
            "Epoch 00015: val_accuracy did not improve from 0.90125\n",
            "314/314 [==============================] - 198s 631ms/step - loss: 0.3116 - accuracy: 0.8697 - val_loss: 0.3399 - val_accuracy: 0.8612 - lr: 5.0000e-04\n",
            "Epoch 16/20\n",
            "314/314 [==============================] - ETA: 0s - loss: 0.2884 - accuracy: 0.8854\n",
            "Epoch 00016: val_accuracy did not improve from 0.90125\n",
            "314/314 [==============================] - 198s 632ms/step - loss: 0.2884 - accuracy: 0.8854 - val_loss: 0.2886 - val_accuracy: 0.8875 - lr: 2.5000e-04\n",
            "Epoch 17/20\n",
            "314/314 [==============================] - ETA: 0s - loss: 0.3001 - accuracy: 0.8751\n",
            "Epoch 00017: val_accuracy did not improve from 0.90125\n",
            "314/314 [==============================] - 197s 626ms/step - loss: 0.3001 - accuracy: 0.8751 - val_loss: 0.3190 - val_accuracy: 0.8662 - lr: 2.5000e-04\n",
            "Epoch 18/20\n",
            "314/314 [==============================] - ETA: 0s - loss: 0.2859 - accuracy: 0.8852\n",
            "Epoch 00018: val_accuracy did not improve from 0.90125\n",
            "314/314 [==============================] - 197s 626ms/step - loss: 0.2859 - accuracy: 0.8852 - val_loss: 0.2737 - val_accuracy: 0.8963 - lr: 2.5000e-04\n",
            "Epoch 19/20\n",
            "314/314 [==============================] - ETA: 0s - loss: 0.2956 - accuracy: 0.8802\n",
            "Epoch 00019: val_accuracy did not improve from 0.90125\n",
            "314/314 [==============================] - 197s 627ms/step - loss: 0.2956 - accuracy: 0.8802 - val_loss: 0.3010 - val_accuracy: 0.8737 - lr: 2.5000e-04\n",
            "Epoch 20/20\n",
            "314/314 [==============================] - ETA: 0s - loss: 0.2990 - accuracy: 0.8775\n",
            "Epoch 00020: ReduceLROnPlateau reducing learning rate to 0.0001250000059371814.\n",
            "\n",
            "Epoch 00020: val_accuracy did not improve from 0.90125\n",
            "314/314 [==============================] - 198s 629ms/step - loss: 0.2990 - accuracy: 0.8775 - val_loss: 0.3108 - val_accuracy: 0.8700 - lr: 2.5000e-04\n"
          ]
        }
      ]
    },
    {
      "cell_type": "code",
      "source": [
        "total_time = time.time()-start\n",
        "print(total_time)\n",
        "# 4073.5302834510803\n"
      ],
      "metadata": {
        "id": "_75K1xE27b7F",
        "colab": {
          "base_uri": "https://localhost:8080/"
        },
        "outputId": "7f48c8e6-f862-48d8-fd66-737277b00f3e"
      },
      "execution_count": null,
      "outputs": [
        {
          "output_type": "stream",
          "name": "stdout",
          "text": [
            "4073.5302834510803\n"
          ]
        }
      ]
    },
    {
      "cell_type": "code",
      "source": [
        "model.evaluate_generator(test_generator)\n",
        "# [0.2939472794532776, 0.8849999904632568]\n"
      ],
      "metadata": {
        "id": "xsOpTkfb7b7F",
        "colab": {
          "base_uri": "https://localhost:8080/"
        },
        "outputId": "3260c1bb-5661-4c25-955a-1a8b14597658"
      },
      "execution_count": null,
      "outputs": [
        {
          "output_type": "stream",
          "name": "stderr",
          "text": [
            "/usr/local/lib/python3.7/dist-packages/ipykernel_launcher.py:1: UserWarning: `Model.evaluate_generator` is deprecated and will be removed in a future version. Please use `Model.evaluate`, which supports generators.\n",
            "  \"\"\"Entry point for launching an IPython kernel.\n"
          ]
        },
        {
          "output_type": "execute_result",
          "data": {
            "text/plain": [
              "[0.2939472794532776, 0.8849999904632568]"
            ]
          },
          "metadata": {},
          "execution_count": 42
        }
      ]
    },
    {
      "cell_type": "code",
      "source": [
        "import pickle\n",
        "with open('scores/res_norm.pkl', 'wb') as f:\n",
        "  pickle.dump(history.history, f)"
      ],
      "metadata": {
        "id": "ZYSN2fGZ-bLk"
      },
      "execution_count": null,
      "outputs": []
    },
    {
      "cell_type": "markdown",
      "source": [
        "# VGG19"
      ],
      "metadata": {
        "id": "71bPzH5U71eb"
      }
    },
    {
      "cell_type": "code",
      "source": [
        "from tensorflow.keras.applications.vgg19 import VGG19, preprocess_input\n",
        "from tensorflow.keras.callbacks import ModelCheckpoint, EarlyStopping, ReduceLROnPlateau"
      ],
      "metadata": {
        "id": "XqmnjmZG8AQW"
      },
      "execution_count": null,
      "outputs": []
    },
    {
      "cell_type": "code",
      "source": [
        "# Data augmentation\n",
        "\n",
        "train_datagen = ImageDataGenerator(rescale=1.0/255, \n",
        "                                   horizontal_flip=True, \n",
        "                                   zoom_range=0.2,\n",
        "                                   shear_range=0.2,\n",
        "                                   rotation_range=20,\n",
        "                                   width_shift_range=0.2,\n",
        "                                   height_shift_range=0.2)\n",
        "train_generator = train_datagen.flow_from_directory(directory=train_dir, \n",
        "                                                    target_size=(224,224),\n",
        "                                                    class_mode='categorical',\n",
        "                                                    batch_size=32,\n",
        "                                                    shuffle=True)\n",
        "\n",
        "val_datagen = ImageDataGenerator(rescale=1.0/255)\n",
        "val_generator = train_datagen.flow_from_directory(directory=val_dir,\n",
        "                                                  target_size=(224,224), \n",
        "                                                  class_mode='categorical', \n",
        "                                                  batch_size=32,\n",
        "                                                  shuffle=True)\n",
        "\n",
        "test_datagen = ImageDataGenerator(rescale=1.0/255)\n",
        "test_generator = train_datagen.flow_from_directory(directory=val_dir,\n",
        "                                                   target_size=(224,224),\n",
        "                                                   class_mode='categorical',\n",
        "                                                   batch_size=32,\n",
        "                                                   shuffle=True)"
      ],
      "metadata": {
        "colab": {
          "base_uri": "https://localhost:8080/"
        },
        "id": "9MfMnrPQ70Nj",
        "outputId": "65aeeaec-f0d7-4d32-d8be-8b7370551a03"
      },
      "execution_count": null,
      "outputs": [
        {
          "output_type": "stream",
          "name": "stdout",
          "text": [
            "Found 10040 images belonging to 2 classes.\n",
            "Found 800 images belonging to 2 classes.\n",
            "Found 800 images belonging to 2 classes.\n"
          ]
        }
      ]
    },
    {
      "cell_type": "code",
      "source": [
        "vgg = VGG19(weights=\"imagenet\", \n",
        "                     include_top = False, \n",
        "                     input_shape = (224,224,3))\n",
        "for layer in vgg.layers:\n",
        "    layer.trainable = False\n",
        "\n",
        "model = Sequential()\n",
        "model.add(vgg)\n",
        "model.add(Flatten())\n",
        "model.add(Dense(2, activation = 'sigmoid'))\n",
        "model.summary()"
      ],
      "metadata": {
        "colab": {
          "base_uri": "https://localhost:8080/"
        },
        "id": "BGzLB2Qi70Nk",
        "outputId": "aa9c72f5-011f-43ca-af10-dfe1c10a70b4"
      },
      "execution_count": null,
      "outputs": [
        {
          "output_type": "stream",
          "name": "stdout",
          "text": [
            "Downloading data from https://storage.googleapis.com/tensorflow/keras-applications/vgg19/vgg19_weights_tf_dim_ordering_tf_kernels_notop.h5\n",
            "80142336/80134624 [==============================] - 1s 0us/step\n",
            "80150528/80134624 [==============================] - 1s 0us/step\n",
            "Model: \"sequential_4\"\n",
            "_________________________________________________________________\n",
            " Layer (type)                Output Shape              Param #   \n",
            "=================================================================\n",
            " vgg19 (Functional)          (None, 7, 7, 512)         20024384  \n",
            "                                                                 \n",
            " flatten_4 (Flatten)         (None, 25088)             0         \n",
            "                                                                 \n",
            " dense_4 (Dense)             (None, 2)                 50178     \n",
            "                                                                 \n",
            "=================================================================\n",
            "Total params: 20,074,562\n",
            "Trainable params: 50,178\n",
            "Non-trainable params: 20,024,384\n",
            "_________________________________________________________________\n"
          ]
        }
      ]
    },
    {
      "cell_type": "code",
      "source": [
        "patient = 4\n",
        "save_path = \"model_checkpoint/vgg19.h5\"\n",
        "callbacks_list = [\n",
        "    EarlyStopping(\n",
        "        monitor='val_loss', \n",
        "        patience=patient, \n",
        "        mode='min', \n",
        "        verbose=1\n",
        "    ),\n",
        "    ReduceLROnPlateau(\n",
        "        monitor = 'val_loss', \n",
        "        factor = 0.5, \n",
        "        patience = patient / 2, \n",
        "        min_lr=1e-6,\n",
        "        verbose=1,\n",
        "        mode='min'\n",
        "    ),\n",
        "    ModelCheckpoint(save_path, \n",
        "                    monitor=\"val_accuracy\",\n",
        "                    mode=\"max\",\n",
        "                    verbose=1,\n",
        "                    save_best_only=True)\n",
        "    ]\n",
        "                    "
      ],
      "metadata": {
        "id": "9pre5A8Y70Nk"
      },
      "execution_count": null,
      "outputs": []
    },
    {
      "cell_type": "code",
      "source": [
        "model.compile(optimizer=\"adam\", \n",
        "              loss=\"binary_crossentropy\", \n",
        "              metrics =\"accuracy\")"
      ],
      "metadata": {
        "id": "HAE7EeaS70Nk"
      },
      "execution_count": null,
      "outputs": []
    },
    {
      "cell_type": "code",
      "source": [
        "start = time.time()\n",
        "history = model.fit(train_generator,\n",
        "                    batch_size=32,\n",
        "                    epochs=20,\n",
        "                    validation_data=val_generator,\n",
        "                    callbacks=callbacks_list)"
      ],
      "metadata": {
        "id": "OOI1e6dc70Nk",
        "colab": {
          "base_uri": "https://localhost:8080/"
        },
        "outputId": "794e2559-5c42-49c6-b7ed-6513ddd83749"
      },
      "execution_count": null,
      "outputs": [
        {
          "output_type": "stream",
          "name": "stdout",
          "text": [
            "Epoch 1/20\n",
            "314/314 [==============================] - ETA: 0s - loss: 0.1759 - accuracy: 0.9305\n",
            "Epoch 00001: val_accuracy improved from -inf to 0.96625, saving model to model_checkpoint/vgg19.h5\n",
            "314/314 [==============================] - 224s 679ms/step - loss: 0.1759 - accuracy: 0.9305 - val_loss: 0.0999 - val_accuracy: 0.9663 - lr: 0.0010\n",
            "Epoch 2/20\n",
            "314/314 [==============================] - ETA: 0s - loss: 0.0948 - accuracy: 0.9656\n",
            "Epoch 00002: val_accuracy improved from 0.96625 to 0.97250, saving model to model_checkpoint/vgg19.h5\n",
            "314/314 [==============================] - 202s 643ms/step - loss: 0.0948 - accuracy: 0.9656 - val_loss: 0.0766 - val_accuracy: 0.9725 - lr: 0.0010\n",
            "Epoch 3/20\n",
            "314/314 [==============================] - ETA: 0s - loss: 0.0767 - accuracy: 0.9729\n",
            "Epoch 00003: val_accuracy improved from 0.97250 to 0.97875, saving model to model_checkpoint/vgg19.h5\n",
            "314/314 [==============================] - 203s 646ms/step - loss: 0.0767 - accuracy: 0.9729 - val_loss: 0.0606 - val_accuracy: 0.9787 - lr: 0.0010\n",
            "Epoch 4/20\n",
            "314/314 [==============================] - ETA: 0s - loss: 0.0782 - accuracy: 0.9708\n",
            "Epoch 00004: val_accuracy did not improve from 0.97875\n",
            "314/314 [==============================] - 200s 638ms/step - loss: 0.0782 - accuracy: 0.9708 - val_loss: 0.0752 - val_accuracy: 0.9762 - lr: 0.0010\n",
            "Epoch 5/20\n",
            "314/314 [==============================] - ETA: 0s - loss: 0.0665 - accuracy: 0.9754\n",
            "Epoch 00005: val_accuracy improved from 0.97875 to 0.98750, saving model to model_checkpoint/vgg19.h5\n",
            "314/314 [==============================] - 202s 642ms/step - loss: 0.0665 - accuracy: 0.9754 - val_loss: 0.0514 - val_accuracy: 0.9875 - lr: 0.0010\n",
            "Epoch 6/20\n",
            "314/314 [==============================] - ETA: 0s - loss: 0.0693 - accuracy: 0.9739\n",
            "Epoch 00006: val_accuracy did not improve from 0.98750\n",
            "314/314 [==============================] - 200s 636ms/step - loss: 0.0693 - accuracy: 0.9739 - val_loss: 0.0788 - val_accuracy: 0.9675 - lr: 0.0010\n",
            "Epoch 7/20\n",
            "314/314 [==============================] - ETA: 0s - loss: 0.0601 - accuracy: 0.9788\n",
            "Epoch 00007: ReduceLROnPlateau reducing learning rate to 0.0005000000237487257.\n",
            "\n",
            "Epoch 00007: val_accuracy did not improve from 0.98750\n",
            "314/314 [==============================] - 199s 633ms/step - loss: 0.0601 - accuracy: 0.9788 - val_loss: 0.0626 - val_accuracy: 0.9800 - lr: 0.0010\n",
            "Epoch 8/20\n",
            "314/314 [==============================] - ETA: 0s - loss: 0.0496 - accuracy: 0.9821\n",
            "Epoch 00008: val_accuracy did not improve from 0.98750\n",
            "314/314 [==============================] - 199s 633ms/step - loss: 0.0496 - accuracy: 0.9821 - val_loss: 0.0720 - val_accuracy: 0.9712 - lr: 5.0000e-04\n",
            "Epoch 9/20\n",
            "314/314 [==============================] - ETA: 0s - loss: 0.0439 - accuracy: 0.9839\n",
            "Epoch 00009: val_accuracy did not improve from 0.98750\n",
            "314/314 [==============================] - 199s 632ms/step - loss: 0.0439 - accuracy: 0.9839 - val_loss: 0.0450 - val_accuracy: 0.9862 - lr: 5.0000e-04\n",
            "Epoch 10/20\n",
            "314/314 [==============================] - ETA: 0s - loss: 0.0427 - accuracy: 0.9843\n",
            "Epoch 00010: val_accuracy did not improve from 0.98750\n",
            "314/314 [==============================] - 199s 633ms/step - loss: 0.0427 - accuracy: 0.9843 - val_loss: 0.0430 - val_accuracy: 0.9850 - lr: 5.0000e-04\n",
            "Epoch 11/20\n",
            "314/314 [==============================] - ETA: 0s - loss: 0.0428 - accuracy: 0.9843\n",
            "Epoch 00011: val_accuracy did not improve from 0.98750\n",
            "314/314 [==============================] - 200s 637ms/step - loss: 0.0428 - accuracy: 0.9843 - val_loss: 0.0320 - val_accuracy: 0.9862 - lr: 5.0000e-04\n",
            "Epoch 12/20\n",
            "314/314 [==============================] - ETA: 0s - loss: 0.0426 - accuracy: 0.9850\n",
            "Epoch 00012: val_accuracy did not improve from 0.98750\n",
            "314/314 [==============================] - 200s 635ms/step - loss: 0.0426 - accuracy: 0.9850 - val_loss: 0.0426 - val_accuracy: 0.9837 - lr: 5.0000e-04\n",
            "Epoch 13/20\n",
            "314/314 [==============================] - ETA: 0s - loss: 0.0489 - accuracy: 0.9817\n",
            "Epoch 00013: ReduceLROnPlateau reducing learning rate to 0.0002500000118743628.\n",
            "\n",
            "Epoch 00013: val_accuracy did not improve from 0.98750\n",
            "314/314 [==============================] - 208s 662ms/step - loss: 0.0489 - accuracy: 0.9817 - val_loss: 0.0792 - val_accuracy: 0.9700 - lr: 5.0000e-04\n",
            "Epoch 14/20\n",
            "314/314 [==============================] - ETA: 0s - loss: 0.0350 - accuracy: 0.9879\n",
            "Epoch 00014: val_accuracy did not improve from 0.98750\n",
            "314/314 [==============================] - 200s 637ms/step - loss: 0.0350 - accuracy: 0.9879 - val_loss: 0.0475 - val_accuracy: 0.9825 - lr: 2.5000e-04\n",
            "Epoch 15/20\n",
            "314/314 [==============================] - ETA: 0s - loss: 0.0388 - accuracy: 0.9865\n",
            "Epoch 00015: ReduceLROnPlateau reducing learning rate to 0.0001250000059371814.\n",
            "\n",
            "Epoch 00015: val_accuracy did not improve from 0.98750\n",
            "314/314 [==============================] - 201s 639ms/step - loss: 0.0388 - accuracy: 0.9865 - val_loss: 0.0470 - val_accuracy: 0.9875 - lr: 2.5000e-04\n",
            "Epoch 00015: early stopping\n"
          ]
        }
      ]
    },
    {
      "cell_type": "code",
      "source": [
        "total_time = time.time()-start\n",
        "print(total_time) \n",
        "# 3096.4909472465515"
      ],
      "metadata": {
        "id": "2wZt16ek70Nk",
        "colab": {
          "base_uri": "https://localhost:8080/"
        },
        "outputId": "77405002-4ac8-4f14-ddce-3695ac4db43a"
      },
      "execution_count": null,
      "outputs": [
        {
          "output_type": "stream",
          "name": "stdout",
          "text": [
            "3096.4909472465515\n"
          ]
        }
      ]
    },
    {
      "cell_type": "code",
      "source": [
        "model.evaluate_generator(test_generator)\n",
        "# [0.04144008085131645, 0.9837499856948853]# 3096.4909472465515\n"
      ],
      "metadata": {
        "id": "1veGOyxE70Nk",
        "colab": {
          "base_uri": "https://localhost:8080/"
        },
        "outputId": "6b965241-6ea7-4a89-f507-b05d429ef028"
      },
      "execution_count": null,
      "outputs": [
        {
          "output_type": "stream",
          "name": "stderr",
          "text": [
            "/usr/local/lib/python3.7/dist-packages/ipykernel_launcher.py:1: UserWarning: `Model.evaluate_generator` is deprecated and will be removed in a future version. Please use `Model.evaluate`, which supports generators.\n",
            "  \"\"\"Entry point for launching an IPython kernel.\n"
          ]
        },
        {
          "output_type": "execute_result",
          "data": {
            "text/plain": [
              "[0.04144008085131645, 0.9837499856948853]"
            ]
          },
          "metadata": {},
          "execution_count": 51
        }
      ]
    },
    {
      "cell_type": "code",
      "source": [
        "import pickle\n",
        "with open('scores/vgg.pkl', 'wb') as f:\n",
        "  pickle.dump(history.history, f)"
      ],
      "metadata": {
        "id": "nq2GMcjb-fyJ"
      },
      "execution_count": null,
      "outputs": []
    },
    {
      "cell_type": "markdown",
      "source": [
        "#Plotting"
      ],
      "metadata": {
        "id": "me7Kmmad8e5k"
      }
    },
    {
      "cell_type": "code",
      "source": [
        "%pwd"
      ],
      "metadata": {
        "colab": {
          "base_uri": "https://localhost:8080/",
          "height": 36
        },
        "id": "dnAoBmf79E01",
        "outputId": "401668a9-5ee7-4fce-83b9-75d3b3e9639b"
      },
      "execution_count": null,
      "outputs": [
        {
          "output_type": "execute_result",
          "data": {
            "application/vnd.google.colaboratory.intrinsic+json": {
              "type": "string"
            },
            "text/plain": [
              "'/content'"
            ]
          },
          "metadata": {},
          "execution_count": 30
        }
      ]
    },
    {
      "cell_type": "code",
      "source": [
        "%cd \"/content/drive/MyDrive/Colab Notebooks/AI4E/Final Project/Mask detection\""
      ],
      "metadata": {
        "colab": {
          "base_uri": "https://localhost:8080/"
        },
        "id": "RetWbOgg9KTQ",
        "outputId": "f2a2b749-f377-43ac-946b-a5c7b77f5637"
      },
      "execution_count": null,
      "outputs": [
        {
          "output_type": "stream",
          "name": "stdout",
          "text": [
            "/content/drive/MyDrive/Colab Notebooks/AI4E/Final Project/Mask detection\n"
          ]
        }
      ]
    },
    {
      "cell_type": "code",
      "source": [
        "import pickle\n",
        "with open('scores/efn.pkl', 'rb') as f:\n",
        "    efn = pickle.load(f)\n",
        "with open('scores/inception.pkl', 'rb') as f:\n",
        "    incep = pickle.load(f)\n",
        "with open('scores/res_stand.pkl', 'rb') as f:\n",
        "    res_stand = pickle.load(f)\n",
        "with open('scores/res_norm.pkl', 'rb') as f:\n",
        "    res_norm = pickle.load(f)\n",
        "with open('scores/vgg.pkl', 'rb') as f:\n",
        "    vgg = pickle.load(f)"
      ],
      "metadata": {
        "id": "htZ9z2U-8g7p"
      },
      "execution_count": null,
      "outputs": []
    },
    {
      "cell_type": "code",
      "source": [
        "import matplotlib.pyplot as plt\n",
        "\n",
        "plt.figure(figsize=(16, 8))  \n",
        "plt.subplot(1,2,1)\n",
        "plt.plot(efn['accuracy'], color=\"b\", linewidth=2)\n",
        "plt.plot(incep['accuracy'], color=\"r\", linewidth=2)\n",
        "plt.plot(res_stand['accuracy'], color=\"g\", linewidth=2)  \n",
        "plt.plot(res_norm['accuracy'], color=\"y\", linewidth=2)  \n",
        "plt.plot(vgg['accuracy'], color=\"m\", linewidth=2) \n",
        "\n",
        "plt.title('accuracy')  \n",
        "plt.ylabel('accuracy')  \n",
        "plt.xlabel('epoch')  \n",
        "plt.legend(['efficientnet', 'inceptionv3', 'res_stand', 'res_norm', 'vgg'], loc='lower right')  \n",
        "\n",
        "plt.subplot(1,2,2)\n",
        "plt.plot(efn['accuracy'], color=\"b\", linewidth=2)\n",
        "plt.plot(incep['accuracy'], color=\"r\", linewidth=2)\n",
        "plt.plot(res_stand['accuracy'], color=\"g\", linewidth=2)  \n",
        "plt.plot(vgg['accuracy'], color=\"m\", linewidth=2) \n",
        "\n",
        "plt.title('accuracy')  \n",
        "plt.ylabel('accuracy')  \n",
        "plt.xlabel('epoch')  \n",
        "plt.legend(['efficientnet', 'inceptionv3', 'res_stand', 'vgg'], loc='lower right') \n",
        "plt.show()"
      ],
      "metadata": {
        "id": "Pytyoi3FHrBP",
        "colab": {
          "base_uri": "https://localhost:8080/",
          "height": 404
        },
        "outputId": "957ab794-21a2-4cdb-bb4e-a84b86dc20fa"
      },
      "execution_count": null,
      "outputs": [
        {
          "output_type": "display_data",
          "data": {
            "image/png": "[encoded data removed]",
            "text/plain": [
              "<Figure size 720x432 with 1 Axes>"
            ]
          },
          "metadata": {
            "needs_background": "light"
          }
        }
      ]
    },
    {
      "cell_type": "code",
      "source": [
        "import matplotlib.pyplot as plt\n",
        "\n",
        "plt.figure(figsize=(16, 8))  \n",
        "plt.subplot(1,2,1)\n",
        "plt.plot(efn['val_accuracy'], color=\"b\", linewidth=2)\n",
        "plt.plot(incep['val_accuracy'], color=\"r\", linewidth=2)\n",
        "plt.plot(res_stand['val_accuracy'], color=\"g\", linewidth=2)  \n",
        "plt.plot(res_norm['val_accuracy'], color=\"y\", linewidth=2)  \n",
        "plt.plot(vgg['val_accuracy'], color=\"m\", linewidth=2) \n",
        "\n",
        "plt.title('val_accuracy')  \n",
        "plt.ylabel('val_accuracy')  \n",
        "plt.xlabel('epoch')  \n",
        "plt.legend(['efficientnet', 'inceptionv3', 'res_stand', 'res_norm', 'vgg'], loc='lower right')  \n",
        "\n",
        "plt.subplot(1,2,2)\n",
        "plt.plot(efn['val_accuracy'], color=\"b\", linewidth=2)\n",
        "plt.plot(incep['val_accuracy'], color=\"r\", linewidth=2)\n",
        "plt.plot(res_stand['val_accuracy'], color=\"g\", linewidth=2)  \n",
        "plt.plot(vgg['val_accuracy'], color=\"m\", linewidth=2) \n",
        "\n",
        "plt.title('val_accuracy')  \n",
        "plt.ylabel('val_accuracy')  \n",
        "plt.xlabel('epoch')  \n",
        "plt.legend(['efficientnet', 'inceptionv3', 'res_stand', 'vgg'], loc='lower right') \n",
        "plt.show()"
      ],
      "metadata": {
        "id": "e_N9e7AbH9L_",
        "colab": {
          "base_uri": "https://localhost:8080/",
          "height": 513
        },
        "outputId": "a2bc27b1-b42a-4db2-de87-6283bb1af0c3"
      },
      "execution_count": null,
      "outputs": [
        {
          "output_type": "display_data",
          "data": {
            "image/png": "[encoded data removed]",
            "text/plain": [
              "<Figure size 1152x576 with 2 Axes>"
            ]
          },
          "metadata": {
            "needs_background": "light"
          }
        }
      ]
    },
    {
      "cell_type": "code",
      "source": [
        "import matplotlib.pyplot as plt\n",
        "\n",
        "plt.figure(figsize=(16, 8))  \n",
        "plt.subplot(1,2,1)\n",
        "plt.plot(efn['loss'], color=\"b\", linewidth=2)\n",
        "plt.plot(incep['loss'], color=\"r\", linewidth=2)\n",
        "plt.plot(res_stand['loss'], color=\"g\", linewidth=2)  \n",
        "plt.plot(res_norm['loss'], color=\"y\", linewidth=2)  \n",
        "plt.plot(vgg['loss'], color=\"m\", linewidth=2) \n",
        "\n",
        "plt.title('Loss')  \n",
        "plt.ylabel('loss')  \n",
        "plt.xlabel('epoch')  \n",
        "plt.legend(['efficientnet', 'inceptionv3', 'res_stand', 'res_norm', 'vgg'], loc='lower right')  \n",
        "\n",
        "plt.subplot(1,2,2)\n",
        "plt.plot(efn['loss'], color=\"b\", linewidth=2)\n",
        "plt.plot(incep['loss'], color=\"r\", linewidth=2)\n",
        "plt.plot(res_stand['loss'], color=\"g\", linewidth=2)  \n",
        "plt.plot(vgg['loss'], color=\"m\", linewidth=2) \n",
        "\n",
        "plt.title('Loss')  \n",
        "plt.ylabel('loss')  \n",
        "plt.xlabel('epoch')  \n",
        "plt.legend(['efficientnet', 'inceptionv3', 'res_stand', 'vgg'], loc='lower right') \n",
        "plt.show()"
      ],
      "metadata": {
        "colab": {
          "base_uri": "https://localhost:8080/",
          "height": 513
        },
        "id": "zIr71Jt2Z8jH",
        "outputId": "3d6b4236-a581-47f1-82c9-7b87ec56b15b"
      },
      "execution_count": null,
      "outputs": [
        {
          "output_type": "display_data",
          "data": {
            "image/png": "[encoded data removed]",
            "text/plain": [
              "<Figure size 1152x576 with 2 Axes>"
            ]
          },
          "metadata": {
            "needs_background": "light"
          }
        }
      ]
    },
    {
      "cell_type": "code",
      "source": [
        "import matplotlib.pyplot as plt\n",
        "\n",
        "plt.figure(figsize=(16, 8))  \n",
        "plt.subplot(1,2,1)\n",
        "plt.plot(efn['val_loss'], color=\"b\", linewidth=2)\n",
        "plt.plot(incep['val_loss'], color=\"r\", linewidth=2)\n",
        "plt.plot(res_stand['val_loss'], color=\"g\", linewidth=2)  \n",
        "plt.plot(res_norm['val_loss'], color=\"y\", linewidth=2)  \n",
        "plt.plot(vgg['val_loss'], color=\"m\", linewidth=2) \n",
        "\n",
        "plt.title('val_loss')  \n",
        "plt.ylabel('val_loss')  \n",
        "plt.xlabel('epoch')  \n",
        "plt.legend(['efficientnet', 'inceptionv3', 'res_stand', 'res_norm', 'vgg'], loc='lower right')  \n",
        "\n",
        "plt.subplot(1,2,2)\n",
        "plt.plot(efn['val_loss'], color=\"b\", linewidth=2)\n",
        "plt.plot(incep['val_loss'], color=\"r\", linewidth=2)\n",
        "plt.plot(res_stand['val_loss'], color=\"g\", linewidth=2)  \n",
        "plt.plot(vgg['val_loss'], color=\"m\", linewidth=2) \n",
        "\n",
        "plt.title('val_loss')  \n",
        "plt.ylabel('val_loss')  \n",
        "plt.xlabel('epoch')  \n",
        "plt.legend(['efficientnet', 'inceptionv3', 'res_stand', 'vgg'], loc='lower right') \n",
        "plt.show()"
      ],
      "metadata": {
        "colab": {
          "base_uri": "https://localhost:8080/",
          "height": 513
        },
        "id": "lov5wDE_80YI",
        "outputId": "469a6f98-9a85-448e-d78d-9ca81d42d7a4"
      },
      "execution_count": null,
      "outputs": [
        {
          "output_type": "display_data",
          "data": {
            "image/png": "[encoded data removed]",
            "text/plain": [
              "<Figure size 1152x576 with 2 Axes>"
            ]
          },
          "metadata": {
            "needs_background": "light"
          }
        }
      ]
    },
    {
      "cell_type": "code",
      "source": [
        "import pandas as pd \n",
        "efn = [0.011287834495306015, 0.9962499737739563, 1828.9590902328491]\n",
        "inception = [0.023700179532170296, 0.9975000023841858, 2016.7430481910706]\n",
        "res_stand = [0.08243097364902496, 0.9975000023841858, 2951.790164232254]\n",
        "vgg = [0.04144008085131645, 0.9837499856948853, 3096.4909472465515]\n",
        "scores = pd.DataFrame([\n",
        "                       efn,\n",
        "                       inception,\n",
        "                       res_stand,\n",
        "                       vgg],\n",
        "                      index=[\"EfficientNet\", \"Inception\", \"Resnet50\", \"VGG19\"],\n",
        "                      columns=[\"Loss\", \"Accuracy\", \"Time\"])\n",
        "scores = scores.reset_index()\n",
        "print(scores)"
      ],
      "metadata": {
        "colab": {
          "base_uri": "https://localhost:8080/"
        },
        "id": "A5zwZWHK87aQ",
        "outputId": "32b5c6d8-9432-426f-b3ff-b023e4d71431"
      },
      "execution_count": null,
      "outputs": [
        {
          "output_type": "stream",
          "name": "stdout",
          "text": [
            "          index      Loss  Accuracy         Time\n",
            "0  EfficientNet  0.011288   0.99625  1828.959090\n",
            "1     Inception  0.023700   0.99750  2016.743048\n",
            "2      Resnet50  0.082431   0.99750  2951.790164\n",
            "3         VGG19  0.041440   0.98375  3096.490947\n"
          ]
        }
      ]
    },
    {
      "cell_type": "code",
      "source": [
        "import seaborn as sns\n",
        "import matplotlib.pyplot as plt\n"
      ],
      "metadata": {
        "id": "hn6o07I0mCT4"
      },
      "execution_count": null,
      "outputs": []
    },
    {
      "cell_type": "code",
      "source": [
        "sns.relplot(data=scores, x=\"Time\", y=\"Accuracy\", \n",
        "            hue=\"index\", \n",
        "            palette=[\"b\",\"r\",\"g\",\"m\"], s=200)"
      ],
      "metadata": {
        "colab": {
          "base_uri": "https://localhost:8080/",
          "height": 387
        },
        "id": "cMms1oS-mw0-",
        "outputId": "343d6671-6803-48a4-e857-2da8568635f6"
      },
      "execution_count": null,
      "outputs": [
        {
          "output_type": "execute_result",
          "data": {
            "text/plain": [
              "<seaborn.axisgrid.FacetGrid at 0x7f2006a9ab10>"
            ]
          },
          "metadata": {},
          "execution_count": 83
        },
        {
          "output_type": "display_data",
          "data": {
            "image/png": "[encoded data removed]",
            "text/plain": [
              "<Figure size 454.625x360 with 1 Axes>"
            ]
          },
          "metadata": {
            "needs_background": "light"
          }
        }
      ]
    },
    {
      "cell_type": "code",
      "source": [],
      "metadata": {
        "id": "NPqIPmKHm4QP"
      },
      "execution_count": null,
      "outputs": []
    }
  ]
}