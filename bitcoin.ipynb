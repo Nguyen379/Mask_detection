{
  "nbformat": 4,
  "nbformat_minor": 0,
  "metadata": {
    "colab": {
      "provenance": [],
      "mount_file_id": "1t5tS-GRslfhtk18_3vK4OLp5fDK9mXcI",
      "authorship_tag": "ABX9TyOmg8riAjjyUTDYd/SCTefH",
      "include_colab_link": true
    },
    "kernelspec": {
      "name": "python3",
      "display_name": "Python 3"
    },
    "language_info": {
      "name": "python"
    }
  },
  "cells": [
    {
      "cell_type": "markdown",
      "metadata": {
        "id": "view-in-github",
        "colab_type": "text"
      },
      "source": [
        "<a href=\"https://colab.research.google.com/github/Nguyen379/Mask_detection/blob/main/bitcoin.ipynb\" target=\"_parent\"><img src=\"https://colab.research.google.com/assets/colab-badge.svg\" alt=\"Open In Colab\"/></a>"
      ]
    },
    {
      "cell_type": "code",
      "source": [
        "%pwd"
      ],
      "metadata": {
        "colab": {
          "base_uri": "https://localhost:8080/",
          "height": 35
        },
        "id": "-nsb96ixSGBr",
        "outputId": "404956c1-bc30-4c3c-aecf-381442c0aae6"
      },
      "execution_count": null,
      "outputs": [
        {
          "output_type": "execute_result",
          "data": {
            "application/vnd.google.colaboratory.intrinsic+json": {
              "type": "string"
            },
            "text/plain": [
              "'/content'"
            ]
          },
          "metadata": {},
          "execution_count": 2
        }
      ]
    },
    {
      "cell_type": "code",
      "execution_count": null,
      "metadata": {
        "colab": {
          "base_uri": "https://localhost:8080/"
        },
        "id": "JHi1iaV9R4QA",
        "outputId": "6ba5e9d2-148c-4fec-89c0-707317ed20a1"
      },
      "outputs": [
        {
          "output_type": "stream",
          "name": "stdout",
          "text": [
            "/content/drive/MyDrive/Colab Notebooks/comap\n"
          ]
        }
      ],
      "source": [
        "%cd \"/content/drive/MyDrive/Colab Notebooks/comap\""
      ]
    },
    {
      "cell_type": "code",
      "source": [
        "# import packages\n",
        "import matplotlib\n",
        "import pandas as pd\n",
        "import numpy as np\n",
        "\n",
        "import matplotlib.pyplot as plt\n",
        "\n",
        "from matplotlib.pylab import rcParams\n",
        "\n",
        "rcParams['figure.figsize'] = 20, 10\n",
        "\n",
        "from sklearn.preprocessing import MinMaxScaler\n",
        "\n",
        "df = pd.read_csv('BCHAIN-MKPRU.csv')\n",
        "\n",
        "df['Date'] = pd.to_datetime(df.Date, format=\"%m/%d/%y\")\n",
        "df.index = df['Date']\n",
        "\n",
        "data = df.sort_index(ascending=True, axis=0)\n",
        "\n",
        "new_data = pd.DataFrame(index=range(0, len(df)), columns=['Date', 'Value'])\n",
        "print(data)\n"
      ],
      "metadata": {
        "id": "T4msxgFKSJZK",
        "colab": {
          "base_uri": "https://localhost:8080/"
        },
        "outputId": "43dd592f-1c52-4f98-8007-20c21fbd2688"
      },
      "execution_count": null,
      "outputs": [
        {
          "output_type": "stream",
          "name": "stdout",
          "text": [
            "                 Date     Value\n",
            "Date                           \n",
            "2016-09-11 2016-09-11    621.65\n",
            "2016-09-12 2016-09-12    609.67\n",
            "2016-09-13 2016-09-13    610.92\n",
            "2016-09-14 2016-09-14    608.82\n",
            "2016-09-15 2016-09-15    610.38\n",
            "...               ...       ...\n",
            "2021-09-06 2021-09-06  51769.06\n",
            "2021-09-07 2021-09-07  52677.40\n",
            "2021-09-08 2021-09-08  46809.17\n",
            "2021-09-09 2021-09-09  46078.38\n",
            "2021-09-10 2021-09-10  46368.69\n",
            "\n",
            "[1826 rows x 2 columns]\n"
          ]
        }
      ]
    },
    {
      "cell_type": "code",
      "source": [
        "for i in range(0, len(data)):\n",
        "    new_data['Date'][i] = data['Date'][i]\n",
        "    new_data['Value'][i] = data['Value'][i]\n",
        "\n",
        "new_data.index = new_data.Date\n",
        "new_data.drop('Date', axis=1, inplace=True)\n",
        "dataset = new_data.values\n",
        "print(new_data.head())"
      ],
      "metadata": {
        "colab": {
          "base_uri": "https://localhost:8080/"
        },
        "id": "O6l8wiOllFmM",
        "outputId": "58bbc59b-5d04-422b-e993-bc22e1aa5324"
      },
      "execution_count": null,
      "outputs": [
        {
          "output_type": "stream",
          "name": "stdout",
          "text": [
            "             Value\n",
            "Date              \n",
            "2016-09-11  621.65\n",
            "2016-09-12  609.67\n",
            "2016-09-13  610.92\n",
            "2016-09-14  608.82\n",
            "2016-09-15  610.38\n"
          ]
        }
      ]
    },
    {
      "cell_type": "code",
      "source": [
        "eighty_percent = dataset.shape[0]*4//5\n",
        "sixty_percent = dataset.shape[0]*3//5\n",
        "print(sixty_percent)\n",
        "train = dataset[sixty_percent:eighty_percent, :]\n",
        "valid = dataset[eighty_percent:, :]"
      ],
      "metadata": {
        "id": "Z03e_9lCl_Tx"
      },
      "execution_count": null,
      "outputs": []
    },
    {
      "cell_type": "code",
      "source": [
        "scaler = MinMaxScaler(feature_range=(0, 1))\n",
        "scaled_data = scaler.fit_transform(dataset)\n",
        "\n",
        "x_train, y_train = [], []\n",
        "for i in range(60, len(train)):\n",
        "    x_train.append(scaled_data[i - 60:i, 0])\n",
        "    y_train.append(scaled_data[i, 0])\n",
        "x_train, y_train = np.array(x_train), np.array(y_train)\n",
        "\n",
        "x_train = np.reshape(x_train, (x_train.shape[0], x_train.shape[1], 1))"
      ],
      "metadata": {
        "id": "Ci_9O_rqSMjT"
      },
      "execution_count": null,
      "outputs": []
    },
    {
      "cell_type": "code",
      "source": [
        "from tensorflow.keras.models import Sequential\n",
        "from tensorflow.keras.layers import Dense, Dropout, LSTM\n",
        "\n",
        "model = Sequential()\n",
        "model.add(LSTM(units=50, return_sequences=True, input_shape=(x_train.shape[1], 1)))\n",
        "model.add(LSTM(units=50))\n",
        "model.add(Dense(1))\n",
        "\n",
        "model.compile(loss='mean_squared_error', optimizer='adam')\n",
        "model.fit(x_train, y_train, epochs=1, batch_size=1, verbose=2)"
      ],
      "metadata": {
        "id": "vTF8QpYHlf6C"
      },
      "execution_count": null,
      "outputs": []
    },
    {
      "cell_type": "code",
      "source": [
        "# predicting 246 values, using past 60 from the train data\n",
        "inputs = new_data[len(new_data) - len(valid) - 60:].values\n",
        "inputs = inputs.reshape(-1, 1)\n",
        "inputs = scaler.transform(inputs)\n",
        "X_test = []\n",
        "for i in range(60, inputs.shape[0]):\n",
        "    X_test.append(inputs[i - 60:i, 0])\n",
        "X_test = np.array(X_test)\n",
        "\n",
        "X_test = np.reshape(X_test, (X_test.shape[0], X_test.shape[1], 1))\n",
        "closing_price = model.predict(X_test)\n",
        "closing_price = scaler.inverse_transform(closing_price)\n",
        "\n"
      ],
      "metadata": {
        "id": "HgSoQUvPlXoE"
      },
      "execution_count": null,
      "outputs": []
    },
    {
      "cell_type": "code",
      "source": [
        "rms = np.sqrt(np.mean(np.power((valid - closing_price), 2)))\n",
        "print(rms)"
      ],
      "metadata": {
        "id": "2XUOYPUXSN5t"
      },
      "execution_count": null,
      "outputs": []
    },
    {
      "cell_type": "code",
      "source": [
        "train = new_data[sixty_percent:eighty_percent]\n",
        "valid = new_data[eighty_percent:]\n",
        "valid['Predictions'] = closing_price\n",
        "plt.plot(train['Value'])\n",
        "plt.plot(valid[['Value', 'Predictions']])"
      ],
      "metadata": {
        "id": "5OT31ISNST5j"
      },
      "execution_count": null,
      "outputs": []
    }
  ]
}