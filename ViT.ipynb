{
  "nbformat": 4,
  "nbformat_minor": 0,
  "metadata": {
    "colab": {
      "provenance": [],
      "collapsed_sections": [
        "mWkrnlEo1ThT"
      ],
      "mount_file_id": "1tEwxc6XLnn0L1-ZLDg4lK0iXwjiH9Moa",
      "authorship_tag": "ABX9TyN9/YkNmiZe8PqUEdpeYnkr",
      "include_colab_link": true
    },
    "kernelspec": {
      "name": "python3",
      "display_name": "Python 3"
    },
    "language_info": {
      "name": "python"
    },
    "widgets": {
      "application/vnd.jupyter.widget-state+json": {
        "f6b4d38e3239438c958b91a2d23d4f26": {
          "model_module": "@jupyter-widgets/controls",
          "model_name": "HBoxModel",
          "model_module_version": "1.5.0",
          "state": {
            "_view_name": "HBoxView",
            "_dom_classes": [],
            "_model_name": "HBoxModel",
            "_view_module": "@jupyter-widgets/controls",
            "_model_module_version": "1.5.0",
            "_view_count": null,
            "_view_module_version": "1.5.0",
            "box_style": "",
            "layout": "IPY_MODEL_0e7947e960e54f7daef29bd4dbf72753",
            "_model_module": "@jupyter-widgets/controls",
            "children": [
              "IPY_MODEL_b10917d4674145ea9fe21b5fc4002796",
              "IPY_MODEL_1590b891c1904cc8840e810f45908f8b",
              "IPY_MODEL_a742a9eeee7c4be8901b1973ea27bb46"
            ]
          }
        },
        "0e7947e960e54f7daef29bd4dbf72753": {
          "model_module": "@jupyter-widgets/base",
          "model_name": "LayoutModel",
          "model_module_version": "1.2.0",
          "state": {
            "_view_name": "LayoutView",
            "grid_template_rows": null,
            "right": null,
            "justify_content": null,
            "_view_module": "@jupyter-widgets/base",
            "overflow": null,
            "_model_module_version": "1.2.0",
            "_view_count": null,
            "flex_flow": null,
            "width": null,
            "min_width": null,
            "border": null,
            "align_items": null,
            "bottom": null,
            "_model_module": "@jupyter-widgets/base",
            "top": null,
            "grid_column": null,
            "overflow_y": null,
            "overflow_x": null,
            "grid_auto_flow": null,
            "grid_area": null,
            "grid_template_columns": null,
            "flex": null,
            "_model_name": "LayoutModel",
            "justify_items": null,
            "grid_row": null,
            "max_height": null,
            "align_content": null,
            "visibility": null,
            "align_self": null,
            "height": null,
            "min_height": null,
            "padding": null,
            "grid_auto_rows": null,
            "grid_gap": null,
            "max_width": null,
            "order": null,
            "_view_module_version": "1.2.0",
            "grid_template_areas": null,
            "object_position": null,
            "object_fit": null,
            "grid_auto_columns": null,
            "margin": null,
            "display": null,
            "left": null
          }
        },
        "b10917d4674145ea9fe21b5fc4002796": {
          "model_module": "@jupyter-widgets/controls",
          "model_name": "HTMLModel",
          "model_module_version": "1.5.0",
          "state": {
            "_view_name": "HTMLView",
            "style": "IPY_MODEL_8d413052f1db41ccb949bbedfd71f42f",
            "_dom_classes": [],
            "description": "",
            "_model_name": "HTMLModel",
            "placeholder": "​",
            "_view_module": "@jupyter-widgets/controls",
            "_model_module_version": "1.5.0",
            "value": "Downloading: 100%",
            "_view_count": null,
            "_view_module_version": "1.5.0",
            "description_tooltip": null,
            "_model_module": "@jupyter-widgets/controls",
            "layout": "IPY_MODEL_0f9de2ee1a6342aeaaf5641bd8ea583e"
          }
        },
        "1590b891c1904cc8840e810f45908f8b": {
          "model_module": "@jupyter-widgets/controls",
          "model_name": "FloatProgressModel",
          "model_module_version": "1.5.0",
          "state": {
            "_view_name": "ProgressView",
            "style": "IPY_MODEL_2154bd8717f24fcfa0d0544e08ec4e98",
            "_dom_classes": [],
            "description": "",
            "_model_name": "FloatProgressModel",
            "bar_style": "success",
            "max": 160,
            "_view_module": "@jupyter-widgets/controls",
            "_model_module_version": "1.5.0",
            "value": 160,
            "_view_count": null,
            "_view_module_version": "1.5.0",
            "orientation": "horizontal",
            "min": 0,
            "description_tooltip": null,
            "_model_module": "@jupyter-widgets/controls",
            "layout": "IPY_MODEL_368ceba3ef974163827ab244ec60a0db"
          }
        },
        "a742a9eeee7c4be8901b1973ea27bb46": {
          "model_module": "@jupyter-widgets/controls",
          "model_name": "HTMLModel",
          "model_module_version": "1.5.0",
          "state": {
            "_view_name": "HTMLView",
            "style": "IPY_MODEL_6981ff8252bf4cb0a25ae50fd40796fa",
            "_dom_classes": [],
            "description": "",
            "_model_name": "HTMLModel",
            "placeholder": "​",
            "_view_module": "@jupyter-widgets/controls",
            "_model_module_version": "1.5.0",
            "value": " 160/160 [00:00&lt;00:00, 3.92kB/s]",
            "_view_count": null,
            "_view_module_version": "1.5.0",
            "description_tooltip": null,
            "_model_module": "@jupyter-widgets/controls",
            "layout": "IPY_MODEL_2a2bb55c8b1a465c810626df5db33def"
          }
        },
        "8d413052f1db41ccb949bbedfd71f42f": {
          "model_module": "@jupyter-widgets/controls",
          "model_name": "DescriptionStyleModel",
          "model_module_version": "1.5.0",
          "state": {
            "_view_name": "StyleView",
            "_model_name": "DescriptionStyleModel",
            "description_width": "",
            "_view_module": "@jupyter-widgets/base",
            "_model_module_version": "1.5.0",
            "_view_count": null,
            "_view_module_version": "1.2.0",
            "_model_module": "@jupyter-widgets/controls"
          }
        },
        "0f9de2ee1a6342aeaaf5641bd8ea583e": {
          "model_module": "@jupyter-widgets/base",
          "model_name": "LayoutModel",
          "model_module_version": "1.2.0",
          "state": {
            "_view_name": "LayoutView",
            "grid_template_rows": null,
            "right": null,
            "justify_content": null,
            "_view_module": "@jupyter-widgets/base",
            "overflow": null,
            "_model_module_version": "1.2.0",
            "_view_count": null,
            "flex_flow": null,
            "width": null,
            "min_width": null,
            "border": null,
            "align_items": null,
            "bottom": null,
            "_model_module": "@jupyter-widgets/base",
            "top": null,
            "grid_column": null,
            "overflow_y": null,
            "overflow_x": null,
            "grid_auto_flow": null,
            "grid_area": null,
            "grid_template_columns": null,
            "flex": null,
            "_model_name": "LayoutModel",
            "justify_items": null,
            "grid_row": null,
            "max_height": null,
            "align_content": null,
            "visibility": null,
            "align_self": null,
            "height": null,
            "min_height": null,
            "padding": null,
            "grid_auto_rows": null,
            "grid_gap": null,
            "max_width": null,
            "order": null,
            "_view_module_version": "1.2.0",
            "grid_template_areas": null,
            "object_position": null,
            "object_fit": null,
            "grid_auto_columns": null,
            "margin": null,
            "display": null,
            "left": null
          }
        },
        "2154bd8717f24fcfa0d0544e08ec4e98": {
          "model_module": "@jupyter-widgets/controls",
          "model_name": "ProgressStyleModel",
          "model_module_version": "1.5.0",
          "state": {
            "_view_name": "StyleView",
            "_model_name": "ProgressStyleModel",
            "description_width": "",
            "_view_module": "@jupyter-widgets/base",
            "_model_module_version": "1.5.0",
            "_view_count": null,
            "_view_module_version": "1.2.0",
            "bar_color": null,
            "_model_module": "@jupyter-widgets/controls"
          }
        },
        "368ceba3ef974163827ab244ec60a0db": {
          "model_module": "@jupyter-widgets/base",
          "model_name": "LayoutModel",
          "model_module_version": "1.2.0",
          "state": {
            "_view_name": "LayoutView",
            "grid_template_rows": null,
            "right": null,
            "justify_content": null,
            "_view_module": "@jupyter-widgets/base",
            "overflow": null,
            "_model_module_version": "1.2.0",
            "_view_count": null,
            "flex_flow": null,
            "width": null,
            "min_width": null,
            "border": null,
            "align_items": null,
            "bottom": null,
            "_model_module": "@jupyter-widgets/base",
            "top": null,
            "grid_column": null,
            "overflow_y": null,
            "overflow_x": null,
            "grid_auto_flow": null,
            "grid_area": null,
            "grid_template_columns": null,
            "flex": null,
            "_model_name": "LayoutModel",
            "justify_items": null,
            "grid_row": null,
            "max_height": null,
            "align_content": null,
            "visibility": null,
            "align_self": null,
            "height": null,
            "min_height": null,
            "padding": null,
            "grid_auto_rows": null,
            "grid_gap": null,
            "max_width": null,
            "order": null,
            "_view_module_version": "1.2.0",
            "grid_template_areas": null,
            "object_position": null,
            "object_fit": null,
            "grid_auto_columns": null,
            "margin": null,
            "display": null,
            "left": null
          }
        },
        "6981ff8252bf4cb0a25ae50fd40796fa": {
          "model_module": "@jupyter-widgets/controls",
          "model_name": "DescriptionStyleModel",
          "model_module_version": "1.5.0",
          "state": {
            "_view_name": "StyleView",
            "_model_name": "DescriptionStyleModel",
            "description_width": "",
            "_view_module": "@jupyter-widgets/base",
            "_model_module_version": "1.5.0",
            "_view_count": null,
            "_view_module_version": "1.2.0",
            "_model_module": "@jupyter-widgets/controls"
          }
        },
        "2a2bb55c8b1a465c810626df5db33def": {
          "model_module": "@jupyter-widgets/base",
          "model_name": "LayoutModel",
          "model_module_version": "1.2.0",
          "state": {
            "_view_name": "LayoutView",
            "grid_template_rows": null,
            "right": null,
            "justify_content": null,
            "_view_module": "@jupyter-widgets/base",
            "overflow": null,
            "_model_module_version": "1.2.0",
            "_view_count": null,
            "flex_flow": null,
            "width": null,
            "min_width": null,
            "border": null,
            "align_items": null,
            "bottom": null,
            "_model_module": "@jupyter-widgets/base",
            "top": null,
            "grid_column": null,
            "overflow_y": null,
            "overflow_x": null,
            "grid_auto_flow": null,
            "grid_area": null,
            "grid_template_columns": null,
            "flex": null,
            "_model_name": "LayoutModel",
            "justify_items": null,
            "grid_row": null,
            "max_height": null,
            "align_content": null,
            "visibility": null,
            "align_self": null,
            "height": null,
            "min_height": null,
            "padding": null,
            "grid_auto_rows": null,
            "grid_gap": null,
            "max_width": null,
            "order": null,
            "_view_module_version": "1.2.0",
            "grid_template_areas": null,
            "object_position": null,
            "object_fit": null,
            "grid_auto_columns": null,
            "margin": null,
            "display": null,
            "left": null
          }
        },
        "a01c12dc1131452ca91acaac810e35dd": {
          "model_module": "@jupyter-widgets/controls",
          "model_name": "HBoxModel",
          "model_module_version": "1.5.0",
          "state": {
            "_view_name": "HBoxView",
            "_dom_classes": [],
            "_model_name": "HBoxModel",
            "_view_module": "@jupyter-widgets/controls",
            "_model_module_version": "1.5.0",
            "_view_count": null,
            "_view_module_version": "1.5.0",
            "box_style": "",
            "layout": "IPY_MODEL_8d2c4138c4e24d5fa35cf3be2866c8f5",
            "_model_module": "@jupyter-widgets/controls",
            "children": [
              "IPY_MODEL_b4c926fe89bf4b339cd73c3b70052fdc",
              "IPY_MODEL_cbb451f453b849328819aae124fdd258",
              "IPY_MODEL_686b9c31ada0459bad989d29f679095b"
            ]
          }
        },
        "8d2c4138c4e24d5fa35cf3be2866c8f5": {
          "model_module": "@jupyter-widgets/base",
          "model_name": "LayoutModel",
          "model_module_version": "1.2.0",
          "state": {
            "_view_name": "LayoutView",
            "grid_template_rows": null,
            "right": null,
            "justify_content": null,
            "_view_module": "@jupyter-widgets/base",
            "overflow": null,
            "_model_module_version": "1.2.0",
            "_view_count": null,
            "flex_flow": null,
            "width": null,
            "min_width": null,
            "border": null,
            "align_items": null,
            "bottom": null,
            "_model_module": "@jupyter-widgets/base",
            "top": null,
            "grid_column": null,
            "overflow_y": null,
            "overflow_x": null,
            "grid_auto_flow": null,
            "grid_area": null,
            "grid_template_columns": null,
            "flex": null,
            "_model_name": "LayoutModel",
            "justify_items": null,
            "grid_row": null,
            "max_height": null,
            "align_content": null,
            "visibility": null,
            "align_self": null,
            "height": null,
            "min_height": null,
            "padding": null,
            "grid_auto_rows": null,
            "grid_gap": null,
            "max_width": null,
            "order": null,
            "_view_module_version": "1.2.0",
            "grid_template_areas": null,
            "object_position": null,
            "object_fit": null,
            "grid_auto_columns": null,
            "margin": null,
            "display": null,
            "left": null
          }
        },
        "b4c926fe89bf4b339cd73c3b70052fdc": {
          "model_module": "@jupyter-widgets/controls",
          "model_name": "HTMLModel",
          "model_module_version": "1.5.0",
          "state": {
            "_view_name": "HTMLView",
            "style": "IPY_MODEL_eb4d17a4dc944234b1400b3b7d493af4",
            "_dom_classes": [],
            "description": "",
            "_model_name": "HTMLModel",
            "placeholder": "​",
            "_view_module": "@jupyter-widgets/controls",
            "_model_module_version": "1.5.0",
            "value": "Downloading: 100%",
            "_view_count": null,
            "_view_module_version": "1.5.0",
            "description_tooltip": null,
            "_model_module": "@jupyter-widgets/controls",
            "layout": "IPY_MODEL_8c5312eb61a04905aa7cc449fa4ebc29"
          }
        },
        "cbb451f453b849328819aae124fdd258": {
          "model_module": "@jupyter-widgets/controls",
          "model_name": "FloatProgressModel",
          "model_module_version": "1.5.0",
          "state": {
            "_view_name": "ProgressView",
            "style": "IPY_MODEL_b4562a3061764824a493fb8fb6ac1427",
            "_dom_classes": [],
            "description": "",
            "_model_name": "FloatProgressModel",
            "bar_style": "success",
            "max": 69665,
            "_view_module": "@jupyter-widgets/controls",
            "_model_module_version": "1.5.0",
            "value": 69665,
            "_view_count": null,
            "_view_module_version": "1.5.0",
            "orientation": "horizontal",
            "min": 0,
            "description_tooltip": null,
            "_model_module": "@jupyter-widgets/controls",
            "layout": "IPY_MODEL_0e89d39eb14549788f6ed9cc5d812eef"
          }
        },
        "686b9c31ada0459bad989d29f679095b": {
          "model_module": "@jupyter-widgets/controls",
          "model_name": "HTMLModel",
          "model_module_version": "1.5.0",
          "state": {
            "_view_name": "HTMLView",
            "style": "IPY_MODEL_3f0f3b99024148f389d363a5ef7068e1",
            "_dom_classes": [],
            "description": "",
            "_model_name": "HTMLModel",
            "placeholder": "​",
            "_view_module": "@jupyter-widgets/controls",
            "_model_module_version": "1.5.0",
            "value": " 68.0k/68.0k [00:00&lt;00:00, 953kB/s]",
            "_view_count": null,
            "_view_module_version": "1.5.0",
            "description_tooltip": null,
            "_model_module": "@jupyter-widgets/controls",
            "layout": "IPY_MODEL_c3731fc581684b8bb547b67e81b0f44f"
          }
        },
        "eb4d17a4dc944234b1400b3b7d493af4": {
          "model_module": "@jupyter-widgets/controls",
          "model_name": "DescriptionStyleModel",
          "model_module_version": "1.5.0",
          "state": {
            "_view_name": "StyleView",
            "_model_name": "DescriptionStyleModel",
            "description_width": "",
            "_view_module": "@jupyter-widgets/base",
            "_model_module_version": "1.5.0",
            "_view_count": null,
            "_view_module_version": "1.2.0",
            "_model_module": "@jupyter-widgets/controls"
          }
        },
        "8c5312eb61a04905aa7cc449fa4ebc29": {
          "model_module": "@jupyter-widgets/base",
          "model_name": "LayoutModel",
          "model_module_version": "1.2.0",
          "state": {
            "_view_name": "LayoutView",
            "grid_template_rows": null,
            "right": null,
            "justify_content": null,
            "_view_module": "@jupyter-widgets/base",
            "overflow": null,
            "_model_module_version": "1.2.0",
            "_view_count": null,
            "flex_flow": null,
            "width": null,
            "min_width": null,
            "border": null,
            "align_items": null,
            "bottom": null,
            "_model_module": "@jupyter-widgets/base",
            "top": null,
            "grid_column": null,
            "overflow_y": null,
            "overflow_x": null,
            "grid_auto_flow": null,
            "grid_area": null,
            "grid_template_columns": null,
            "flex": null,
            "_model_name": "LayoutModel",
            "justify_items": null,
            "grid_row": null,
            "max_height": null,
            "align_content": null,
            "visibility": null,
            "align_self": null,
            "height": null,
            "min_height": null,
            "padding": null,
            "grid_auto_rows": null,
            "grid_gap": null,
            "max_width": null,
            "order": null,
            "_view_module_version": "1.2.0",
            "grid_template_areas": null,
            "object_position": null,
            "object_fit": null,
            "grid_auto_columns": null,
            "margin": null,
            "display": null,
            "left": null
          }
        },
        "b4562a3061764824a493fb8fb6ac1427": {
          "model_module": "@jupyter-widgets/controls",
          "model_name": "ProgressStyleModel",
          "model_module_version": "1.5.0",
          "state": {
            "_view_name": "StyleView",
            "_model_name": "ProgressStyleModel",
            "description_width": "",
            "_view_module": "@jupyter-widgets/base",
            "_model_module_version": "1.5.0",
            "_view_count": null,
            "_view_module_version": "1.2.0",
            "bar_color": null,
            "_model_module": "@jupyter-widgets/controls"
          }
        },
        "0e89d39eb14549788f6ed9cc5d812eef": {
          "model_module": "@jupyter-widgets/base",
          "model_name": "LayoutModel",
          "model_module_version": "1.2.0",
          "state": {
            "_view_name": "LayoutView",
            "grid_template_rows": null,
            "right": null,
            "justify_content": null,
            "_view_module": "@jupyter-widgets/base",
            "overflow": null,
            "_model_module_version": "1.2.0",
            "_view_count": null,
            "flex_flow": null,
            "width": null,
            "min_width": null,
            "border": null,
            "align_items": null,
            "bottom": null,
            "_model_module": "@jupyter-widgets/base",
            "top": null,
            "grid_column": null,
            "overflow_y": null,
            "overflow_x": null,
            "grid_auto_flow": null,
            "grid_area": null,
            "grid_template_columns": null,
            "flex": null,
            "_model_name": "LayoutModel",
            "justify_items": null,
            "grid_row": null,
            "max_height": null,
            "align_content": null,
            "visibility": null,
            "align_self": null,
            "height": null,
            "min_height": null,
            "padding": null,
            "grid_auto_rows": null,
            "grid_gap": null,
            "max_width": null,
            "order": null,
            "_view_module_version": "1.2.0",
            "grid_template_areas": null,
            "object_position": null,
            "object_fit": null,
            "grid_auto_columns": null,
            "margin": null,
            "display": null,
            "left": null
          }
        },
        "3f0f3b99024148f389d363a5ef7068e1": {
          "model_module": "@jupyter-widgets/controls",
          "model_name": "DescriptionStyleModel",
          "model_module_version": "1.5.0",
          "state": {
            "_view_name": "StyleView",
            "_model_name": "DescriptionStyleModel",
            "description_width": "",
            "_view_module": "@jupyter-widgets/base",
            "_model_module_version": "1.5.0",
            "_view_count": null,
            "_view_module_version": "1.2.0",
            "_model_module": "@jupyter-widgets/controls"
          }
        },
        "c3731fc581684b8bb547b67e81b0f44f": {
          "model_module": "@jupyter-widgets/base",
          "model_name": "LayoutModel",
          "model_module_version": "1.2.0",
          "state": {
            "_view_name": "LayoutView",
            "grid_template_rows": null,
            "right": null,
            "justify_content": null,
            "_view_module": "@jupyter-widgets/base",
            "overflow": null,
            "_model_module_version": "1.2.0",
            "_view_count": null,
            "flex_flow": null,
            "width": null,
            "min_width": null,
            "border": null,
            "align_items": null,
            "bottom": null,
            "_model_module": "@jupyter-widgets/base",
            "top": null,
            "grid_column": null,
            "overflow_y": null,
            "overflow_x": null,
            "grid_auto_flow": null,
            "grid_area": null,
            "grid_template_columns": null,
            "flex": null,
            "_model_name": "LayoutModel",
            "justify_items": null,
            "grid_row": null,
            "max_height": null,
            "align_content": null,
            "visibility": null,
            "align_self": null,
            "height": null,
            "min_height": null,
            "padding": null,
            "grid_auto_rows": null,
            "grid_gap": null,
            "max_width": null,
            "order": null,
            "_view_module_version": "1.2.0",
            "grid_template_areas": null,
            "object_position": null,
            "object_fit": null,
            "grid_auto_columns": null,
            "margin": null,
            "display": null,
            "left": null
          }
        },
        "c966c97cae3f4598b05cd221a2da98c9": {
          "model_module": "@jupyter-widgets/controls",
          "model_name": "HBoxModel",
          "model_module_version": "1.5.0",
          "state": {
            "_view_name": "HBoxView",
            "_dom_classes": [],
            "_model_name": "HBoxModel",
            "_view_module": "@jupyter-widgets/controls",
            "_model_module_version": "1.5.0",
            "_view_count": null,
            "_view_module_version": "1.5.0",
            "box_style": "",
            "layout": "IPY_MODEL_3813ef9cfc9949c781ef0f31c3fbc0b6",
            "_model_module": "@jupyter-widgets/controls",
            "children": [
              "IPY_MODEL_8864138227f449dfb691eff8b68fc47c",
              "IPY_MODEL_4731eac10edf4b0e859cc27345b36b47",
              "IPY_MODEL_4529825544564daebeee7e667edd9969"
            ]
          }
        },
        "3813ef9cfc9949c781ef0f31c3fbc0b6": {
          "model_module": "@jupyter-widgets/base",
          "model_name": "LayoutModel",
          "model_module_version": "1.2.0",
          "state": {
            "_view_name": "LayoutView",
            "grid_template_rows": null,
            "right": null,
            "justify_content": null,
            "_view_module": "@jupyter-widgets/base",
            "overflow": null,
            "_model_module_version": "1.2.0",
            "_view_count": null,
            "flex_flow": null,
            "width": null,
            "min_width": null,
            "border": null,
            "align_items": null,
            "bottom": null,
            "_model_module": "@jupyter-widgets/base",
            "top": null,
            "grid_column": null,
            "overflow_y": null,
            "overflow_x": null,
            "grid_auto_flow": null,
            "grid_area": null,
            "grid_template_columns": null,
            "flex": null,
            "_model_name": "LayoutModel",
            "justify_items": null,
            "grid_row": null,
            "max_height": null,
            "align_content": null,
            "visibility": null,
            "align_self": null,
            "height": null,
            "min_height": null,
            "padding": null,
            "grid_auto_rows": null,
            "grid_gap": null,
            "max_width": null,
            "order": null,
            "_view_module_version": "1.2.0",
            "grid_template_areas": null,
            "object_position": null,
            "object_fit": null,
            "grid_auto_columns": null,
            "margin": null,
            "display": null,
            "left": null
          }
        },
        "8864138227f449dfb691eff8b68fc47c": {
          "model_module": "@jupyter-widgets/controls",
          "model_name": "HTMLModel",
          "model_module_version": "1.5.0",
          "state": {
            "_view_name": "HTMLView",
            "style": "IPY_MODEL_54de4821a6f342cb8a968ca2d65ad2e9",
            "_dom_classes": [],
            "description": "",
            "_model_name": "HTMLModel",
            "placeholder": "​",
            "_view_module": "@jupyter-widgets/controls",
            "_model_module_version": "1.5.0",
            "value": "Downloading: 100%",
            "_view_count": null,
            "_view_module_version": "1.5.0",
            "description_tooltip": null,
            "_model_module": "@jupyter-widgets/controls",
            "layout": "IPY_MODEL_6f81049371b345d38d6352e80e4247ae"
          }
        },
        "4731eac10edf4b0e859cc27345b36b47": {
          "model_module": "@jupyter-widgets/controls",
          "model_name": "FloatProgressModel",
          "model_module_version": "1.5.0",
          "state": {
            "_view_name": "ProgressView",
            "style": "IPY_MODEL_416b09fbffea403daefe7c4067d283d5",
            "_dom_classes": [],
            "description": "",
            "_model_name": "FloatProgressModel",
            "bar_style": "success",
            "max": 346351599,
            "_view_module": "@jupyter-widgets/controls",
            "_model_module_version": "1.5.0",
            "value": 346351599,
            "_view_count": null,
            "_view_module_version": "1.5.0",
            "orientation": "horizontal",
            "min": 0,
            "description_tooltip": null,
            "_model_module": "@jupyter-widgets/controls",
            "layout": "IPY_MODEL_3e6b52245e9748d7a169e9d2a4954531"
          }
        },
        "4529825544564daebeee7e667edd9969": {
          "model_module": "@jupyter-widgets/controls",
          "model_name": "HTMLModel",
          "model_module_version": "1.5.0",
          "state": {
            "_view_name": "HTMLView",
            "style": "IPY_MODEL_594dc2b3342b4f3cbb1935e8e00d6deb",
            "_dom_classes": [],
            "description": "",
            "_model_name": "HTMLModel",
            "placeholder": "​",
            "_view_module": "@jupyter-widgets/controls",
            "_model_module_version": "1.5.0",
            "value": " 330M/330M [00:12&lt;00:00, 34.5MB/s]",
            "_view_count": null,
            "_view_module_version": "1.5.0",
            "description_tooltip": null,
            "_model_module": "@jupyter-widgets/controls",
            "layout": "IPY_MODEL_a07f3b48aa7f4df9adb9fc373b75648d"
          }
        },
        "54de4821a6f342cb8a968ca2d65ad2e9": {
          "model_module": "@jupyter-widgets/controls",
          "model_name": "DescriptionStyleModel",
          "model_module_version": "1.5.0",
          "state": {
            "_view_name": "StyleView",
            "_model_name": "DescriptionStyleModel",
            "description_width": "",
            "_view_module": "@jupyter-widgets/base",
            "_model_module_version": "1.5.0",
            "_view_count": null,
            "_view_module_version": "1.2.0",
            "_model_module": "@jupyter-widgets/controls"
          }
        },
        "6f81049371b345d38d6352e80e4247ae": {
          "model_module": "@jupyter-widgets/base",
          "model_name": "LayoutModel",
          "model_module_version": "1.2.0",
          "state": {
            "_view_name": "LayoutView",
            "grid_template_rows": null,
            "right": null,
            "justify_content": null,
            "_view_module": "@jupyter-widgets/base",
            "overflow": null,
            "_model_module_version": "1.2.0",
            "_view_count": null,
            "flex_flow": null,
            "width": null,
            "min_width": null,
            "border": null,
            "align_items": null,
            "bottom": null,
            "_model_module": "@jupyter-widgets/base",
            "top": null,
            "grid_column": null,
            "overflow_y": null,
            "overflow_x": null,
            "grid_auto_flow": null,
            "grid_area": null,
            "grid_template_columns": null,
            "flex": null,
            "_model_name": "LayoutModel",
            "justify_items": null,
            "grid_row": null,
            "max_height": null,
            "align_content": null,
            "visibility": null,
            "align_self": null,
            "height": null,
            "min_height": null,
            "padding": null,
            "grid_auto_rows": null,
            "grid_gap": null,
            "max_width": null,
            "order": null,
            "_view_module_version": "1.2.0",
            "grid_template_areas": null,
            "object_position": null,
            "object_fit": null,
            "grid_auto_columns": null,
            "margin": null,
            "display": null,
            "left": null
          }
        },
        "416b09fbffea403daefe7c4067d283d5": {
          "model_module": "@jupyter-widgets/controls",
          "model_name": "ProgressStyleModel",
          "model_module_version": "1.5.0",
          "state": {
            "_view_name": "StyleView",
            "_model_name": "ProgressStyleModel",
            "description_width": "",
            "_view_module": "@jupyter-widgets/base",
            "_model_module_version": "1.5.0",
            "_view_count": null,
            "_view_module_version": "1.2.0",
            "bar_color": null,
            "_model_module": "@jupyter-widgets/controls"
          }
        },
        "3e6b52245e9748d7a169e9d2a4954531": {
          "model_module": "@jupyter-widgets/base",
          "model_name": "LayoutModel",
          "model_module_version": "1.2.0",
          "state": {
            "_view_name": "LayoutView",
            "grid_template_rows": null,
            "right": null,
            "justify_content": null,
            "_view_module": "@jupyter-widgets/base",
            "overflow": null,
            "_model_module_version": "1.2.0",
            "_view_count": null,
            "flex_flow": null,
            "width": null,
            "min_width": null,
            "border": null,
            "align_items": null,
            "bottom": null,
            "_model_module": "@jupyter-widgets/base",
            "top": null,
            "grid_column": null,
            "overflow_y": null,
            "overflow_x": null,
            "grid_auto_flow": null,
            "grid_area": null,
            "grid_template_columns": null,
            "flex": null,
            "_model_name": "LayoutModel",
            "justify_items": null,
            "grid_row": null,
            "max_height": null,
            "align_content": null,
            "visibility": null,
            "align_self": null,
            "height": null,
            "min_height": null,
            "padding": null,
            "grid_auto_rows": null,
            "grid_gap": null,
            "max_width": null,
            "order": null,
            "_view_module_version": "1.2.0",
            "grid_template_areas": null,
            "object_position": null,
            "object_fit": null,
            "grid_auto_columns": null,
            "margin": null,
            "display": null,
            "left": null
          }
        },
        "594dc2b3342b4f3cbb1935e8e00d6deb": {
          "model_module": "@jupyter-widgets/controls",
          "model_name": "DescriptionStyleModel",
          "model_module_version": "1.5.0",
          "state": {
            "_view_name": "StyleView",
            "_model_name": "DescriptionStyleModel",
            "description_width": "",
            "_view_module": "@jupyter-widgets/base",
            "_model_module_version": "1.5.0",
            "_view_count": null,
            "_view_module_version": "1.2.0",
            "_model_module": "@jupyter-widgets/controls"
          }
        },
        "a07f3b48aa7f4df9adb9fc373b75648d": {
          "model_module": "@jupyter-widgets/base",
          "model_name": "LayoutModel",
          "model_module_version": "1.2.0",
          "state": {
            "_view_name": "LayoutView",
            "grid_template_rows": null,
            "right": null,
            "justify_content": null,
            "_view_module": "@jupyter-widgets/base",
            "overflow": null,
            "_model_module_version": "1.2.0",
            "_view_count": null,
            "flex_flow": null,
            "width": null,
            "min_width": null,
            "border": null,
            "align_items": null,
            "bottom": null,
            "_model_module": "@jupyter-widgets/base",
            "top": null,
            "grid_column": null,
            "overflow_y": null,
            "overflow_x": null,
            "grid_auto_flow": null,
            "grid_area": null,
            "grid_template_columns": null,
            "flex": null,
            "_model_name": "LayoutModel",
            "justify_items": null,
            "grid_row": null,
            "max_height": null,
            "align_content": null,
            "visibility": null,
            "align_self": null,
            "height": null,
            "min_height": null,
            "padding": null,
            "grid_auto_rows": null,
            "grid_gap": null,
            "max_width": null,
            "order": null,
            "_view_module_version": "1.2.0",
            "grid_template_areas": null,
            "object_position": null,
            "object_fit": null,
            "grid_auto_columns": null,
            "margin": null,
            "display": null,
            "left": null
          }
        },
        "1f4b463759e942c59125634048eefc5f": {
          "model_module": "@jupyter-widgets/controls",
          "model_name": "HBoxModel",
          "model_module_version": "1.5.0",
          "state": {
            "_view_name": "HBoxView",
            "_dom_classes": [],
            "_model_name": "HBoxModel",
            "_view_module": "@jupyter-widgets/controls",
            "_model_module_version": "1.5.0",
            "_view_count": null,
            "_view_module_version": "1.5.0",
            "box_style": "",
            "layout": "IPY_MODEL_c83bda6bdd0f49cc99dd157b07aaed6f",
            "_model_module": "@jupyter-widgets/controls",
            "children": [
              "IPY_MODEL_e766f46423f648149a52b0108ac5dc42",
              "IPY_MODEL_443271442d1b4206b29ed36b39425a5c",
              "IPY_MODEL_a275bc7e487c4895be5d7f966f83edea"
            ]
          }
        },
        "c83bda6bdd0f49cc99dd157b07aaed6f": {
          "model_module": "@jupyter-widgets/base",
          "model_name": "LayoutModel",
          "model_module_version": "1.2.0",
          "state": {
            "_view_name": "LayoutView",
            "grid_template_rows": null,
            "right": null,
            "justify_content": null,
            "_view_module": "@jupyter-widgets/base",
            "overflow": null,
            "_model_module_version": "1.2.0",
            "_view_count": null,
            "flex_flow": null,
            "width": null,
            "min_width": null,
            "border": null,
            "align_items": null,
            "bottom": null,
            "_model_module": "@jupyter-widgets/base",
            "top": null,
            "grid_column": null,
            "overflow_y": null,
            "overflow_x": null,
            "grid_auto_flow": null,
            "grid_area": null,
            "grid_template_columns": null,
            "flex": null,
            "_model_name": "LayoutModel",
            "justify_items": null,
            "grid_row": null,
            "max_height": null,
            "align_content": null,
            "visibility": null,
            "align_self": null,
            "height": null,
            "min_height": null,
            "padding": null,
            "grid_auto_rows": null,
            "grid_gap": null,
            "max_width": null,
            "order": null,
            "_view_module_version": "1.2.0",
            "grid_template_areas": null,
            "object_position": null,
            "object_fit": null,
            "grid_auto_columns": null,
            "margin": null,
            "display": null,
            "left": null
          }
        },
        "e766f46423f648149a52b0108ac5dc42": {
          "model_module": "@jupyter-widgets/controls",
          "model_name": "HTMLModel",
          "model_module_version": "1.5.0",
          "state": {
            "_view_name": "HTMLView",
            "style": "IPY_MODEL_76938ffc435b423093895837cacb3c9a",
            "_dom_classes": [],
            "description": "",
            "_model_name": "HTMLModel",
            "placeholder": "​",
            "_view_module": "@jupyter-widgets/controls",
            "_model_module_version": "1.5.0",
            "value": "Downloading: 100%",
            "_view_count": null,
            "_view_module_version": "1.5.0",
            "description_tooltip": null,
            "_model_module": "@jupyter-widgets/controls",
            "layout": "IPY_MODEL_2e9da6f5a7bd4f74b757b738bcd893d7"
          }
        },
        "443271442d1b4206b29ed36b39425a5c": {
          "model_module": "@jupyter-widgets/controls",
          "model_name": "FloatProgressModel",
          "model_module_version": "1.5.0",
          "state": {
            "_view_name": "ProgressView",
            "style": "IPY_MODEL_674dea8472074a4198fd118e12c9f2e9",
            "_dom_classes": [],
            "description": "",
            "_model_name": "FloatProgressModel",
            "bar_style": "success",
            "max": 160,
            "_view_module": "@jupyter-widgets/controls",
            "_model_module_version": "1.5.0",
            "value": 160,
            "_view_count": null,
            "_view_module_version": "1.5.0",
            "orientation": "horizontal",
            "min": 0,
            "description_tooltip": null,
            "_model_module": "@jupyter-widgets/controls",
            "layout": "IPY_MODEL_26c8cb88bc2749349a05ec1cc05b5c04"
          }
        },
        "a275bc7e487c4895be5d7f966f83edea": {
          "model_module": "@jupyter-widgets/controls",
          "model_name": "HTMLModel",
          "model_module_version": "1.5.0",
          "state": {
            "_view_name": "HTMLView",
            "style": "IPY_MODEL_010e3979341d4a268ee006105ea04084",
            "_dom_classes": [],
            "description": "",
            "_model_name": "HTMLModel",
            "placeholder": "​",
            "_view_module": "@jupyter-widgets/controls",
            "_model_module_version": "1.5.0",
            "value": " 160/160 [00:00&lt;00:00, 3.55kB/s]",
            "_view_count": null,
            "_view_module_version": "1.5.0",
            "description_tooltip": null,
            "_model_module": "@jupyter-widgets/controls",
            "layout": "IPY_MODEL_9ffd59281c184ebc9490c83193f7e4c0"
          }
        },
        "76938ffc435b423093895837cacb3c9a": {
          "model_module": "@jupyter-widgets/controls",
          "model_name": "DescriptionStyleModel",
          "model_module_version": "1.5.0",
          "state": {
            "_view_name": "StyleView",
            "_model_name": "DescriptionStyleModel",
            "description_width": "",
            "_view_module": "@jupyter-widgets/base",
            "_model_module_version": "1.5.0",
            "_view_count": null,
            "_view_module_version": "1.2.0",
            "_model_module": "@jupyter-widgets/controls"
          }
        },
        "2e9da6f5a7bd4f74b757b738bcd893d7": {
          "model_module": "@jupyter-widgets/base",
          "model_name": "LayoutModel",
          "model_module_version": "1.2.0",
          "state": {
            "_view_name": "LayoutView",
            "grid_template_rows": null,
            "right": null,
            "justify_content": null,
            "_view_module": "@jupyter-widgets/base",
            "overflow": null,
            "_model_module_version": "1.2.0",
            "_view_count": null,
            "flex_flow": null,
            "width": null,
            "min_width": null,
            "border": null,
            "align_items": null,
            "bottom": null,
            "_model_module": "@jupyter-widgets/base",
            "top": null,
            "grid_column": null,
            "overflow_y": null,
            "overflow_x": null,
            "grid_auto_flow": null,
            "grid_area": null,
            "grid_template_columns": null,
            "flex": null,
            "_model_name": "LayoutModel",
            "justify_items": null,
            "grid_row": null,
            "max_height": null,
            "align_content": null,
            "visibility": null,
            "align_self": null,
            "height": null,
            "min_height": null,
            "padding": null,
            "grid_auto_rows": null,
            "grid_gap": null,
            "max_width": null,
            "order": null,
            "_view_module_version": "1.2.0",
            "grid_template_areas": null,
            "object_position": null,
            "object_fit": null,
            "grid_auto_columns": null,
            "margin": null,
            "display": null,
            "left": null
          }
        },
        "674dea8472074a4198fd118e12c9f2e9": {
          "model_module": "@jupyter-widgets/controls",
          "model_name": "ProgressStyleModel",
          "model_module_version": "1.5.0",
          "state": {
            "_view_name": "StyleView",
            "_model_name": "ProgressStyleModel",
            "description_width": "",
            "_view_module": "@jupyter-widgets/base",
            "_model_module_version": "1.5.0",
            "_view_count": null,
            "_view_module_version": "1.2.0",
            "bar_color": null,
            "_model_module": "@jupyter-widgets/controls"
          }
        },
        "26c8cb88bc2749349a05ec1cc05b5c04": {
          "model_module": "@jupyter-widgets/base",
          "model_name": "LayoutModel",
          "model_module_version": "1.2.0",
          "state": {
            "_view_name": "LayoutView",
            "grid_template_rows": null,
            "right": null,
            "justify_content": null,
            "_view_module": "@jupyter-widgets/base",
            "overflow": null,
            "_model_module_version": "1.2.0",
            "_view_count": null,
            "flex_flow": null,
            "width": null,
            "min_width": null,
            "border": null,
            "align_items": null,
            "bottom": null,
            "_model_module": "@jupyter-widgets/base",
            "top": null,
            "grid_column": null,
            "overflow_y": null,
            "overflow_x": null,
            "grid_auto_flow": null,
            "grid_area": null,
            "grid_template_columns": null,
            "flex": null,
            "_model_name": "LayoutModel",
            "justify_items": null,
            "grid_row": null,
            "max_height": null,
            "align_content": null,
            "visibility": null,
            "align_self": null,
            "height": null,
            "min_height": null,
            "padding": null,
            "grid_auto_rows": null,
            "grid_gap": null,
            "max_width": null,
            "order": null,
            "_view_module_version": "1.2.0",
            "grid_template_areas": null,
            "object_position": null,
            "object_fit": null,
            "grid_auto_columns": null,
            "margin": null,
            "display": null,
            "left": null
          }
        },
        "010e3979341d4a268ee006105ea04084": {
          "model_module": "@jupyter-widgets/controls",
          "model_name": "DescriptionStyleModel",
          "model_module_version": "1.5.0",
          "state": {
            "_view_name": "StyleView",
            "_model_name": "DescriptionStyleModel",
            "description_width": "",
            "_view_module": "@jupyter-widgets/base",
            "_model_module_version": "1.5.0",
            "_view_count": null,
            "_view_module_version": "1.2.0",
            "_model_module": "@jupyter-widgets/controls"
          }
        },
        "9ffd59281c184ebc9490c83193f7e4c0": {
          "model_module": "@jupyter-widgets/base",
          "model_name": "LayoutModel",
          "model_module_version": "1.2.0",
          "state": {
            "_view_name": "LayoutView",
            "grid_template_rows": null,
            "right": null,
            "justify_content": null,
            "_view_module": "@jupyter-widgets/base",
            "overflow": null,
            "_model_module_version": "1.2.0",
            "_view_count": null,
            "flex_flow": null,
            "width": null,
            "min_width": null,
            "border": null,
            "align_items": null,
            "bottom": null,
            "_model_module": "@jupyter-widgets/base",
            "top": null,
            "grid_column": null,
            "overflow_y": null,
            "overflow_x": null,
            "grid_auto_flow": null,
            "grid_area": null,
            "grid_template_columns": null,
            "flex": null,
            "_model_name": "LayoutModel",
            "justify_items": null,
            "grid_row": null,
            "max_height": null,
            "align_content": null,
            "visibility": null,
            "align_self": null,
            "height": null,
            "min_height": null,
            "padding": null,
            "grid_auto_rows": null,
            "grid_gap": null,
            "max_width": null,
            "order": null,
            "_view_module_version": "1.2.0",
            "grid_template_areas": null,
            "object_position": null,
            "object_fit": null,
            "grid_auto_columns": null,
            "margin": null,
            "display": null,
            "left": null
          }
        },
        "d36b9f7c04c84735882afca11ea7faed": {
          "model_module": "@jupyter-widgets/controls",
          "model_name": "HBoxModel",
          "model_module_version": "1.5.0",
          "state": {
            "_view_name": "HBoxView",
            "_dom_classes": [],
            "_model_name": "HBoxModel",
            "_view_module": "@jupyter-widgets/controls",
            "_model_module_version": "1.5.0",
            "_view_count": null,
            "_view_module_version": "1.5.0",
            "box_style": "",
            "layout": "IPY_MODEL_f5b147913b7f4294a171cb098f5c5110",
            "_model_module": "@jupyter-widgets/controls",
            "children": [
              "IPY_MODEL_564b0d56c99043a6ae1cfc6cf2c20c56",
              "IPY_MODEL_d504c3eb38d94ea2a933c94817df0b6c",
              "IPY_MODEL_1d7d3122bc2d4993bb503ac8d186be28"
            ]
          }
        },
        "f5b147913b7f4294a171cb098f5c5110": {
          "model_module": "@jupyter-widgets/base",
          "model_name": "LayoutModel",
          "model_module_version": "1.2.0",
          "state": {
            "_view_name": "LayoutView",
            "grid_template_rows": null,
            "right": null,
            "justify_content": null,
            "_view_module": "@jupyter-widgets/base",
            "overflow": null,
            "_model_module_version": "1.2.0",
            "_view_count": null,
            "flex_flow": null,
            "width": null,
            "min_width": null,
            "border": null,
            "align_items": null,
            "bottom": null,
            "_model_module": "@jupyter-widgets/base",
            "top": null,
            "grid_column": null,
            "overflow_y": null,
            "overflow_x": null,
            "grid_auto_flow": null,
            "grid_area": null,
            "grid_template_columns": null,
            "flex": null,
            "_model_name": "LayoutModel",
            "justify_items": null,
            "grid_row": null,
            "max_height": null,
            "align_content": null,
            "visibility": null,
            "align_self": null,
            "height": null,
            "min_height": null,
            "padding": null,
            "grid_auto_rows": null,
            "grid_gap": null,
            "max_width": null,
            "order": null,
            "_view_module_version": "1.2.0",
            "grid_template_areas": null,
            "object_position": null,
            "object_fit": null,
            "grid_auto_columns": null,
            "margin": null,
            "display": null,
            "left": null
          }
        },
        "564b0d56c99043a6ae1cfc6cf2c20c56": {
          "model_module": "@jupyter-widgets/controls",
          "model_name": "HTMLModel",
          "model_module_version": "1.5.0",
          "state": {
            "_view_name": "HTMLView",
            "style": "IPY_MODEL_d066b6c449ac449d92f91f42fa94f042",
            "_dom_classes": [],
            "description": "",
            "_model_name": "HTMLModel",
            "placeholder": "​",
            "_view_module": "@jupyter-widgets/controls",
            "_model_module_version": "1.5.0",
            "value": "Downloading: 100%",
            "_view_count": null,
            "_view_module_version": "1.5.0",
            "description_tooltip": null,
            "_model_module": "@jupyter-widgets/controls",
            "layout": "IPY_MODEL_e335a846aa564f7798c83aef3994ab69"
          }
        },
        "d504c3eb38d94ea2a933c94817df0b6c": {
          "model_module": "@jupyter-widgets/controls",
          "model_name": "FloatProgressModel",
          "model_module_version": "1.5.0",
          "state": {
            "_view_name": "ProgressView",
            "style": "IPY_MODEL_c9bc1450fbb0440f8f1d924c9f3f7c00",
            "_dom_classes": [],
            "description": "",
            "_model_name": "FloatProgressModel",
            "bar_style": "success",
            "max": 502,
            "_view_module": "@jupyter-widgets/controls",
            "_model_module_version": "1.5.0",
            "value": 502,
            "_view_count": null,
            "_view_module_version": "1.5.0",
            "orientation": "horizontal",
            "min": 0,
            "description_tooltip": null,
            "_model_module": "@jupyter-widgets/controls",
            "layout": "IPY_MODEL_59fc237b4752435891402f9cb68c2413"
          }
        },
        "1d7d3122bc2d4993bb503ac8d186be28": {
          "model_module": "@jupyter-widgets/controls",
          "model_name": "HTMLModel",
          "model_module_version": "1.5.0",
          "state": {
            "_view_name": "HTMLView",
            "style": "IPY_MODEL_5bcaab7038f24380b2e5d34cb33e2fe7",
            "_dom_classes": [],
            "description": "",
            "_model_name": "HTMLModel",
            "placeholder": "​",
            "_view_module": "@jupyter-widgets/controls",
            "_model_module_version": "1.5.0",
            "value": " 502/502 [00:00&lt;00:00, 11.0kB/s]",
            "_view_count": null,
            "_view_module_version": "1.5.0",
            "description_tooltip": null,
            "_model_module": "@jupyter-widgets/controls",
            "layout": "IPY_MODEL_ca90035a790948d189dc96a793fe2857"
          }
        },
        "d066b6c449ac449d92f91f42fa94f042": {
          "model_module": "@jupyter-widgets/controls",
          "model_name": "DescriptionStyleModel",
          "model_module_version": "1.5.0",
          "state": {
            "_view_name": "StyleView",
            "_model_name": "DescriptionStyleModel",
            "description_width": "",
            "_view_module": "@jupyter-widgets/base",
            "_model_module_version": "1.5.0",
            "_view_count": null,
            "_view_module_version": "1.2.0",
            "_model_module": "@jupyter-widgets/controls"
          }
        },
        "e335a846aa564f7798c83aef3994ab69": {
          "model_module": "@jupyter-widgets/base",
          "model_name": "LayoutModel",
          "model_module_version": "1.2.0",
          "state": {
            "_view_name": "LayoutView",
            "grid_template_rows": null,
            "right": null,
            "justify_content": null,
            "_view_module": "@jupyter-widgets/base",
            "overflow": null,
            "_model_module_version": "1.2.0",
            "_view_count": null,
            "flex_flow": null,
            "width": null,
            "min_width": null,
            "border": null,
            "align_items": null,
            "bottom": null,
            "_model_module": "@jupyter-widgets/base",
            "top": null,
            "grid_column": null,
            "overflow_y": null,
            "overflow_x": null,
            "grid_auto_flow": null,
            "grid_area": null,
            "grid_template_columns": null,
            "flex": null,
            "_model_name": "LayoutModel",
            "justify_items": null,
            "grid_row": null,
            "max_height": null,
            "align_content": null,
            "visibility": null,
            "align_self": null,
            "height": null,
            "min_height": null,
            "padding": null,
            "grid_auto_rows": null,
            "grid_gap": null,
            "max_width": null,
            "order": null,
            "_view_module_version": "1.2.0",
            "grid_template_areas": null,
            "object_position": null,
            "object_fit": null,
            "grid_auto_columns": null,
            "margin": null,
            "display": null,
            "left": null
          }
        },
        "c9bc1450fbb0440f8f1d924c9f3f7c00": {
          "model_module": "@jupyter-widgets/controls",
          "model_name": "ProgressStyleModel",
          "model_module_version": "1.5.0",
          "state": {
            "_view_name": "StyleView",
            "_model_name": "ProgressStyleModel",
            "description_width": "",
            "_view_module": "@jupyter-widgets/base",
            "_model_module_version": "1.5.0",
            "_view_count": null,
            "_view_module_version": "1.2.0",
            "bar_color": null,
            "_model_module": "@jupyter-widgets/controls"
          }
        },
        "59fc237b4752435891402f9cb68c2413": {
          "model_module": "@jupyter-widgets/base",
          "model_name": "LayoutModel",
          "model_module_version": "1.2.0",
          "state": {
            "_view_name": "LayoutView",
            "grid_template_rows": null,
            "right": null,
            "justify_content": null,
            "_view_module": "@jupyter-widgets/base",
            "overflow": null,
            "_model_module_version": "1.2.0",
            "_view_count": null,
            "flex_flow": null,
            "width": null,
            "min_width": null,
            "border": null,
            "align_items": null,
            "bottom": null,
            "_model_module": "@jupyter-widgets/base",
            "top": null,
            "grid_column": null,
            "overflow_y": null,
            "overflow_x": null,
            "grid_auto_flow": null,
            "grid_area": null,
            "grid_template_columns": null,
            "flex": null,
            "_model_name": "LayoutModel",
            "justify_items": null,
            "grid_row": null,
            "max_height": null,
            "align_content": null,
            "visibility": null,
            "align_self": null,
            "height": null,
            "min_height": null,
            "padding": null,
            "grid_auto_rows": null,
            "grid_gap": null,
            "max_width": null,
            "order": null,
            "_view_module_version": "1.2.0",
            "grid_template_areas": null,
            "object_position": null,
            "object_fit": null,
            "grid_auto_columns": null,
            "margin": null,
            "display": null,
            "left": null
          }
        },
        "5bcaab7038f24380b2e5d34cb33e2fe7": {
          "model_module": "@jupyter-widgets/controls",
          "model_name": "DescriptionStyleModel",
          "model_module_version": "1.5.0",
          "state": {
            "_view_name": "StyleView",
            "_model_name": "DescriptionStyleModel",
            "description_width": "",
            "_view_module": "@jupyter-widgets/base",
            "_model_module_version": "1.5.0",
            "_view_count": null,
            "_view_module_version": "1.2.0",
            "_model_module": "@jupyter-widgets/controls"
          }
        },
        "ca90035a790948d189dc96a793fe2857": {
          "model_module": "@jupyter-widgets/base",
          "model_name": "LayoutModel",
          "model_module_version": "1.2.0",
          "state": {
            "_view_name": "LayoutView",
            "grid_template_rows": null,
            "right": null,
            "justify_content": null,
            "_view_module": "@jupyter-widgets/base",
            "overflow": null,
            "_model_module_version": "1.2.0",
            "_view_count": null,
            "flex_flow": null,
            "width": null,
            "min_width": null,
            "border": null,
            "align_items": null,
            "bottom": null,
            "_model_module": "@jupyter-widgets/base",
            "top": null,
            "grid_column": null,
            "overflow_y": null,
            "overflow_x": null,
            "grid_auto_flow": null,
            "grid_area": null,
            "grid_template_columns": null,
            "flex": null,
            "_model_name": "LayoutModel",
            "justify_items": null,
            "grid_row": null,
            "max_height": null,
            "align_content": null,
            "visibility": null,
            "align_self": null,
            "height": null,
            "min_height": null,
            "padding": null,
            "grid_auto_rows": null,
            "grid_gap": null,
            "max_width": null,
            "order": null,
            "_view_module_version": "1.2.0",
            "grid_template_areas": null,
            "object_position": null,
            "object_fit": null,
            "grid_auto_columns": null,
            "margin": null,
            "display": null,
            "left": null
          }
        },
        "e39e7dba514248baa2b8a48a76f07b28": {
          "model_module": "@jupyter-widgets/controls",
          "model_name": "HBoxModel",
          "model_module_version": "1.5.0",
          "state": {
            "_view_name": "HBoxView",
            "_dom_classes": [],
            "_model_name": "HBoxModel",
            "_view_module": "@jupyter-widgets/controls",
            "_model_module_version": "1.5.0",
            "_view_count": null,
            "_view_module_version": "1.5.0",
            "box_style": "",
            "layout": "IPY_MODEL_81efec151640466cb55013b06559c1cf",
            "_model_module": "@jupyter-widgets/controls",
            "children": [
              "IPY_MODEL_0c9c83a0912d44eca2f1f96a97c38dfe",
              "IPY_MODEL_a38f6aaf44b846a785c728f66b6500c3",
              "IPY_MODEL_8aa8f116c4374edfaa11da7bf492aec6"
            ]
          }
        },
        "81efec151640466cb55013b06559c1cf": {
          "model_module": "@jupyter-widgets/base",
          "model_name": "LayoutModel",
          "model_module_version": "1.2.0",
          "state": {
            "_view_name": "LayoutView",
            "grid_template_rows": null,
            "right": null,
            "justify_content": null,
            "_view_module": "@jupyter-widgets/base",
            "overflow": null,
            "_model_module_version": "1.2.0",
            "_view_count": null,
            "flex_flow": null,
            "width": null,
            "min_width": null,
            "border": null,
            "align_items": null,
            "bottom": null,
            "_model_module": "@jupyter-widgets/base",
            "top": null,
            "grid_column": null,
            "overflow_y": null,
            "overflow_x": null,
            "grid_auto_flow": null,
            "grid_area": null,
            "grid_template_columns": null,
            "flex": null,
            "_model_name": "LayoutModel",
            "justify_items": null,
            "grid_row": null,
            "max_height": null,
            "align_content": null,
            "visibility": null,
            "align_self": null,
            "height": null,
            "min_height": null,
            "padding": null,
            "grid_auto_rows": null,
            "grid_gap": null,
            "max_width": null,
            "order": null,
            "_view_module_version": "1.2.0",
            "grid_template_areas": null,
            "object_position": null,
            "object_fit": null,
            "grid_auto_columns": null,
            "margin": null,
            "display": null,
            "left": null
          }
        },
        "0c9c83a0912d44eca2f1f96a97c38dfe": {
          "model_module": "@jupyter-widgets/controls",
          "model_name": "HTMLModel",
          "model_module_version": "1.5.0",
          "state": {
            "_view_name": "HTMLView",
            "style": "IPY_MODEL_3ac8ec6455b5469bb768afceadb91ec9",
            "_dom_classes": [],
            "description": "",
            "_model_name": "HTMLModel",
            "placeholder": "​",
            "_view_module": "@jupyter-widgets/controls",
            "_model_module_version": "1.5.0",
            "value": "Downloading: 100%",
            "_view_count": null,
            "_view_module_version": "1.5.0",
            "description_tooltip": null,
            "_model_module": "@jupyter-widgets/controls",
            "layout": "IPY_MODEL_55d5e9af0abf4c98855b4d231ce83555"
          }
        },
        "a38f6aaf44b846a785c728f66b6500c3": {
          "model_module": "@jupyter-widgets/controls",
          "model_name": "FloatProgressModel",
          "model_module_version": "1.5.0",
          "state": {
            "_view_name": "ProgressView",
            "style": "IPY_MODEL_1d6aaacd3ccf43d29ccfea9817b46fca",
            "_dom_classes": [],
            "description": "",
            "_model_name": "FloatProgressModel",
            "bar_style": "success",
            "max": 345636463,
            "_view_module": "@jupyter-widgets/controls",
            "_model_module_version": "1.5.0",
            "value": 345636463,
            "_view_count": null,
            "_view_module_version": "1.5.0",
            "orientation": "horizontal",
            "min": 0,
            "description_tooltip": null,
            "_model_module": "@jupyter-widgets/controls",
            "layout": "IPY_MODEL_32bb944ae61f47f4a65f666d8d0a601f"
          }
        },
        "8aa8f116c4374edfaa11da7bf492aec6": {
          "model_module": "@jupyter-widgets/controls",
          "model_name": "HTMLModel",
          "model_module_version": "1.5.0",
          "state": {
            "_view_name": "HTMLView",
            "style": "IPY_MODEL_c310c9626304482f8cf1cdfcd1dd6cda",
            "_dom_classes": [],
            "description": "",
            "_model_name": "HTMLModel",
            "placeholder": "​",
            "_view_module": "@jupyter-widgets/controls",
            "_model_module_version": "1.5.0",
            "value": " 330M/330M [00:12&lt;00:00, 30.3MB/s]",
            "_view_count": null,
            "_view_module_version": "1.5.0",
            "description_tooltip": null,
            "_model_module": "@jupyter-widgets/controls",
            "layout": "IPY_MODEL_0c1d9432095a4eb0b99721a339677349"
          }
        },
        "3ac8ec6455b5469bb768afceadb91ec9": {
          "model_module": "@jupyter-widgets/controls",
          "model_name": "DescriptionStyleModel",
          "model_module_version": "1.5.0",
          "state": {
            "_view_name": "StyleView",
            "_model_name": "DescriptionStyleModel",
            "description_width": "",
            "_view_module": "@jupyter-widgets/base",
            "_model_module_version": "1.5.0",
            "_view_count": null,
            "_view_module_version": "1.2.0",
            "_model_module": "@jupyter-widgets/controls"
          }
        },
        "55d5e9af0abf4c98855b4d231ce83555": {
          "model_module": "@jupyter-widgets/base",
          "model_name": "LayoutModel",
          "model_module_version": "1.2.0",
          "state": {
            "_view_name": "LayoutView",
            "grid_template_rows": null,
            "right": null,
            "justify_content": null,
            "_view_module": "@jupyter-widgets/base",
            "overflow": null,
            "_model_module_version": "1.2.0",
            "_view_count": null,
            "flex_flow": null,
            "width": null,
            "min_width": null,
            "border": null,
            "align_items": null,
            "bottom": null,
            "_model_module": "@jupyter-widgets/base",
            "top": null,
            "grid_column": null,
            "overflow_y": null,
            "overflow_x": null,
            "grid_auto_flow": null,
            "grid_area": null,
            "grid_template_columns": null,
            "flex": null,
            "_model_name": "LayoutModel",
            "justify_items": null,
            "grid_row": null,
            "max_height": null,
            "align_content": null,
            "visibility": null,
            "align_self": null,
            "height": null,
            "min_height": null,
            "padding": null,
            "grid_auto_rows": null,
            "grid_gap": null,
            "max_width": null,
            "order": null,
            "_view_module_version": "1.2.0",
            "grid_template_areas": null,
            "object_position": null,
            "object_fit": null,
            "grid_auto_columns": null,
            "margin": null,
            "display": null,
            "left": null
          }
        },
        "1d6aaacd3ccf43d29ccfea9817b46fca": {
          "model_module": "@jupyter-widgets/controls",
          "model_name": "ProgressStyleModel",
          "model_module_version": "1.5.0",
          "state": {
            "_view_name": "StyleView",
            "_model_name": "ProgressStyleModel",
            "description_width": "",
            "_view_module": "@jupyter-widgets/base",
            "_model_module_version": "1.5.0",
            "_view_count": null,
            "_view_module_version": "1.2.0",
            "bar_color": null,
            "_model_module": "@jupyter-widgets/controls"
          }
        },
        "32bb944ae61f47f4a65f666d8d0a601f": {
          "model_module": "@jupyter-widgets/base",
          "model_name": "LayoutModel",
          "model_module_version": "1.2.0",
          "state": {
            "_view_name": "LayoutView",
            "grid_template_rows": null,
            "right": null,
            "justify_content": null,
            "_view_module": "@jupyter-widgets/base",
            "overflow": null,
            "_model_module_version": "1.2.0",
            "_view_count": null,
            "flex_flow": null,
            "width": null,
            "min_width": null,
            "border": null,
            "align_items": null,
            "bottom": null,
            "_model_module": "@jupyter-widgets/base",
            "top": null,
            "grid_column": null,
            "overflow_y": null,
            "overflow_x": null,
            "grid_auto_flow": null,
            "grid_area": null,
            "grid_template_columns": null,
            "flex": null,
            "_model_name": "LayoutModel",
            "justify_items": null,
            "grid_row": null,
            "max_height": null,
            "align_content": null,
            "visibility": null,
            "align_self": null,
            "height": null,
            "min_height": null,
            "padding": null,
            "grid_auto_rows": null,
            "grid_gap": null,
            "max_width": null,
            "order": null,
            "_view_module_version": "1.2.0",
            "grid_template_areas": null,
            "object_position": null,
            "object_fit": null,
            "grid_auto_columns": null,
            "margin": null,
            "display": null,
            "left": null
          }
        },
        "c310c9626304482f8cf1cdfcd1dd6cda": {
          "model_module": "@jupyter-widgets/controls",
          "model_name": "DescriptionStyleModel",
          "model_module_version": "1.5.0",
          "state": {
            "_view_name": "StyleView",
            "_model_name": "DescriptionStyleModel",
            "description_width": "",
            "_view_module": "@jupyter-widgets/base",
            "_model_module_version": "1.5.0",
            "_view_count": null,
            "_view_module_version": "1.2.0",
            "_model_module": "@jupyter-widgets/controls"
          }
        },
        "0c1d9432095a4eb0b99721a339677349": {
          "model_module": "@jupyter-widgets/base",
          "model_name": "LayoutModel",
          "model_module_version": "1.2.0",
          "state": {
            "_view_name": "LayoutView",
            "grid_template_rows": null,
            "right": null,
            "justify_content": null,
            "_view_module": "@jupyter-widgets/base",
            "overflow": null,
            "_model_module_version": "1.2.0",
            "_view_count": null,
            "flex_flow": null,
            "width": null,
            "min_width": null,
            "border": null,
            "align_items": null,
            "bottom": null,
            "_model_module": "@jupyter-widgets/base",
            "top": null,
            "grid_column": null,
            "overflow_y": null,
            "overflow_x": null,
            "grid_auto_flow": null,
            "grid_area": null,
            "grid_template_columns": null,
            "flex": null,
            "_model_name": "LayoutModel",
            "justify_items": null,
            "grid_row": null,
            "max_height": null,
            "align_content": null,
            "visibility": null,
            "align_self": null,
            "height": null,
            "min_height": null,
            "padding": null,
            "grid_auto_rows": null,
            "grid_gap": null,
            "max_width": null,
            "order": null,
            "_view_module_version": "1.2.0",
            "grid_template_areas": null,
            "object_position": null,
            "object_fit": null,
            "grid_auto_columns": null,
            "margin": null,
            "display": null,
            "left": null
          }
        }
      }
    },
    "accelerator": "GPU"
  },
  "cells": [
    {
      "cell_type": "markdown",
      "metadata": {
        "id": "view-in-github",
        "colab_type": "text"
      },
      "source": [
        "<a href=\"https://colab.research.google.com/github/Nguyen379/Mask_detection/blob/main/ViT.ipynb\" target=\"_parent\"><img src=\"https://colab.research.google.com/assets/colab-badge.svg\" alt=\"Open In Colab\"/></a>"
      ]
    },
    {
      "cell_type": "code",
      "execution_count": null,
      "metadata": {
        "colab": {
          "base_uri": "https://localhost:8080/",
          "height": 36
        },
        "id": "aBGmsVum1R8t",
        "outputId": "def546d7-1ce1-4827-d04e-debe3126a153"
      },
      "outputs": [
        {
          "output_type": "execute_result",
          "data": {
            "application/vnd.google.colaboratory.intrinsic+json": {
              "type": "string"
            },
            "text/plain": [
              "'/content'"
            ]
          },
          "metadata": {},
          "execution_count": 1
        }
      ],
      "source": [
        "%pwd"
      ]
    },
    {
      "cell_type": "code",
      "source": [
        "%cd \"/content/drive/MyDrive/Colab Notebooks/AI4E/Final Project/Mask detection\""
      ],
      "metadata": {
        "colab": {
          "base_uri": "https://localhost:8080/"
        },
        "id": "lJLXgHko1gHC",
        "outputId": "85f7780d-85a8-488e-a4e0-c1b353b3b3df"
      },
      "execution_count": null,
      "outputs": [
        {
          "output_type": "stream",
          "name": "stdout",
          "text": [
            "/content/drive/MyDrive/Colab Notebooks/AI4E/Final Project/Mask detection\n"
          ]
        }
      ]
    },
    {
      "cell_type": "code",
      "source": [
        "%pwd"
      ],
      "metadata": {
        "colab": {
          "base_uri": "https://localhost:8080/",
          "height": 36
        },
        "id": "dKjwjfegGKkT",
        "outputId": "a232bd7a-f48b-41e8-c8ff-7ff554d143e7"
      },
      "execution_count": null,
      "outputs": [
        {
          "output_type": "execute_result",
          "data": {
            "application/vnd.google.colaboratory.intrinsic+json": {
              "type": "string"
            },
            "text/plain": [
              "'/content/drive/MyDrive/Colab Notebooks/AI4E/Final Project/Mask detection'"
            ]
          },
          "metadata": {},
          "execution_count": 3
        }
      ]
    },
    {
      "cell_type": "code",
      "source": [
        "%ls"
      ],
      "metadata": {
        "colab": {
          "base_uri": "https://localhost:8080/"
        },
        "id": "jqWv4DmtGNPJ",
        "outputId": "f63c245e-3189-4f3d-b0ec-48bc0b74ea73"
      },
      "execution_count": null,
      "outputs": [
        {
          "output_type": "stream",
          "name": "stdout",
          "text": [
            " Analyze_data.ipynb          \u001b[0m\u001b[01;34mmasks_no_improper\u001b[0m/     \u001b[01;34mscores\u001b[0m/\n",
            " combined_haar_model.ipynb   \u001b[01;34mmodel_checkpoint\u001b[0m/      ViT.ipynb\n",
            "\u001b[01;34m'Face Mask Dataset'\u001b[0m/         Model_training.ipynb\n",
            " \u001b[01;34mhaarcascade\u001b[0m/                Ref_image.png\n"
          ]
        }
      ]
    },
    {
      "cell_type": "code",
      "source": [
        "pip install transformers"
      ],
      "metadata": {
        "colab": {
          "base_uri": "https://localhost:8080/"
        },
        "id": "svYzYXEWGWY8",
        "outputId": "3eed1fa5-4404-481b-d79f-402ad4247b6d"
      },
      "execution_count": null,
      "outputs": [
        {
          "output_type": "stream",
          "name": "stdout",
          "text": [
            "Collecting transformers\n",
            "  Downloading transformers-4.15.0-py3-none-any.whl (3.4 MB)\n",
            "\u001b[K     |████████████████████████████████| 3.4 MB 5.4 MB/s \n",
            "\u001b[?25hRequirement already satisfied: filelock in /usr/local/lib/python3.7/dist-packages (from transformers) (3.4.0)\n",
            "Requirement already satisfied: numpy>=1.17 in /usr/local/lib/python3.7/dist-packages (from transformers) (1.19.5)\n",
            "Requirement already satisfied: packaging>=20.0 in /usr/local/lib/python3.7/dist-packages (from transformers) (21.3)\n",
            "Collecting sacremoses\n",
            "  Downloading sacremoses-0.0.46-py3-none-any.whl (895 kB)\n",
            "\u001b[K     |████████████████████████████████| 895 kB 48.2 MB/s \n",
            "\u001b[?25hRequirement already satisfied: regex!=2019.12.17 in /usr/local/lib/python3.7/dist-packages (from transformers) (2019.12.20)\n",
            "Collecting huggingface-hub<1.0,>=0.1.0\n",
            "  Downloading huggingface_hub-0.2.1-py3-none-any.whl (61 kB)\n",
            "\u001b[K     |████████████████████████████████| 61 kB 454 kB/s \n",
            "\u001b[?25hRequirement already satisfied: importlib-metadata in /usr/local/lib/python3.7/dist-packages (from transformers) (4.8.2)\n",
            "Collecting tokenizers<0.11,>=0.10.1\n",
            "  Downloading tokenizers-0.10.3-cp37-cp37m-manylinux_2_5_x86_64.manylinux1_x86_64.manylinux_2_12_x86_64.manylinux2010_x86_64.whl (3.3 MB)\n",
            "\u001b[K     |████████████████████████████████| 3.3 MB 40.5 MB/s \n",
            "\u001b[?25hCollecting pyyaml>=5.1\n",
            "  Downloading PyYAML-6.0-cp37-cp37m-manylinux_2_5_x86_64.manylinux1_x86_64.manylinux_2_12_x86_64.manylinux2010_x86_64.whl (596 kB)\n",
            "\u001b[K     |████████████████████████████████| 596 kB 46.5 MB/s \n",
            "\u001b[?25hRequirement already satisfied: requests in /usr/local/lib/python3.7/dist-packages (from transformers) (2.23.0)\n",
            "Requirement already satisfied: tqdm>=4.27 in /usr/local/lib/python3.7/dist-packages (from transformers) (4.62.3)\n",
            "Requirement already satisfied: typing-extensions>=3.7.4.3 in /usr/local/lib/python3.7/dist-packages (from huggingface-hub<1.0,>=0.1.0->transformers) (3.10.0.2)\n",
            "Requirement already satisfied: pyparsing!=3.0.5,>=2.0.2 in /usr/local/lib/python3.7/dist-packages (from packaging>=20.0->transformers) (3.0.6)\n",
            "Requirement already satisfied: zipp>=0.5 in /usr/local/lib/python3.7/dist-packages (from importlib-metadata->transformers) (3.6.0)\n",
            "Requirement already satisfied: urllib3!=1.25.0,!=1.25.1,<1.26,>=1.21.1 in /usr/local/lib/python3.7/dist-packages (from requests->transformers) (1.24.3)\n",
            "Requirement already satisfied: certifi>=2017.4.17 in /usr/local/lib/python3.7/dist-packages (from requests->transformers) (2021.10.8)\n",
            "Requirement already satisfied: chardet<4,>=3.0.2 in /usr/local/lib/python3.7/dist-packages (from requests->transformers) (3.0.4)\n",
            "Requirement already satisfied: idna<3,>=2.5 in /usr/local/lib/python3.7/dist-packages (from requests->transformers) (2.10)\n",
            "Requirement already satisfied: click in /usr/local/lib/python3.7/dist-packages (from sacremoses->transformers) (7.1.2)\n",
            "Requirement already satisfied: joblib in /usr/local/lib/python3.7/dist-packages (from sacremoses->transformers) (1.1.0)\n",
            "Requirement already satisfied: six in /usr/local/lib/python3.7/dist-packages (from sacremoses->transformers) (1.15.0)\n",
            "Installing collected packages: pyyaml, tokenizers, sacremoses, huggingface-hub, transformers\n",
            "  Attempting uninstall: pyyaml\n",
            "    Found existing installation: PyYAML 3.13\n",
            "    Uninstalling PyYAML-3.13:\n",
            "      Successfully uninstalled PyYAML-3.13\n",
            "Successfully installed huggingface-hub-0.2.1 pyyaml-6.0 sacremoses-0.0.46 tokenizers-0.10.3 transformers-4.15.0\n"
          ]
        }
      ]
    },
    {
      "cell_type": "markdown",
      "source": [
        "#Demo"
      ],
      "metadata": {
        "id": "mWkrnlEo1ThT"
      }
    },
    {
      "cell_type": "code",
      "source": [
        "from transformers import ViTForImageClassification, ViTFeatureExtractor"
      ],
      "metadata": {
        "id": "Hpy3mpmFGOJS"
      },
      "execution_count": null,
      "outputs": []
    },
    {
      "cell_type": "code",
      "source": [
        "from PIL import Image\n",
        "import cv2\n",
        "import numpy as np\n",
        "import requests\n",
        "import matplotlib.pyplot as plt\n",
        "import urllib\n",
        "# matplotlib requires RGB ordering whereas OpenCV (perversely) uses BGR\n",
        "\n",
        "url = \"https://res.cloudinary.com/atoms-shoes/image/upload/c_scale,w_1400,q_auto,f_auto/v1623798821/products/masks/everyday-face-mask/mask_lifestyle_1_bqshhy\"\n",
        "url2 = \"https://www.headshotsprague.com/wp-content/uploads/2019/07/Headshots_Prague-emotional-portrait-of-a-smiling-entrepreneur-1.jpg\"\n",
        "\n",
        "\n",
        "plt.subplot(1, 3, 1)\n",
        "resp = requests.get(url, stream=True).raw\n",
        "img1 = np.asarray(bytearray(resp.read()), dtype=\"uint8\")\n",
        "img1 = cv2.imdecode(img1, cv2.IMREAD_COLOR)\n",
        "img1 = cv2.cvtColor(img1, cv2.COLOR_RGB2BGR)\n",
        "plt.xticks([])\n",
        "plt.yticks([])\n",
        "plt.imshow(img1)\n",
        "\n",
        "\n",
        "plt.subplot(1, 3, 2)\n",
        "url_response = urllib.request.urlopen(url2)\n",
        "img2 = cv2.imdecode(np.array(bytearray(url_response.read()), dtype=\"uint8\"), -1)\n",
        "img2 = cv2.cvtColor(img2, cv2.COLOR_RGB2BGR)\n",
        "plt.xticks([])\n",
        "plt.yticks([])\n",
        "plt.imshow(img2)\n",
        "\n",
        "\n",
        "plt.subplot(1, 3, 3)\n",
        "img3 = Image.open(requests.get(url, stream=True).raw)\n",
        "plt.xticks([])\n",
        "plt.yticks([])\n",
        "plt.imshow(img3)"
      ],
      "metadata": {
        "colab": {
          "base_uri": "https://localhost:8080/"
        },
        "id": "RZ3XrznXM3qq",
        "outputId": "79ffbe6b-750b-4092-c344-34fa0f94e7ac"
      },
      "execution_count": null,
      "outputs": [
        {
          "output_type": "execute_result",
          "data": {
            "text/plain": [
              "<matplotlib.image.AxesImage at 0x7f4050398610>"
            ]
          },
          "metadata": {},
          "execution_count": 7
        },
        {
          "output_type": "display_data",
          "data": {
            "image/png": "[encoded data removed]",
            "text/plain": [
              "<Figure size 432x288 with 3 Axes>"
            ]
          },
          "metadata": {}
        }
      ]
    },
    {
      "cell_type": "code",
      "source": [
        "feature_extractor = ViTFeatureExtractor.from_pretrained('google/vit-base-patch16-224')\n",
        "model = ViTForImageClassification.from_pretrained('google/vit-base-patch16-224')\n",
        "\n",
        "inputs = feature_extractor(images=img1, return_tensors=\"pt\")\n",
        "# unpacking dictionary\n",
        "outputs = model(**inputs)\n",
        "logits = outputs.logits\n",
        "# model predicts one of the 1000 ImageNet classes\n",
        "predicted_class_idx = logits.argmax(-1).item()\n",
        "print(\"Predicted class:\", model.config.id2label[predicted_class_idx])"
      ],
      "metadata": {
        "colab": {
          "base_uri": "https://localhost:8080/",
          "referenced_widgets": [
            "f6b4d38e3239438c958b91a2d23d4f26",
            "0e7947e960e54f7daef29bd4dbf72753",
            "b10917d4674145ea9fe21b5fc4002796",
            "1590b891c1904cc8840e810f45908f8b",
            "a742a9eeee7c4be8901b1973ea27bb46",
            "8d413052f1db41ccb949bbedfd71f42f",
            "0f9de2ee1a6342aeaaf5641bd8ea583e",
            "2154bd8717f24fcfa0d0544e08ec4e98",
            "368ceba3ef974163827ab244ec60a0db",
            "6981ff8252bf4cb0a25ae50fd40796fa",
            "2a2bb55c8b1a465c810626df5db33def",
            "a01c12dc1131452ca91acaac810e35dd",
            "8d2c4138c4e24d5fa35cf3be2866c8f5",
            "b4c926fe89bf4b339cd73c3b70052fdc",
            "cbb451f453b849328819aae124fdd258",
            "686b9c31ada0459bad989d29f679095b",
            "eb4d17a4dc944234b1400b3b7d493af4",
            "8c5312eb61a04905aa7cc449fa4ebc29",
            "b4562a3061764824a493fb8fb6ac1427",
            "0e89d39eb14549788f6ed9cc5d812eef",
            "3f0f3b99024148f389d363a5ef7068e1",
            "c3731fc581684b8bb547b67e81b0f44f",
            "c966c97cae3f4598b05cd221a2da98c9",
            "3813ef9cfc9949c781ef0f31c3fbc0b6",
            "8864138227f449dfb691eff8b68fc47c",
            "4731eac10edf4b0e859cc27345b36b47",
            "4529825544564daebeee7e667edd9969",
            "54de4821a6f342cb8a968ca2d65ad2e9",
            "6f81049371b345d38d6352e80e4247ae",
            "416b09fbffea403daefe7c4067d283d5",
            "3e6b52245e9748d7a169e9d2a4954531",
            "594dc2b3342b4f3cbb1935e8e00d6deb",
            "a07f3b48aa7f4df9adb9fc373b75648d"
          ]
        },
        "id": "D2lvryLyiQ2V",
        "outputId": "945bade0-394a-4515-b3d7-7de5d306fcfc"
      },
      "execution_count": null,
      "outputs": [
        {
          "output_type": "display_data",
          "data": {
            "application/vnd.jupyter.widget-view+json": {
              "model_id": "f6b4d38e3239438c958b91a2d23d4f26",
              "version_minor": 0,
              "version_major": 2
            },
            "text/plain": [
              "Downloading:   0%|          | 0.00/160 [00:00<?, ?B/s]"
            ]
          },
          "metadata": {}
        },
        {
          "output_type": "display_data",
          "data": {
            "application/vnd.jupyter.widget-view+json": {
              "model_id": "a01c12dc1131452ca91acaac810e35dd",
              "version_minor": 0,
              "version_major": 2
            },
            "text/plain": [
              "Downloading:   0%|          | 0.00/68.0k [00:00<?, ?B/s]"
            ]
          },
          "metadata": {}
        },
        {
          "output_type": "display_data",
          "data": {
            "application/vnd.jupyter.widget-view+json": {
              "model_id": "c966c97cae3f4598b05cd221a2da98c9",
              "version_minor": 0,
              "version_major": 2
            },
            "text/plain": [
              "Downloading:   0%|          | 0.00/330M [00:00<?, ?B/s]"
            ]
          },
          "metadata": {}
        },
        {
          "output_type": "stream",
          "name": "stdout",
          "text": [
            "Predicted class: mask\n"
          ]
        }
      ]
    },
    {
      "cell_type": "code",
      "source": [
        "print(type(inputs))\n",
        "print(inputs.keys())\n",
        "print(inputs.values())"
      ],
      "metadata": {
        "colab": {
          "base_uri": "https://localhost:8080/"
        },
        "id": "oreGgM5dW_PI",
        "outputId": "0151f059-6a1c-40f0-ad33-b2ec60e2e28a"
      },
      "execution_count": null,
      "outputs": [
        {
          "output_type": "stream",
          "name": "stdout",
          "text": [
            "<class 'transformers.feature_extraction_utils.BatchFeature'>\n",
            "dict_keys(['pixel_values'])\n",
            "dict_values([tensor([[[[ 0.4902,  0.4902,  0.4980,  ..., -0.9294, -0.9216, -0.9137],\n",
            "          [ 0.4902,  0.4902,  0.4980,  ..., -0.9373, -0.9294, -0.9216],\n",
            "          [ 0.4902,  0.4980,  0.5059,  ..., -0.9529, -0.9451, -0.9294],\n",
            "          ...,\n",
            "          [ 0.0039,  0.0039,  0.0196,  ..., -0.9922, -0.9922, -0.9922],\n",
            "          [-0.0039,  0.0118,  0.0196,  ..., -0.9922, -0.9922, -0.9843],\n",
            "          [-0.0118,  0.0039,  0.0118,  ..., -0.9922, -0.9922, -0.9922]],\n",
            "\n",
            "         [[ 0.6078,  0.6078,  0.6157,  ..., -1.0000, -1.0000, -0.9922],\n",
            "          [ 0.6078,  0.6078,  0.6157,  ..., -1.0000, -1.0000, -0.9843],\n",
            "          [ 0.6078,  0.6157,  0.6235,  ..., -1.0000, -1.0000, -1.0000],\n",
            "          ...,\n",
            "          [ 0.0431,  0.0431,  0.0510,  ..., -0.9765, -0.9765, -0.9765],\n",
            "          [ 0.0353,  0.0510,  0.0510,  ..., -0.9765, -0.9765, -0.9686],\n",
            "          [ 0.0275,  0.0431,  0.0510,  ..., -0.9765, -0.9765, -0.9765]],\n",
            "\n",
            "         [[ 0.6471,  0.6471,  0.6549,  ..., -0.9922, -0.9922, -1.0000],\n",
            "          [ 0.6471,  0.6471,  0.6549,  ..., -0.9922, -0.9922, -1.0000],\n",
            "          [ 0.6471,  0.6549,  0.6627,  ..., -1.0000, -0.9922, -0.9922],\n",
            "          ...,\n",
            "          [-0.0039, -0.0039,  0.0039,  ..., -0.9843, -0.9843, -1.0000],\n",
            "          [-0.0039,  0.0039,  0.0118,  ..., -0.9922, -0.9922, -0.9922],\n",
            "          [-0.0039, -0.0039,  0.0039,  ..., -1.0000, -1.0000, -1.0000]]]])])\n"
          ]
        }
      ]
    },
    {
      "cell_type": "code",
      "source": [
        "print(inputs)"
      ],
      "metadata": {
        "colab": {
          "base_uri": "https://localhost:8080/"
        },
        "id": "Hrk-DF1pZzh_",
        "outputId": "fd7ec74a-8968-4f48-c7a7-e343c513d756"
      },
      "execution_count": null,
      "outputs": [
        {
          "output_type": "stream",
          "name": "stdout",
          "text": [
            "{'pixel_values': tensor([[[[ 0.4902,  0.4902,  0.4980,  ..., -0.9294, -0.9216, -0.9137],\n",
            "          [ 0.4902,  0.4902,  0.4980,  ..., -0.9373, -0.9294, -0.9216],\n",
            "          [ 0.4902,  0.4980,  0.5059,  ..., -0.9529, -0.9451, -0.9294],\n",
            "          ...,\n",
            "          [ 0.0039,  0.0039,  0.0196,  ..., -0.9922, -0.9922, -0.9922],\n",
            "          [-0.0039,  0.0118,  0.0196,  ..., -0.9922, -0.9922, -0.9843],\n",
            "          [-0.0118,  0.0039,  0.0118,  ..., -0.9922, -0.9922, -0.9922]],\n",
            "\n",
            "         [[ 0.6078,  0.6078,  0.6157,  ..., -1.0000, -1.0000, -0.9922],\n",
            "          [ 0.6078,  0.6078,  0.6157,  ..., -1.0000, -1.0000, -0.9843],\n",
            "          [ 0.6078,  0.6157,  0.6235,  ..., -1.0000, -1.0000, -1.0000],\n",
            "          ...,\n",
            "          [ 0.0431,  0.0431,  0.0510,  ..., -0.9765, -0.9765, -0.9765],\n",
            "          [ 0.0353,  0.0510,  0.0510,  ..., -0.9765, -0.9765, -0.9686],\n",
            "          [ 0.0275,  0.0431,  0.0510,  ..., -0.9765, -0.9765, -0.9765]],\n",
            "\n",
            "         [[ 0.6471,  0.6471,  0.6549,  ..., -0.9922, -0.9922, -1.0000],\n",
            "          [ 0.6471,  0.6471,  0.6549,  ..., -0.9922, -0.9922, -1.0000],\n",
            "          [ 0.6471,  0.6549,  0.6627,  ..., -1.0000, -0.9922, -0.9922],\n",
            "          ...,\n",
            "          [-0.0039, -0.0039,  0.0039,  ..., -0.9843, -0.9843, -1.0000],\n",
            "          [-0.0039,  0.0039,  0.0118,  ..., -0.9922, -0.9922, -0.9922],\n",
            "          [-0.0039, -0.0039,  0.0039,  ..., -1.0000, -1.0000, -1.0000]]]])}\n"
          ]
        }
      ]
    },
    {
      "cell_type": "code",
      "source": [
        "print(type(outputs))\n",
        "print(outputs.keys())"
      ],
      "metadata": {
        "colab": {
          "base_uri": "https://localhost:8080/"
        },
        "id": "Tsi-ogG3flCM",
        "outputId": "4a5b735d-7cbc-42ce-9a75-cbbaba7b28dc"
      },
      "execution_count": null,
      "outputs": [
        {
          "output_type": "stream",
          "name": "stdout",
          "text": [
            "<class 'transformers.modeling_outputs.SequenceClassifierOutput'>\n",
            "odict_keys(['logits'])\n"
          ]
        }
      ]
    },
    {
      "cell_type": "code",
      "source": [
        "from transformers import ViTFeatureExtractor, ViTModel\n",
        "from PIL import Image\n",
        "import requests\n",
        "\n",
        "url = \"https://res.cloudinary.com/atoms-shoes/image/upload/c_scale,w_1400,q_auto,f_auto/v1623798821/products/masks/everyday-face-mask/mask_lifestyle_1_bqshhy\"\n",
        "image = Image.open(requests.get(url, stream=True).raw)\n",
        "\n",
        "feature_extractor = ViTFeatureExtractor.from_pretrained('google/vit-base-patch16-224-in21k')\n",
        "model = ViTModel.from_pretrained('google/vit-base-patch16-224-in21k')\n",
        "inputs = feature_extractor(images=image, return_tensors=\"pt\")\n",
        "\n",
        "outputs = model(**inputs)\n",
        "last_hidden_states = outputs.last_hidden_state"
      ],
      "metadata": {
        "colab": {
          "base_uri": "https://localhost:8080/",
          "referenced_widgets": [
            "1f4b463759e942c59125634048eefc5f",
            "c83bda6bdd0f49cc99dd157b07aaed6f",
            "e766f46423f648149a52b0108ac5dc42",
            "443271442d1b4206b29ed36b39425a5c",
            "a275bc7e487c4895be5d7f966f83edea",
            "76938ffc435b423093895837cacb3c9a",
            "2e9da6f5a7bd4f74b757b738bcd893d7",
            "674dea8472074a4198fd118e12c9f2e9",
            "26c8cb88bc2749349a05ec1cc05b5c04",
            "010e3979341d4a268ee006105ea04084",
            "9ffd59281c184ebc9490c83193f7e4c0",
            "d36b9f7c04c84735882afca11ea7faed",
            "f5b147913b7f4294a171cb098f5c5110",
            "564b0d56c99043a6ae1cfc6cf2c20c56",
            "d504c3eb38d94ea2a933c94817df0b6c",
            "1d7d3122bc2d4993bb503ac8d186be28",
            "d066b6c449ac449d92f91f42fa94f042",
            "e335a846aa564f7798c83aef3994ab69",
            "c9bc1450fbb0440f8f1d924c9f3f7c00",
            "59fc237b4752435891402f9cb68c2413",
            "5bcaab7038f24380b2e5d34cb33e2fe7",
            "ca90035a790948d189dc96a793fe2857",
            "e39e7dba514248baa2b8a48a76f07b28",
            "81efec151640466cb55013b06559c1cf",
            "0c9c83a0912d44eca2f1f96a97c38dfe",
            "a38f6aaf44b846a785c728f66b6500c3",
            "8aa8f116c4374edfaa11da7bf492aec6",
            "3ac8ec6455b5469bb768afceadb91ec9",
            "55d5e9af0abf4c98855b4d231ce83555",
            "1d6aaacd3ccf43d29ccfea9817b46fca",
            "32bb944ae61f47f4a65f666d8d0a601f",
            "c310c9626304482f8cf1cdfcd1dd6cda",
            "0c1d9432095a4eb0b99721a339677349"
          ]
        },
        "id": "_g_rDp-0WKMn",
        "outputId": "3c2fc955-6a1a-4b02-ba10-c7e49951762e"
      },
      "execution_count": null,
      "outputs": [
        {
          "output_type": "display_data",
          "data": {
            "application/vnd.jupyter.widget-view+json": {
              "model_id": "1f4b463759e942c59125634048eefc5f",
              "version_minor": 0,
              "version_major": 2
            },
            "text/plain": [
              "Downloading:   0%|          | 0.00/160 [00:00<?, ?B/s]"
            ]
          },
          "metadata": {}
        },
        {
          "output_type": "display_data",
          "data": {
            "application/vnd.jupyter.widget-view+json": {
              "model_id": "d36b9f7c04c84735882afca11ea7faed",
              "version_minor": 0,
              "version_major": 2
            },
            "text/plain": [
              "Downloading:   0%|          | 0.00/502 [00:00<?, ?B/s]"
            ]
          },
          "metadata": {}
        },
        {
          "output_type": "display_data",
          "data": {
            "application/vnd.jupyter.widget-view+json": {
              "model_id": "e39e7dba514248baa2b8a48a76f07b28",
              "version_minor": 0,
              "version_major": 2
            },
            "text/plain": [
              "Downloading:   0%|          | 0.00/330M [00:00<?, ?B/s]"
            ]
          },
          "metadata": {}
        }
      ]
    },
    {
      "cell_type": "code",
      "source": [
        "print(type(outputs))\n",
        "print(outputs.keys())\n",
        "print(outputs[\"last_hidden_state\"].shape)\n",
        "print(outputs[\"pooler_output\"].shape)"
      ],
      "metadata": {
        "colab": {
          "base_uri": "https://localhost:8080/"
        },
        "id": "6lFqfoxsew0q",
        "outputId": "a04dcf54-99a0-45d4-b877-07b966ac2457"
      },
      "execution_count": null,
      "outputs": [
        {
          "output_type": "stream",
          "name": "stdout",
          "text": [
            "<class 'transformers.modeling_outputs.BaseModelOutputWithPooling'>\n",
            "odict_keys(['last_hidden_state', 'pooler_output'])\n",
            "torch.Size([1, 197, 768])\n",
            "torch.Size([1, 768])\n"
          ]
        }
      ]
    },
    {
      "cell_type": "markdown",
      "source": [
        "#DIY"
      ],
      "metadata": {
        "id": "_z9lGpJZk-i0"
      }
    },
    {
      "cell_type": "code",
      "source": [
        "pip install -U tensorflow-addons"
      ],
      "metadata": {
        "colab": {
          "base_uri": "https://localhost:8080/"
        },
        "id": "5H5UaChubjMi",
        "outputId": "758b360d-193f-49d1-a700-59a67790af0f"
      },
      "execution_count": null,
      "outputs": [
        {
          "output_type": "stream",
          "name": "stdout",
          "text": [
            "Collecting tensorflow-addons\n",
            "  Downloading tensorflow_addons-0.15.0-cp37-cp37m-manylinux_2_12_x86_64.manylinux2010_x86_64.whl (1.1 MB)\n",
            "\u001b[K     |████████████████████████████████| 1.1 MB 5.3 MB/s \n",
            "\u001b[?25hRequirement already satisfied: typeguard>=2.7 in /usr/local/lib/python3.7/dist-packages (from tensorflow-addons) (2.7.1)\n",
            "Installing collected packages: tensorflow-addons\n",
            "Successfully installed tensorflow-addons-0.15.0\n"
          ]
        }
      ]
    },
    {
      "cell_type": "code",
      "source": [
        "import numpy as np \n",
        "import tensorflow\n",
        "from tensorflow.keras import layers\n",
        "import tensorflow_addons as tfa"
      ],
      "metadata": {
        "id": "hSTCFvBUlMPF"
      },
      "execution_count": null,
      "outputs": []
    },
    {
      "cell_type": "code",
      "source": [
        "learning_rate = 1e-3\n",
        "weight_decay=1e-4\n",
        "batch_size= 128\n",
        "num_epochs=25\n",
        "image_size = 72\n",
        "patch_size = 6\n",
        "num_patches = (image_size//patch_size)**2\n",
        "projection_dim = 64\n",
        "num_heads = 4\n",
        "transformer_units=[projection_dim*2, projection_dim]\n",
        "transformer_layers = 8\n",
        "mlp_head_units=[2048, 1024]"
      ],
      "metadata": {
        "id": "0Zv4ex1RlMay"
      },
      "execution_count": null,
      "outputs": []
    },
    {
      "cell_type": "code",
      "source": [
        "from tensorflow.keras.datasets import cifar100\n",
        "from tensorflow.keras import Sequential\n",
        "num_classes = 100\n",
        "input_shape = (32, 32, 3)\n",
        "\n",
        "(x_train, y_train), (x_test, y_test) = cifar100.load_data()\n",
        "\n",
        "print(f\"x_train shape: {x_train.shape} - y_train shape: {y_train.shape}\")\n",
        "print(f\"x_test shape: {x_test.shape} - y_test shape: {y_test.shape}\")\n",
        "data_augmentation = Sequential(\n",
        "    [\n",
        "        layers.Normalization(),\n",
        "        layers.Resizing(image_size, image_size),\n",
        "        layers.RandomFlip(\"horizontal\"),\n",
        "        layers.RandomRotation(factor=0.02),\n",
        "        layers.RandomZoom(\n",
        "            height_factor=0.2, width_factor=0.2\n",
        "        ),\n",
        "    ],\n",
        "    name=\"data_augmentation\",\n",
        ")\n",
        "# Compute the mean and the variance of the training data for normalization.\n",
        "data_augmentation.layers[0].adapt(x_train)\n",
        "print(x_train[0])"
      ],
      "metadata": {
        "colab": {
          "base_uri": "https://localhost:8080/"
        },
        "id": "Ux2-Ap-2lMd5",
        "outputId": "01da2f03-1feb-45fa-9356-17c6b21919af"
      },
      "execution_count": null,
      "outputs": [
        {
          "output_type": "stream",
          "name": "stdout",
          "text": [
            "Downloading data from https://www.cs.toronto.edu/~kriz/cifar-100-python.tar.gz\n",
            "169009152/169001437 [==============================] - 2s 0us/step\n",
            "169017344/169001437 [==============================] - 2s 0us/step\n",
            "x_train shape: (50000, 32, 32, 3) - y_train shape: (50000, 1)\n",
            "x_test shape: (10000, 32, 32, 3) - y_test shape: (10000, 1)\n",
            "[[[255 255 255]\n",
            "  [255 255 255]\n",
            "  [255 255 255]\n",
            "  ...\n",
            "  [195 205 193]\n",
            "  [212 224 204]\n",
            "  [182 194 167]]\n",
            "\n",
            " [[255 255 255]\n",
            "  [254 254 254]\n",
            "  [254 254 254]\n",
            "  ...\n",
            "  [170 176 150]\n",
            "  [161 168 130]\n",
            "  [146 154 113]]\n",
            "\n",
            " [[255 255 255]\n",
            "  [254 254 254]\n",
            "  [255 255 255]\n",
            "  ...\n",
            "  [189 199 169]\n",
            "  [166 178 130]\n",
            "  [121 133  87]]\n",
            "\n",
            " ...\n",
            "\n",
            " [[148 185  79]\n",
            "  [142 182  57]\n",
            "  [140 179  60]\n",
            "  ...\n",
            "  [ 30  17   1]\n",
            "  [ 65  62  15]\n",
            "  [ 76  77  20]]\n",
            "\n",
            " [[122 157  66]\n",
            "  [120 155  58]\n",
            "  [126 160  71]\n",
            "  ...\n",
            "  [ 22  16   3]\n",
            "  [ 97 112  56]\n",
            "  [141 161  87]]\n",
            "\n",
            " [[ 87 122  41]\n",
            "  [ 88 122  39]\n",
            "  [101 134  56]\n",
            "  ...\n",
            "  [ 34  36  10]\n",
            "  [105 133  59]\n",
            "  [138 173  79]]]\n"
          ]
        }
      ]
    },
    {
      "cell_type": "code",
      "source": [
        "def mlp(x, hidden_units, dropout_rate):\n",
        "    for units in hidden_units:\n",
        "        x=layers.Dense(units, activation=tf.nn.gelu)(x)\n",
        "        x=layers.Dropout(dropout_rate)(x)\n",
        "    return x"
      ],
      "metadata": {
        "id": "tW8P03OVlMjq"
      },
      "execution_count": null,
      "outputs": []
    },
    {
      "cell_type": "code",
      "source": [
        "class Patches(layers.Layer):\n",
        "    def __init__(self, patch_size):\n",
        "        super(Patches, self).__init__()\n",
        "\n",
        "        self.patch_size=patch_size\n",
        "    def call(self, images):\n",
        "        batch_size = tf.shape(images)[0]\n",
        "        patches=tf.image.extract_patches(\n",
        "            images=images,\n",
        "            sizes=[1,self.patch_size, self.patch_size, 1],\n",
        "            strides=[1, self.patch_size, self.patch_size, 1],\n",
        "            rates=[1,1,1,1],\n",
        "            padding=\"VALID\")\n",
        "        patch_dims=patches.shape[-1]\n",
        "        # flatten patches 12x12 = 144\n",
        "        patches=tf.reshape(patches, [batch_size,-1,patch_dims])\n",
        "        return patches "
      ],
      "metadata": {
        "id": "SeZSPUTulMmQ"
      },
      "execution_count": null,
      "outputs": []
    },
    {
      "cell_type": "code",
      "source": [
        "import matplotlib.pyplot as plt\n",
        "import numpy as np\n",
        "import tensorflow as tf\n",
        "num_img = x_train.shape[0]\n",
        "image = x_train[np.random.choice(range(num_img))]\n",
        "print(image.shape)\n",
        "plt.axis(\"off\")\n",
        "plt.imshow(image)\n",
        "\n",
        "resized_image = tf.convert_to_tensor([image])\n",
        "print(resized_image.shape)\n",
        "resized_image = tf.image.resize(resized_image, size=(image_size, image_size))\n",
        "print(resized_image.shape)\n",
        "patches = Patches(patch_size)(resized_image)\n",
        "print(patches.shape)"
      ],
      "metadata": {
        "colab": {
          "base_uri": "https://localhost:8080/",
          "height": 322
        },
        "id": "yp2lXMgYcpWM",
        "outputId": "7785999f-668e-4525-dc52-dfaf470c1edc"
      },
      "execution_count": null,
      "outputs": [
        {
          "output_type": "stream",
          "name": "stdout",
          "text": [
            "(32, 32, 3)\n",
            "(1, 32, 32, 3)\n",
            "(1, 72, 72, 3)\n",
            "(1, 144, 108)\n"
          ]
        },
        {
          "output_type": "display_data",
          "data": {
            "image/png": "[encoded data removed]",
            "text/plain": [
              "<Figure size 432x288 with 1 Axes>"
            ]
          },
          "metadata": {
            "needs_background": "light"
          }
        }
      ]
    },
    {
      "cell_type": "code",
      "source": [
        "pch_size = int(np.sqrt(patches.shape[1]))\n",
        "pch_size\n",
        "print(patches[0])\n",
        "plt.figure(figsize=(8,8))\n",
        "for idx, patch in enumerate(patches[0]):\n",
        "    plt.subplot(pch_size, pch_size, idx+1)\n",
        "    pch_img = tf.reshape(patch, (patch_size, patch_size, 3))\n",
        "    plt.imshow(pch_img.numpy().astype(\"uint8\"))\n",
        "    plt.axis(\"off\")"
      ],
      "metadata": {
        "colab": {
          "base_uri": "https://localhost:8080/",
          "height": 613
        },
        "id": "rQ6b_4fwy4EY",
        "outputId": "dbf13b89-c6b8-4584-c053-6de643105ad1"
      },
      "execution_count": null,
      "outputs": [
        {
          "output_type": "stream",
          "name": "stdout",
          "text": [
            "tf.Tensor(\n",
            "[[129.       157.        76.       ...  40.243828  67.19135   32.503086]\n",
            " [102.22222  127.833336  60.38889  ...  43.20679   64.12654   40.330246]\n",
            " [100.77778  117.33333   71.27778  ...  47.580246  67.91358   48.824074]\n",
            " ...\n",
            " [123.43825  119.74689  115.1759   ... 143.38889  132.38889  130.38889 ]\n",
            " [143.0216   138.84259  134.37656  ... 141.6111   133.       123.6111  ]\n",
            " [199.03705  190.08951  184.76544  ... 131.       121.       116.      ]], shape=(144, 108), dtype=float32)\n"
          ]
        },
        {
          "output_type": "display_data",
          "data": {
            "image/png": "[encoded data removed]",
            "text/plain": [
              "<Figure size 576x576 with 144 Axes>"
            ]
          },
          "metadata": {
            "needs_background": "light"
          }
        }
      ]
    },
    {
      "cell_type": "code",
      "source": [
        "print(np.random.randint(0,32))"
      ],
      "metadata": {
        "colab": {
          "base_uri": "https://localhost:8080/"
        },
        "id": "9GtwcmgrnFaB",
        "outputId": "f5ea037d-af51-4c5b-a975-ea392d4072d7"
      },
      "execution_count": null,
      "outputs": [
        {
          "output_type": "stream",
          "name": "stdout",
          "text": [
            "8\n"
          ]
        }
      ]
    },
    {
      "cell_type": "code",
      "source": [
        "class PatchEncoder(layers.Layer):\n",
        "    def __init__(self, num_patches, projection_dim):\n",
        "        super(PatchEncoder, self).__init__()\n",
        "        self.num_patches = num_patches\n",
        "        self.projection = layers.Dense(units=projection_dim)\n",
        "        self.position_embedding = layers.Embedding(input_dim=num_patches, \n",
        "                                                   output_dim=projection_dim)\n",
        "    def call(self, patch):\n",
        "        positions = tf.range(start=0, limit=self.num_patches, delta=1)\n",
        "        encoded = self.projection(patch) + self.position_embedding(positions)\n",
        "        return encoded"
      ],
      "metadata": {
        "id": "dCrS2ulknFh1"
      },
      "execution_count": null,
      "outputs": []
    },
    {
      "cell_type": "code",
      "source": [
        "positions = tf.range(start=0, limit=144, delta=1)\n",
        "p = layers.Embedding(input_dim=num_patches, output_dim=projection_dim)(positions)\n",
        "print(positions)\n",
        "print(p)\n",
        "print(positions.shape)\n",
        "print(p.shape)"
      ],
      "metadata": {
        "id": "7iJmh0zinFk8",
        "colab": {
          "base_uri": "https://localhost:8080/"
        },
        "outputId": "e8d834ef-fedc-443a-f8d7-2b369b448183"
      },
      "execution_count": null,
      "outputs": [
        {
          "output_type": "stream",
          "name": "stdout",
          "text": [
            "tf.Tensor(\n",
            "[  0   1   2   3   4   5   6   7   8   9  10  11  12  13  14  15  16  17\n",
            "  18  19  20  21  22  23  24  25  26  27  28  29  30  31  32  33  34  35\n",
            "  36  37  38  39  40  41  42  43  44  45  46  47  48  49  50  51  52  53\n",
            "  54  55  56  57  58  59  60  61  62  63  64  65  66  67  68  69  70  71\n",
            "  72  73  74  75  76  77  78  79  80  81  82  83  84  85  86  87  88  89\n",
            "  90  91  92  93  94  95  96  97  98  99 100 101 102 103 104 105 106 107\n",
            " 108 109 110 111 112 113 114 115 116 117 118 119 120 121 122 123 124 125\n",
            " 126 127 128 129 130 131 132 133 134 135 136 137 138 139 140 141 142 143], shape=(144,), dtype=int32)\n",
            "tf.Tensor(\n",
            "[[-0.03578996  0.04004158 -0.04918922 ... -0.03820635 -0.04977008\n",
            "  -0.01208465]\n",
            " [-0.01445828  0.02110063  0.03844223 ...  0.04497867  0.04403343\n",
            "   0.04489856]\n",
            " [ 0.01614693 -0.00878644 -0.00140502 ... -0.04126668 -0.00526229\n",
            "  -0.0089996 ]\n",
            " ...\n",
            " [ 0.00288118  0.04526575  0.04853806 ... -0.0100901  -0.0430741\n",
            "   0.00085535]\n",
            " [ 0.0205774   0.01285173  0.01164558 ...  0.01073269  0.00668217\n",
            "  -0.03281166]\n",
            " [-0.03543901  0.00326865 -0.04874449 ...  0.01726096 -0.03053334\n",
            "  -0.03074031]], shape=(144, 64), dtype=float32)\n",
            "(144,)\n",
            "(144, 64)\n"
          ]
        }
      ]
    },
    {
      "cell_type": "code",
      "source": [
        "patches = Patches(patch_size)(resized_image)\n",
        "ps = layers.Dense(units=projection_dim)(patches)\n",
        "print(patches)\n",
        "print(ps)\n",
        "print(patches.shape)\n",
        "print(ps.shape)\n"
      ],
      "metadata": {
        "id": "BTRvQAkbnFoW",
        "colab": {
          "base_uri": "https://localhost:8080/"
        },
        "outputId": "42546fdf-ab9e-4458-ca82-8ecc3dd1e6e5"
      },
      "execution_count": null,
      "outputs": [
        {
          "output_type": "stream",
          "name": "stdout",
          "text": [
            "tf.Tensor(\n",
            "[[[129.       157.        76.       ...  40.243828  67.19135   32.503086]\n",
            "  [102.22222  127.833336  60.38889  ...  43.20679   64.12654   40.330246]\n",
            "  [100.77778  117.33333   71.27778  ...  47.580246  67.91358   48.824074]\n",
            "  ...\n",
            "  [123.43825  119.74689  115.1759   ... 143.38889  132.38889  130.38889 ]\n",
            "  [143.0216   138.84259  134.37656  ... 141.6111   133.       123.6111  ]\n",
            "  [199.03705  190.08951  184.76544  ... 131.       121.       116.      ]]], shape=(1, 144, 108), dtype=float32)\n",
            "tf.Tensor(\n",
            "[[[ 135.98485    -180.47227     320.1299     ...  -14.984022\n",
            "     49.87492    -159.37901   ]\n",
            "  [ 120.75861    -146.78412     268.88934    ...   -0.61715347\n",
            "     46.572647   -126.85646   ]\n",
            "  [ 121.82456    -153.41115     261.5067     ...   -8.232744\n",
            "     59.2816     -110.82574   ]\n",
            "  ...\n",
            "  [ 214.23875    -305.2471      404.40482    ... -118.04945\n",
            "    189.5895     -104.062485  ]\n",
            "  [ 252.75824    -362.19937     499.71982    ...  -89.05667\n",
            "    177.40508    -165.82224   ]\n",
            "  [ 268.7206     -366.96313     517.2924     ...  -84.25422\n",
            "    165.55412    -176.89221   ]]], shape=(1, 144, 64), dtype=float32)\n",
            "(1, 144, 108)\n",
            "(1, 144, 64)\n"
          ]
        }
      ]
    },
    {
      "cell_type": "code",
      "source": [
        "def create_vit_classifier():\n",
        "    inputs = layers.Input(shape=input_shape)\n",
        "    augmented = data_augmentation(inputs)\n",
        "    patches = Patches(patch_size)(augmented)\n",
        "    encoded_patches = PatchEncoder(num_patches, projection_dim)(patches)\n",
        "\n",
        "    for _ in range(transformer_layers):\n",
        "        x1 = layers.LayerNormalization(epsilon=1e-6)(encoded_patches)\n",
        "        attention_output=layers.MultiHeadAttention(num_heads=num_heads,\n",
        "                                                   key_dim=projection_dim,\n",
        "                                                   dropout=0.1)(x1,x1)\n",
        "        x2 = layers.Add()([attention_output, encoded_patches])\n",
        "        x3 = layers.LayerNormalization(epsilon=1e-6)(x2)\n",
        "        x3 = mlp(x3, hidden_units=transformer_units, dropout_rate=0.1)\n",
        "        encoded_patches=layers.Add()([x2, x3])\n",
        "    \n",
        "    representation = layers.LayerNormalization(epsilon=1e-6)(encoded_patches)\n",
        "    representation = layers.Flatten()(representation)\n",
        "    representation = layers.Dropout(0.5)(representation)\n",
        "\n",
        "    features = mlp(representation, hidden_units=mlp_head_units, dropout_rate=0.5)\n",
        "    logits = layers.Dense(num_classes)(features)\n",
        "    model= tensorflow.keras.Model(inputs=inputs, outputs=logits)\n",
        "    return model"
      ],
      "metadata": {
        "id": "MX1cr3XKOFl2"
      },
      "execution_count": null,
      "outputs": []
    },
    {
      "cell_type": "code",
      "source": [
        "def run_experiment(model):\n",
        "    optimizer = tfa.optimizers.AdamW(\n",
        "        learning_rate=learning_rate, weight_decay=weight_decay\n",
        "    )\n",
        "    model.compile(\n",
        "        optimizer=optimizer,\n",
        "        loss=tensorflow.keras.losses.SparseCategoricalCrossentropy(from_logits=True),\n",
        "        metrics=[\n",
        "            tensorflow.keras.metrics.SparseCategoricalAccuracy(name=\"accuracy\"),\n",
        "            tensorflow.keras.metrics.SparseTopKCategoricalAccuracy(5, name=\"top-5-accuracy\"),\n",
        "        ],\n",
        "    )\n",
        "    checkpoint_filepath = \"model_checkpoint/VIT_cifar\"\n",
        "    checkpoint_callback = tensorflow.keras.callbacks.ModelCheckpoint(\n",
        "        checkpoint_filepath,\n",
        "        monitor=\"val_accuracy\",\n",
        "        save_best_only=True,\n",
        "        save_weights_only=True,\n",
        "    )\n",
        "    \n",
        "    history = model.fit(\n",
        "            x=x_train,\n",
        "            y=y_train,\n",
        "            batch_size=batch_size,\n",
        "            epochs=num_epochs,\n",
        "            validation_split=0.1,\n",
        "            callbacks=[checkpoint_callback],\n",
        "        )\n",
        "    model.load_weights(checkpoint_filepath)\n",
        "    _, accuracy, top_5_accuracy = model.evaluate(x_test, y_test)\n",
        "    print(f\"Test accuracy: {round(accuracy * 100, 2)}%\")\n",
        "    print(f\"Test top 5 accuracy: {round(top_5_accuracy * 100, 2)}%\")\n",
        "\n",
        "    return history\n",
        "\n",
        "\n",
        "vit_classifier = create_vit_classifier()\n",
        "history = run_experiment(vit_classifier)"
      ],
      "metadata": {
        "colab": {
          "base_uri": "https://localhost:8080/"
        },
        "id": "QTHGvbw7T6iZ",
        "outputId": "184180ad-8e1f-49c5-c86b-b5aa0e8f90bd"
      },
      "execution_count": null,
      "outputs": [
        {
          "output_type": "stream",
          "name": "stdout",
          "text": [
            "Epoch 1/25\n",
            "352/352 [==============================] - 177s 463ms/step - loss: 4.4525 - accuracy: 0.0474 - top-5-accuracy: 0.1645 - val_loss: 3.8963 - val_accuracy: 0.1056 - val_top-5-accuracy: 0.3148\n",
            "Epoch 2/25\n",
            "352/352 [==============================] - 161s 457ms/step - loss: 3.9258 - accuracy: 0.0961 - top-5-accuracy: 0.2965 - val_loss: 3.5647 - val_accuracy: 0.1598 - val_top-5-accuracy: 0.4028\n",
            "Epoch 3/25\n",
            "352/352 [==============================] - 161s 457ms/step - loss: 3.6754 - accuracy: 0.1333 - top-5-accuracy: 0.3721 - val_loss: 3.3769 - val_accuracy: 0.1942 - val_top-5-accuracy: 0.4656\n",
            "Epoch 4/25\n",
            "352/352 [==============================] - 161s 458ms/step - loss: 3.5081 - accuracy: 0.1602 - top-5-accuracy: 0.4196 - val_loss: 3.2362 - val_accuracy: 0.2104 - val_top-5-accuracy: 0.4952\n",
            "Epoch 5/25\n",
            "352/352 [==============================] - 161s 457ms/step - loss: 3.3627 - accuracy: 0.1866 - top-5-accuracy: 0.4638 - val_loss: 3.0951 - val_accuracy: 0.2368 - val_top-5-accuracy: 0.5268\n",
            "Epoch 6/25\n",
            "352/352 [==============================] - 161s 458ms/step - loss: 3.2404 - accuracy: 0.2107 - top-5-accuracy: 0.4940 - val_loss: 2.9516 - val_accuracy: 0.2674 - val_top-5-accuracy: 0.5660\n",
            "Epoch 7/25\n",
            "352/352 [==============================] - 159s 453ms/step - loss: 3.1477 - accuracy: 0.2280 - top-5-accuracy: 0.5178 - val_loss: 3.0797 - val_accuracy: 0.2454 - val_top-5-accuracy: 0.5318\n",
            "Epoch 8/25\n",
            "352/352 [==============================] - 161s 457ms/step - loss: 3.1022 - accuracy: 0.2372 - top-5-accuracy: 0.5289 - val_loss: 2.8896 - val_accuracy: 0.2816 - val_top-5-accuracy: 0.5784\n",
            "Epoch 9/25\n",
            "352/352 [==============================] - 161s 458ms/step - loss: 3.0701 - accuracy: 0.2441 - top-5-accuracy: 0.5381 - val_loss: 2.8106 - val_accuracy: 0.2966 - val_top-5-accuracy: 0.6002\n",
            "Epoch 10/25\n",
            "352/352 [==============================] - 161s 457ms/step - loss: 2.9072 - accuracy: 0.2768 - top-5-accuracy: 0.5776 - val_loss: 2.7213 - val_accuracy: 0.3144 - val_top-5-accuracy: 0.6200\n",
            "Epoch 11/25\n",
            "352/352 [==============================] - 161s 456ms/step - loss: 2.8079 - accuracy: 0.2949 - top-5-accuracy: 0.6030 - val_loss: 2.6263 - val_accuracy: 0.3350 - val_top-5-accuracy: 0.6414\n",
            "Epoch 12/25\n",
            "352/352 [==============================] - 161s 456ms/step - loss: 2.7194 - accuracy: 0.3120 - top-5-accuracy: 0.6238 - val_loss: 2.5782 - val_accuracy: 0.3472 - val_top-5-accuracy: 0.6498\n",
            "Epoch 13/25\n",
            "352/352 [==============================] - 160s 453ms/step - loss: 2.6489 - accuracy: 0.3273 - top-5-accuracy: 0.6395 - val_loss: 2.5138 - val_accuracy: 0.3560 - val_top-5-accuracy: 0.6676\n",
            "Epoch 14/25\n",
            "352/352 [==============================] - 160s 456ms/step - loss: 2.5754 - accuracy: 0.3403 - top-5-accuracy: 0.6549 - val_loss: 2.4418 - val_accuracy: 0.3756 - val_top-5-accuracy: 0.6764\n",
            "Epoch 15/25\n",
            "352/352 [==============================] - 160s 454ms/step - loss: 2.5057 - accuracy: 0.3551 - top-5-accuracy: 0.6726 - val_loss: 2.4015 - val_accuracy: 0.3872 - val_top-5-accuracy: 0.6868\n",
            "Epoch 16/25\n",
            "352/352 [==============================] - 160s 454ms/step - loss: 2.4523 - accuracy: 0.3646 - top-5-accuracy: 0.6824 - val_loss: 2.3570 - val_accuracy: 0.4022 - val_top-5-accuracy: 0.7010\n",
            "Epoch 17/25\n",
            "352/352 [==============================] - 160s 454ms/step - loss: 2.3954 - accuracy: 0.3768 - top-5-accuracy: 0.6942 - val_loss: 2.3124 - val_accuracy: 0.4118 - val_top-5-accuracy: 0.6988\n",
            "Epoch 18/25\n",
            "352/352 [==============================] - 159s 451ms/step - loss: 2.3388 - accuracy: 0.3910 - top-5-accuracy: 0.7066 - val_loss: 2.3296 - val_accuracy: 0.4030 - val_top-5-accuracy: 0.6986\n",
            "Epoch 19/25\n",
            "352/352 [==============================] - 160s 454ms/step - loss: 2.2802 - accuracy: 0.4039 - top-5-accuracy: 0.7226 - val_loss: 2.2776 - val_accuracy: 0.4158 - val_top-5-accuracy: 0.7194\n",
            "Epoch 20/25\n",
            "352/352 [==============================] - 159s 451ms/step - loss: 2.2307 - accuracy: 0.4137 - top-5-accuracy: 0.7296 - val_loss: 2.2737 - val_accuracy: 0.4088 - val_top-5-accuracy: 0.7112\n",
            "Epoch 21/25\n",
            "352/352 [==============================] - 160s 454ms/step - loss: 2.1936 - accuracy: 0.4185 - top-5-accuracy: 0.7378 - val_loss: 2.2173 - val_accuracy: 0.4276 - val_top-5-accuracy: 0.7236\n",
            "Epoch 22/25\n",
            "352/352 [==============================] - 160s 454ms/step - loss: 2.1463 - accuracy: 0.4320 - top-5-accuracy: 0.7463 - val_loss: 2.2009 - val_accuracy: 0.4354 - val_top-5-accuracy: 0.7314\n",
            "Epoch 23/25\n",
            "352/352 [==============================] - 161s 457ms/step - loss: 2.1026 - accuracy: 0.4412 - top-5-accuracy: 0.7560 - val_loss: 2.1810 - val_accuracy: 0.4418 - val_top-5-accuracy: 0.7286\n",
            "Epoch 24/25\n",
            "352/352 [==============================] - 161s 458ms/step - loss: 2.0653 - accuracy: 0.4500 - top-5-accuracy: 0.7612 - val_loss: 2.1550 - val_accuracy: 0.4444 - val_top-5-accuracy: 0.7382\n",
            "Epoch 25/25\n",
            "352/352 [==============================] - 161s 458ms/step - loss: 2.0272 - accuracy: 0.4579 - top-5-accuracy: 0.7698 - val_loss: 2.1539 - val_accuracy: 0.4458 - val_top-5-accuracy: 0.7370\n",
            "313/313 [==============================] - 18s 58ms/step - loss: 2.1346 - accuracy: 0.4443 - top-5-accuracy: 0.7426\n",
            "Test accuracy: 44.43%\n",
            "Test top 5 accuracy: 74.26%\n"
          ]
        }
      ]
    },
    {
      "cell_type": "code",
      "source": [
        "def plot_hist(hist):\n",
        "    plt.plot(hist.history[\"accuracy\"])\n",
        "    plt.plot(hist.history[\"val_accuracy\"])\n",
        "    plt.plot(hist.history[\"loss\"])\n",
        "    plt.plot(hist.history[\"val_loss\"])\n",
        "    plt.title(\"Training Progress\")\n",
        "    plt.ylabel(\"Accuracy/Loss\")\n",
        "    plt.xlabel(\"Epochs\")\n",
        "    plt.legend([\"train_acc\", \"val_acc\", \"train_loss\", \"val_loss\"], loc=\"upper left\")\n",
        "    plt.show()"
      ],
      "metadata": {
        "id": "tMHe7nHInFrv"
      },
      "execution_count": null,
      "outputs": []
    },
    {
      "cell_type": "code",
      "source": [
        "import matplotlib.pyplot as plt\n",
        "plot_hist(history)"
      ],
      "metadata": {
        "colab": {
          "base_uri": "https://localhost:8080/",
          "height": 294
        },
        "id": "TvgYW7iKX-dh",
        "outputId": "fe37dfdf-4fe1-474e-87f2-ef4338763afb"
      },
      "execution_count": null,
      "outputs": [
        {
          "output_type": "display_data",
          "data": {
            "image/png": "[encoded data removed]",
            "text/plain": [
              "<Figure size 432x288 with 1 Axes>"
            ]
          },
          "metadata": {
            "needs_background": "light"
          }
        }
      ]
    },
    {
      "cell_type": "code",
      "source": [
        "import tensorflow as tf\n",
        "from tensorflow.keras.preprocessing.image import ImageDataGenerator\n",
        "\n",
        "train_dir = \"/content/drive/MyDrive/Colab Notebooks/AI4E/Final Project/Mask detection/Face Mask Dataset/Train\"\n",
        "test_dir = \"/content/drive/MyDrive/Colab Notebooks/AI4E/Final Project/Mask detection/Face Mask Dataset/Test\"\n",
        "val_dir = \"/content/drive/MyDrive/Colab Notebooks/AI4E/Final Project/Mask detection/Face Mask Dataset/Validation\"\n",
        "train_datagen = ImageDataGenerator(featurewise_center=True, \n",
        "                                   featurewise_std_normalization=True, \n",
        "                                   horizontal_flip=True, \n",
        "                                   zoom_range=0.2,\n",
        "                                   shear_range=0.2,\n",
        "                                   rotation_range=20,\n",
        "                                   width_shift_range=0.2,\n",
        "                                   height_shift_range=0.2)\n",
        "train_generator = train_datagen.flow_from_directory(directory=train_dir, \n",
        "                                                    target_size=(image_size,image_size),\n",
        "                                                    class_mode='categorical',\n",
        "                                                    batch_size=batch_size,\n",
        "                                                    shuffle=True)\n",
        "\n",
        "val_datagen = ImageDataGenerator(featurewise_center=True, \n",
        "                                 featurewise_std_normalization=True)\n",
        "val_generator = train_datagen.flow_from_directory(directory=val_dir,\n",
        "                                                  target_size=(image_size,image_size), \n",
        "                                                  class_mode='categorical', \n",
        "                                                  batch_size=batch_size,\n",
        "                                                  shuffle=True)\n",
        "\n",
        "test_datagen = ImageDataGenerator(featurewise_center=True, \n",
        "                                  featurewise_std_normalization=True)\n",
        "test_generator = train_datagen.flow_from_directory(directory=val_dir,\n",
        "                                                   target_size=(image_size,image_size),\n",
        "                                                   class_mode='categorical',\n",
        "                                                   batch_size=batch_size,\n",
        "                                                   shuffle=True)"
      ],
      "metadata": {
        "colab": {
          "base_uri": "https://localhost:8080/"
        },
        "id": "u8gj7mgblMgx",
        "outputId": "7b582724-7d16-4c15-c15b-4cb485602401"
      },
      "execution_count": null,
      "outputs": [
        {
          "output_type": "stream",
          "name": "stdout",
          "text": [
            "Found 10040 images belonging to 2 classes.\n",
            "Found 800 images belonging to 2 classes.\n",
            "Found 800 images belonging to 2 classes.\n"
          ]
        }
      ]
    },
    {
      "cell_type": "code",
      "source": [
        "x_train, y_train = next(train_generator)\n",
        "print(x_train.shape)\n",
        "print(len(train_generator))"
      ],
      "metadata": {
        "colab": {
          "base_uri": "https://localhost:8080/"
        },
        "id": "UIGTccNfhrV9",
        "outputId": "06172c86-7a6b-476d-e08a-5180fb9eab7b"
      },
      "execution_count": null,
      "outputs": [
        {
          "output_type": "stream",
          "name": "stderr",
          "text": [
            "/usr/local/lib/python3.7/dist-packages/keras_preprocessing/image/image_data_generator.py:720: UserWarning: This ImageDataGenerator specifies `featurewise_center`, but it hasn't been fit on any training data. Fit it first by calling `.fit(numpy_data)`.\n",
            "  warnings.warn('This ImageDataGenerator specifies '\n",
            "/usr/local/lib/python3.7/dist-packages/keras_preprocessing/image/image_data_generator.py:728: UserWarning: This ImageDataGenerator specifies `featurewise_std_normalization`, but it hasn't been fit on any training data. Fit it first by calling `.fit(numpy_data)`.\n",
            "  warnings.warn('This ImageDataGenerator specifies '\n"
          ]
        },
        {
          "output_type": "stream",
          "name": "stdout",
          "text": [
            "(128, 72, 72, 3)\n",
            "79\n"
          ]
        }
      ]
    },
    {
      "cell_type": "code",
      "source": [
        "from tqdm import tqdm\n",
        "\n",
        "train_generator.reset()\n",
        "x_train, y_train = next(train_generator)\n",
        "for i in tqdm(range(len(train_generator)-1)):\n",
        "  img, label = next(train_generator)\n",
        "  x_train = np.append(x_train, img, axis=0 )\n",
        "  y_train = np.append(y_train, label, axis=0)\n",
        "print(x_train.shape, y_train.shape)\n",
        "\n",
        "val_generator.reset()\n",
        "x_val, y_val = next(val_generator)\n",
        "for i in tqdm(range(len(val_generator)-1)): \n",
        "  img, label = next(val_generator)\n",
        "  x_val = np.append(x_val, img, axis=0 )\n",
        "  y_val = np.append(y_val, label, axis=0)\n",
        "print(x_val.shape, y_val.shape)\n",
        "\n",
        "test_generator.reset()\n",
        "x_test, y_test = next(test_generator)\n",
        "for i in tqdm(range(len(test_generator)-1)): \n",
        "  img, label = next(test_generator)\n",
        "  x_test = np.append(x_test, img, axis=0)\n",
        "  y_test = np.append(y_test, label, axis=0)\n",
        "print(x_test.shape, y_test.shape)"
      ],
      "metadata": {
        "id": "ATtQguOPf-6E",
        "colab": {
          "base_uri": "https://localhost:8080/"
        },
        "outputId": "cce11141-afdc-4646-88c2-3aab1005e606"
      },
      "execution_count": null,
      "outputs": [
        {
          "output_type": "stream",
          "name": "stderr",
          "text": [
            "/usr/local/lib/python3.7/dist-packages/keras_preprocessing/image/image_data_generator.py:720: UserWarning: This ImageDataGenerator specifies `featurewise_center`, but it hasn't been fit on any training data. Fit it first by calling `.fit(numpy_data)`.\n",
            "  warnings.warn('This ImageDataGenerator specifies '\n",
            "/usr/local/lib/python3.7/dist-packages/keras_preprocessing/image/image_data_generator.py:728: UserWarning: This ImageDataGenerator specifies `featurewise_std_normalization`, but it hasn't been fit on any training data. Fit it first by calling `.fit(numpy_data)`.\n",
            "  warnings.warn('This ImageDataGenerator specifies '\n",
            "100%|██████████| 78/78 [15:55<00:00, 12.25s/it]\n"
          ]
        },
        {
          "output_type": "stream",
          "name": "stdout",
          "text": [
            "(10040, 72, 72, 3) (10040, 2)\n"
          ]
        },
        {
          "output_type": "stream",
          "name": "stderr",
          "text": [
            "100%|██████████| 6/6 [02:48<00:00, 28.08s/it]\n"
          ]
        },
        {
          "output_type": "stream",
          "name": "stdout",
          "text": [
            "(800, 72, 72, 3) (800, 2)\n"
          ]
        },
        {
          "output_type": "stream",
          "name": "stderr",
          "text": [
            "100%|██████████| 6/6 [00:03<00:00,  1.77it/s]"
          ]
        },
        {
          "output_type": "stream",
          "name": "stdout",
          "text": [
            "(800, 72, 72, 3) (800, 2)\n"
          ]
        },
        {
          "output_type": "stream",
          "name": "stderr",
          "text": [
            "\n"
          ]
        }
      ]
    },
    {
      "cell_type": "code",
      "source": [
        "def create_vit_classifier_IDG():    \n",
        "    inputs = layers.Input(shape=(72,72,3))\n",
        "    # augmented = data_augmentation(inputs)\n",
        "    patches = Patches(patch_size)(inputs)\n",
        "    encoded_patches = PatchEncoder(num_patches, projection_dim)(patches)\n",
        "\n",
        "    for _ in range(transformer_layers):\n",
        "        x1 = layers.LayerNormalization(epsilon=1e-6)(encoded_patches)\n",
        "        attention_output=layers.MultiHeadAttention(num_heads=num_heads,\n",
        "                                                   key_dim=projection_dim,\n",
        "                                                   dropout=0.1)(x1,x1)\n",
        "        x2 = layers.Add()([attention_output, encoded_patches])\n",
        "        x3 = layers.LayerNormalization(epsilon=1e-6)(x2)\n",
        "        x3 = mlp(x3, hidden_units=transformer_units, dropout_rate=0.1)\n",
        "        encoded_patches=layers.Add()([x2, x3])\n",
        "    \n",
        "    representation = layers.LayerNormalization(epsilon=1e-6)(encoded_patches)\n",
        "    representation = layers.Flatten()(representation)\n",
        "    representation = layers.Dropout(0.5)(representation)\n",
        "\n",
        "    features = mlp(representation, hidden_units=mlp_head_units, dropout_rate=0.5)\n",
        "    logits = layers.Dense(2)(features)\n",
        "    model= tensorflow.keras.Model(inputs=inputs, outputs=logits)\n",
        "    return model"
      ],
      "metadata": {
        "id": "h6YTxxFvdkea"
      },
      "execution_count": null,
      "outputs": []
    },
    {
      "cell_type": "code",
      "source": [
        "import time\n",
        "def run_experiment_IDG(model):\n",
        "    optimizer = tfa.optimizers.AdamW(\n",
        "        learning_rate=learning_rate, weight_decay=weight_decay\n",
        "    )\n",
        "    model.compile(\n",
        "        optimizer=optimizer,\n",
        "        loss=tensorflow.keras.losses.BinaryCrossentropy(from_logits=True),\n",
        "        metrics=[\n",
        "            tensorflow.keras.metrics.BinaryAccuracy(name=\"accuracy\"),\n",
        "        ],\n",
        "    )\n",
        "    checkpoint_filepath = \"model_checkpoint/VIT_mask\"\n",
        "    checkpoint_callback = tensorflow.keras.callbacks.ModelCheckpoint(\n",
        "        checkpoint_filepath,\n",
        "        monitor=\"val_accuracy\",\n",
        "        save_best_only=True,\n",
        "        save_weights_only=True,\n",
        "    )\n",
        "    \n",
        "    start = time.time()\n",
        "    history = model.fit(\n",
        "            x=x_train,\n",
        "            y=y_train,\n",
        "            batch_size=batch_size,\n",
        "            epochs=num_epochs,\n",
        "            validation_data=(x_val, y_val),\n",
        "            callbacks=[checkpoint_callback],\n",
        "        )\n",
        "    total_time = time.time()-start\n",
        "    model.load_weights(checkpoint_filepath)\n",
        "    _, accuracy = model.evaluate(x_test, y_test)\n",
        "    print(f\"Test accuracy: {round(accuracy * 100, 2)}%\")\n",
        "\n",
        "    return history, total_time\n",
        "\n",
        "\n",
        "vit_classifier = create_vit_classifier_IDG()\n",
        "history, run_time = run_experiment_IDG(vit_classifier)\n",
        "print(run_time)"
      ],
      "metadata": {
        "id": "q9k5MhopW7bi",
        "colab": {
          "base_uri": "https://localhost:8080/"
        },
        "outputId": "08824190-0e68-4231-93df-0341a45b31ef"
      },
      "execution_count": null,
      "outputs": [
        {
          "output_type": "stream",
          "name": "stdout",
          "text": [
            "Epoch 1/25\n",
            "79/79 [==============================] - 51s 486ms/step - loss: 1.4015 - accuracy: 0.7303 - val_loss: 0.3434 - val_accuracy: 0.8644\n",
            "Epoch 2/25\n",
            "79/79 [==============================] - 37s 468ms/step - loss: 0.3613 - accuracy: 0.8511 - val_loss: 0.2909 - val_accuracy: 0.8881\n",
            "Epoch 3/25\n",
            "79/79 [==============================] - 37s 466ms/step - loss: 0.2958 - accuracy: 0.8835 - val_loss: 0.2628 - val_accuracy: 0.8900\n",
            "Epoch 4/25\n",
            "79/79 [==============================] - 37s 463ms/step - loss: 0.2549 - accuracy: 0.8984 - val_loss: 0.2079 - val_accuracy: 0.9137\n",
            "Epoch 5/25\n",
            "79/79 [==============================] - 37s 463ms/step - loss: 0.2201 - accuracy: 0.9125 - val_loss: 0.1845 - val_accuracy: 0.9237\n",
            "Epoch 6/25\n",
            "79/79 [==============================] - 37s 468ms/step - loss: 0.1818 - accuracy: 0.9318 - val_loss: 0.1722 - val_accuracy: 0.9294\n",
            "Epoch 7/25\n",
            "79/79 [==============================] - 37s 464ms/step - loss: 0.1582 - accuracy: 0.9415 - val_loss: 0.1466 - val_accuracy: 0.9431\n",
            "Epoch 8/25\n",
            "79/79 [==============================] - 35s 445ms/step - loss: 0.1312 - accuracy: 0.9499 - val_loss: 0.1480 - val_accuracy: 0.9419\n",
            "Epoch 9/25\n",
            "79/79 [==============================] - 37s 465ms/step - loss: 0.1165 - accuracy: 0.9564 - val_loss: 0.1451 - val_accuracy: 0.9481\n",
            "Epoch 10/25\n",
            "79/79 [==============================] - 37s 464ms/step - loss: 0.1070 - accuracy: 0.9601 - val_loss: 0.1155 - val_accuracy: 0.9550\n",
            "Epoch 11/25\n",
            "79/79 [==============================] - 37s 463ms/step - loss: 0.1013 - accuracy: 0.9621 - val_loss: 0.1023 - val_accuracy: 0.9588\n",
            "Epoch 12/25\n",
            "79/79 [==============================] - 35s 445ms/step - loss: 0.0971 - accuracy: 0.9638 - val_loss: 0.1210 - val_accuracy: 0.9475\n",
            "Epoch 13/25\n",
            "79/79 [==============================] - 36s 462ms/step - loss: 0.0755 - accuracy: 0.9721 - val_loss: 0.0818 - val_accuracy: 0.9669\n",
            "Epoch 14/25\n",
            "79/79 [==============================] - 35s 445ms/step - loss: 0.0677 - accuracy: 0.9754 - val_loss: 0.1066 - val_accuracy: 0.9513\n",
            "Epoch 15/25\n",
            "79/79 [==============================] - 35s 445ms/step - loss: 0.0734 - accuracy: 0.9732 - val_loss: 0.1041 - val_accuracy: 0.9613\n",
            "Epoch 16/25\n",
            "79/79 [==============================] - 35s 445ms/step - loss: 0.0525 - accuracy: 0.9816 - val_loss: 0.0938 - val_accuracy: 0.9644\n",
            "Epoch 17/25\n",
            "79/79 [==============================] - 35s 445ms/step - loss: 0.0598 - accuracy: 0.9785 - val_loss: 0.1054 - val_accuracy: 0.9631\n",
            "Epoch 18/25\n",
            "79/79 [==============================] - 36s 461ms/step - loss: 0.0633 - accuracy: 0.9758 - val_loss: 0.0916 - val_accuracy: 0.9675\n",
            "Epoch 19/25\n",
            "79/79 [==============================] - 35s 445ms/step - loss: 0.0616 - accuracy: 0.9766 - val_loss: 0.0905 - val_accuracy: 0.9656\n",
            "Epoch 20/25\n",
            "79/79 [==============================] - 35s 445ms/step - loss: 0.0547 - accuracy: 0.9811 - val_loss: 0.1205 - val_accuracy: 0.9569\n",
            "Epoch 21/25\n",
            "79/79 [==============================] - 35s 445ms/step - loss: 0.0462 - accuracy: 0.9829 - val_loss: 0.1149 - val_accuracy: 0.9563\n",
            "Epoch 22/25\n",
            "79/79 [==============================] - 37s 463ms/step - loss: 0.0386 - accuracy: 0.9855 - val_loss: 0.0803 - val_accuracy: 0.9762\n",
            "Epoch 23/25\n",
            "79/79 [==============================] - 35s 445ms/step - loss: 0.0390 - accuracy: 0.9853 - val_loss: 0.0869 - val_accuracy: 0.9669\n",
            "Epoch 24/25\n",
            "79/79 [==============================] - 35s 445ms/step - loss: 0.0419 - accuracy: 0.9848 - val_loss: 0.0942 - val_accuracy: 0.9644\n",
            "Epoch 25/25\n",
            "79/79 [==============================] - 35s 445ms/step - loss: 0.0478 - accuracy: 0.9835 - val_loss: 0.1140 - val_accuracy: 0.9631\n",
            "25/25 [==============================] - 2s 44ms/step - loss: 0.1100 - accuracy: 0.9694\n",
            "Test accuracy: 96.94%\n",
            "912.3874411582947\n"
          ]
        }
      ]
    },
    {
      "cell_type": "code",
      "source": [
        "import matplotlib.pyplot as plt\n",
        "plot_hist(history)"
      ],
      "metadata": {
        "id": "q9XHAziVYBmP",
        "colab": {
          "base_uri": "https://localhost:8080/",
          "height": 294
        },
        "outputId": "bb5a025f-3f9c-4453-cfc6-e24a8f49775e"
      },
      "execution_count": null,
      "outputs": [
        {
          "output_type": "display_data",
          "data": {
            "image/png": "[encoded data removed]",
            "text/plain": [
              "<Figure size 432x288 with 1 Axes>"
            ]
          },
          "metadata": {
            "needs_background": "light"
          }
        }
      ]
    },
    {
      "cell_type": "markdown",
      "source": [
        "# ViT finetune"
      ],
      "metadata": {
        "id": "JPBVaBVHyGEI"
      }
    },
    {
      "cell_type": "code",
      "source": [
        "import numpy as np\n",
        "import pandas as pd\n",
        "import cv2\n",
        "import os\n",
        "import time"
      ],
      "metadata": {
        "id": "nl-H3XhXy_8A"
      },
      "execution_count": null,
      "outputs": []
    },
    {
      "cell_type": "code",
      "source": [
        "import tensorflow as tf\n",
        "from tensorflow.keras import Sequential\n",
        "from tensorflow.keras.layers import Flatten, Dense\n",
        "from tensorflow.keras.preprocessing.image import ImageDataGenerator\n",
        "import pickle"
      ],
      "metadata": {
        "id": "OjQDgMvvzCar"
      },
      "execution_count": null,
      "outputs": []
    },
    {
      "cell_type": "code",
      "source": [
        "# Data augmentation\n",
        "train_dir = \"/content/drive/MyDrive/Colab Notebooks/AI4E/Final Project/Mask detection/Face Mask Dataset/Train\"\n",
        "test_dir = \"/content/drive/MyDrive/Colab Notebooks/AI4E/Final Project/Mask detection/Face Mask Dataset/Test\"\n",
        "val_dir = \"/content/drive/MyDrive/Colab Notebooks/AI4E/Final Project/Mask detection/Face Mask Dataset/Validation\"\n",
        "train_datagen = ImageDataGenerator(rescale=1.0/255, \n",
        "                                   horizontal_flip=True, \n",
        "                                   zoom_range=0.2,\n",
        "                                   shear_range=0.2,\n",
        "                                   rotation_range=20,\n",
        "                                   width_shift_range=0.2,\n",
        "                                   height_shift_range=0.2)\n",
        "train_generator = train_datagen.flow_from_directory(directory=train_dir, \n",
        "                                                    target_size=(224,224),\n",
        "                                                    class_mode='categorical',\n",
        "                                                    batch_size=32,\n",
        "                                                    shuffle=True)\n",
        "\n",
        "val_datagen = ImageDataGenerator(rescale=1.0/255)\n",
        "val_generator = train_datagen.flow_from_directory(directory=val_dir,\n",
        "                                                  target_size=(224,224), \n",
        "                                                  class_mode='categorical', \n",
        "                                                  batch_size=32,\n",
        "                                                  shuffle=True)\n",
        "\n",
        "test_datagen = ImageDataGenerator(rescale=1.0/255)\n",
        "test_generator = train_datagen.flow_from_directory(directory=val_dir,\n",
        "                                                   target_size=(224,224),\n",
        "                                                   class_mode='categorical',\n",
        "                                                   batch_size=32,\n",
        "                                                   shuffle=True)"
      ],
      "metadata": {
        "id": "QYx27krmy88O",
        "colab": {
          "base_uri": "https://localhost:8080/"
        },
        "outputId": "5f14ea2e-0abb-4f9d-9773-c02e8f3530d9"
      },
      "execution_count": null,
      "outputs": [
        {
          "output_type": "stream",
          "name": "stdout",
          "text": [
            "Found 10040 images belonging to 2 classes.\n",
            "Found 800 images belonging to 2 classes.\n",
            "Found 800 images belonging to 2 classes.\n"
          ]
        }
      ]
    },
    {
      "cell_type": "code",
      "source": [
        "!pip install --quiet vit-keras\n",
        "\n",
        "from vit_keras import vit"
      ],
      "metadata": {
        "id": "rlHiLS_YyIFx"
      },
      "execution_count": null,
      "outputs": []
    },
    {
      "cell_type": "code",
      "source": [
        "IMAGE_SIZE = 224\n",
        "vit_model = vit.vit_b32(\n",
        "        image_size = IMAGE_SIZE,\n",
        "        activation = 'sigmoid',\n",
        "        pretrained = True,\n",
        "        include_top = False,\n",
        "        pretrained_top = False,\n",
        "        classes = 2)"
      ],
      "metadata": {
        "id": "TjAqHvCPyIjQ",
        "colab": {
          "base_uri": "https://localhost:8080/"
        },
        "outputId": "fcf43a88-1094-4941-bdfb-13e034150ffd"
      },
      "execution_count": null,
      "outputs": [
        {
          "output_type": "stream",
          "name": "stdout",
          "text": [
            "Downloading data from https://github.com/faustomorales/vit-keras/releases/download/dl/ViT-B_32_imagenet21k+imagenet2012.npz\n",
            "353255424/353253686 [==============================] - 25s 0us/step\n",
            "353263616/353253686 [==============================] - 25s 0us/step\n"
          ]
        },
        {
          "output_type": "stream",
          "name": "stderr",
          "text": [
            "/usr/local/lib/python3.7/dist-packages/vit_keras/utils.py:83: UserWarning: Resizing position embeddings from 12, 12 to 7, 7\n",
            "  UserWarning,\n"
          ]
        }
      ]
    },
    {
      "cell_type": "code",
      "source": [
        "model = tf.keras.Sequential([\n",
        "        vit_model,\n",
        "        tf.keras.layers.Flatten(),\n",
        "        tf.keras.layers.BatchNormalization(),\n",
        "        tf.keras.layers.Dense(4, activation = tfa.activations.gelu),\n",
        "        tf.keras.layers.BatchNormalization(),\n",
        "        tf.keras.layers.Dense(2, 'sigmoid')\n",
        "    ],\n",
        "    name = 'vision_transformer')\n",
        "\n",
        "model.summary()"
      ],
      "metadata": {
        "id": "OaZ7m3ckyIqA",
        "colab": {
          "base_uri": "https://localhost:8080/"
        },
        "outputId": "04e09b3d-d4f5-489f-83b7-cd7c0fe9310c"
      },
      "execution_count": null,
      "outputs": [
        {
          "output_type": "stream",
          "name": "stdout",
          "text": [
            "Model: \"vision_transformer\"\n",
            "_________________________________________________________________\n",
            " Layer (type)                Output Shape              Param #   \n",
            "=================================================================\n",
            " vit-b32 (Functional)        (None, 768)               87455232  \n",
            "                                                                 \n",
            " flatten_2 (Flatten)         (None, 768)               0         \n",
            "                                                                 \n",
            " batch_normalization (BatchN  (None, 768)              3072      \n",
            " ormalization)                                                   \n",
            "                                                                 \n",
            " dense_41 (Dense)            (None, 4)                 3076      \n",
            "                                                                 \n",
            " batch_normalization_1 (Batc  (None, 4)                16        \n",
            " hNormalization)                                                 \n",
            "                                                                 \n",
            " dense_42 (Dense)            (None, 2)                 10        \n",
            "                                                                 \n",
            "=================================================================\n",
            "Total params: 87,461,406\n",
            "Trainable params: 87,459,862\n",
            "Non-trainable params: 1,544\n",
            "_________________________________________________________________\n"
          ]
        }
      ]
    },
    {
      "cell_type": "code",
      "source": [
        "from tensorflow.keras.callbacks import ModelCheckpoint, EarlyStopping, ReduceLROnPlateau\n",
        "patient = 4\n",
        "save_path = \"model_checkpoint/vit_keras.h5\"\n",
        "callbacks_list = [\n",
        "    EarlyStopping(\n",
        "        monitor='val_loss', \n",
        "        patience=patient, \n",
        "        mode='min', \n",
        "        verbose=1\n",
        "    ),\n",
        "    ReduceLROnPlateau(\n",
        "        monitor = 'val_loss', \n",
        "        factor = 0.5, \n",
        "        patience = patient / 2, \n",
        "        min_lr=1e-5,\n",
        "        verbose=1,\n",
        "        mode='min'\n",
        "    ),\n",
        "    ModelCheckpoint(save_path, \n",
        "                    monitor=\"val_accuracy\",\n",
        "                    mode=\"max\",\n",
        "                    verbose=1,\n",
        "                    save_best_only=True)\n",
        "    ]"
      ],
      "metadata": {
        "id": "TYU788WUzoIW"
      },
      "execution_count": null,
      "outputs": []
    },
    {
      "cell_type": "code",
      "source": [
        "model.compile(optimizer=\"adam\", \n",
        "              loss=\"binary_crossentropy\", \n",
        "              metrics =\"accuracy\")\n"
      ],
      "metadata": {
        "id": "xaXKpCpBzzc5"
      },
      "execution_count": null,
      "outputs": []
    },
    {
      "cell_type": "code",
      "source": [
        "start = time.time()\n",
        "history = model.fit(train_generator,\n",
        "                    batch_size=32,\n",
        "                    epochs=20,\n",
        "                    validation_data=val_generator,\n",
        "                    callbacks=callbacks_list)"
      ],
      "metadata": {
        "id": "kumVVQNvz3GJ",
        "colab": {
          "base_uri": "https://localhost:8080/"
        },
        "outputId": "f10a549d-4648-4e4f-9aa3-1218ac82a051"
      },
      "execution_count": null,
      "outputs": [
        {
          "output_type": "stream",
          "name": "stdout",
          "text": [
            "Epoch 1/20\n",
            "314/314 [==============================] - ETA: 0s - loss: 0.4014 - accuracy: 0.8466\n",
            "Epoch 00001: val_accuracy improved from -inf to 0.50125, saving model to model_checkpoint/vit_keras.h5\n",
            "314/314 [==============================] - 289s 827ms/step - loss: 0.4014 - accuracy: 0.8466 - val_loss: 0.9113 - val_accuracy: 0.5013 - lr: 0.0010\n",
            "Epoch 2/20\n",
            "314/314 [==============================] - ETA: 0s - loss: 0.2778 - accuracy: 0.8943\n",
            "Epoch 00002: val_accuracy improved from 0.50125 to 0.86625, saving model to model_checkpoint/vit_keras.h5\n",
            "314/314 [==============================] - 275s 876ms/step - loss: 0.2778 - accuracy: 0.8943 - val_loss: 0.3730 - val_accuracy: 0.8662 - lr: 0.0010\n",
            "Epoch 3/20\n",
            "314/314 [==============================] - ETA: 0s - loss: 0.2426 - accuracy: 0.9082\n",
            "Epoch 00003: val_accuracy improved from 0.86625 to 0.89000, saving model to model_checkpoint/vit_keras.h5\n",
            "314/314 [==============================] - 276s 866ms/step - loss: 0.2426 - accuracy: 0.9082 - val_loss: 0.2628 - val_accuracy: 0.8900 - lr: 0.0010\n",
            "Epoch 4/20\n",
            "314/314 [==============================] - ETA: 0s - loss: 0.2207 - accuracy: 0.9134\n",
            "Epoch 00004: val_accuracy did not improve from 0.89000\n",
            "314/314 [==============================] - 252s 800ms/step - loss: 0.2207 - accuracy: 0.9134 - val_loss: 0.3258 - val_accuracy: 0.8662 - lr: 0.0010\n",
            "Epoch 5/20\n",
            "314/314 [==============================] - ETA: 0s - loss: 0.1941 - accuracy: 0.9259\n",
            "Epoch 00005: ReduceLROnPlateau reducing learning rate to 0.0005000000237487257.\n",
            "\n",
            "Epoch 00005: val_accuracy did not improve from 0.89000\n",
            "314/314 [==============================] - 248s 787ms/step - loss: 0.1941 - accuracy: 0.9259 - val_loss: 0.3413 - val_accuracy: 0.8763 - lr: 0.0010\n",
            "Epoch 6/20\n",
            "314/314 [==============================] - ETA: 0s - loss: 0.1705 - accuracy: 0.9384\n",
            "Epoch 00006: val_accuracy did not improve from 0.89000\n",
            "314/314 [==============================] - 247s 786ms/step - loss: 0.1705 - accuracy: 0.9384 - val_loss: 0.3976 - val_accuracy: 0.8300 - lr: 5.0000e-04\n",
            "Epoch 7/20\n",
            "314/314 [==============================] - ETA: 0s - loss: 0.1491 - accuracy: 0.9460\n",
            "Epoch 00007: ReduceLROnPlateau reducing learning rate to 0.0002500000118743628.\n",
            "\n",
            "Epoch 00007: val_accuracy did not improve from 0.89000\n",
            "314/314 [==============================] - 249s 790ms/step - loss: 0.1491 - accuracy: 0.9460 - val_loss: 0.4972 - val_accuracy: 0.8313 - lr: 5.0000e-04\n",
            "Epoch 00007: early stopping\n"
          ]
        }
      ]
    },
    {
      "cell_type": "code",
      "source": [
        "total_time = time.time()-start\n",
        "print(total_time)\n"
      ],
      "metadata": {
        "id": "CJcNTS0Lz5sn",
        "colab": {
          "base_uri": "https://localhost:8080/"
        },
        "outputId": "ef439d17-d582-4b6c-96e3-f63e1427c566"
      },
      "execution_count": null,
      "outputs": [
        {
          "output_type": "stream",
          "name": "stdout",
          "text": [
            "1845.6568069458008\n"
          ]
        }
      ]
    },
    {
      "cell_type": "code",
      "source": [
        "import pickle\n",
        "with open('scores/vit_keras.pkl', 'wb') as f:\n",
        "  pickle.dump(history.history, f)"
      ],
      "metadata": {
        "id": "Qbn4bS7oz_Qy"
      },
      "execution_count": null,
      "outputs": []
    },
    {
      "cell_type": "code",
      "source": [
        "import matplotlib.pyplot as plt\n",
        "plot_hist(history)"
      ],
      "metadata": {
        "id": "QiiEAd2a2bUH",
        "colab": {
          "base_uri": "https://localhost:8080/",
          "height": 294
        },
        "outputId": "e2b73429-ebf2-4672-ff35-d8e0861ef7fd"
      },
      "execution_count": null,
      "outputs": [
        {
          "output_type": "display_data",
          "data": {
            "image/png": "[encoded data removed]",
            "text/plain": [
              "<Figure size 432x288 with 1 Axes>"
            ]
          },
          "metadata": {
            "needs_background": "light"
          }
        }
      ]
    },
    {
      "cell_type": "code",
      "source": [
        "import matplotlib.pyplot as plt\n",
        "plot_hist(history)"
      ],
      "metadata": {
        "id": "ijXmMVYRG-ky"
      },
      "execution_count": null,
      "outputs": []
    }
  ]
}